{
  "cells": [
    {
      "cell_type": "code",
      "execution_count": null,
      "id": "lesser-classics",
      "metadata": {
        "id": "lesser-classics"
      },
      "outputs": [],
      "source": [
        "import numpy as np\n",
        "import pandas as pd"
      ]
    },
    {
      "cell_type": "code",
      "execution_count": null,
      "id": "signal-circular",
      "metadata": {
        "id": "signal-circular"
      },
      "outputs": [],
      "source": [
        "x = np.array(range(1,11))"
      ]
    },
    {
      "cell_type": "code",
      "execution_count": null,
      "id": "changing-georgia",
      "metadata": {
        "id": "changing-georgia",
        "outputId": "54636a2a-228b-4674-d450-a20d1e5ed11b"
      },
      "outputs": [
        {
          "data": {
            "text/plain": [
              "array([ 1,  2,  3,  4,  5,  6,  7,  8,  9, 10])"
            ]
          },
          "execution_count": 3,
          "metadata": {},
          "output_type": "execute_result"
        }
      ],
      "source": [
        "x"
      ]
    },
    {
      "cell_type": "code",
      "execution_count": null,
      "id": "swedish-rabbit",
      "metadata": {
        "id": "swedish-rabbit"
      },
      "outputs": [],
      "source": [
        "y = np.array([1.5,1.8,2.5,2.3,2.5,3.8,4.1,4.9,5.5,6.8])"
      ]
    },
    {
      "cell_type": "code",
      "execution_count": null,
      "id": "stock-impression",
      "metadata": {
        "id": "stock-impression",
        "outputId": "d720723d-7906-4bf4-e8c0-2c041c13a2e9"
      },
      "outputs": [
        {
          "data": {
            "text/plain": [
              "array([1.5, 1.8, 2.5, 2.3, 2.5, 3.8, 4.1, 4.9, 5.5, 6.8])"
            ]
          },
          "execution_count": 10,
          "metadata": {},
          "output_type": "execute_result"
        }
      ],
      "source": [
        "y"
      ]
    },
    {
      "cell_type": "code",
      "execution_count": null,
      "id": "specialized-oliver",
      "metadata": {
        "id": "specialized-oliver",
        "outputId": "c6cb1d69-7b7c-486f-ab1c-137ef91f2f94"
      },
      "outputs": [
        {
          "data": {
            "text/plain": [
              "array([[1.        , 0.96747495],\n",
              "       [0.96747495, 1.        ]])"
            ]
          },
          "execution_count": 11,
          "metadata": {},
          "output_type": "execute_result"
        }
      ],
      "source": [
        "np.corrcoef(x,y)"
      ]
    },
    {
      "cell_type": "code",
      "execution_count": null,
      "id": "funny-lucas",
      "metadata": {
        "id": "funny-lucas"
      },
      "outputs": [],
      "source": [
        "from scipy.stats import pearsonr"
      ]
    },
    {
      "cell_type": "code",
      "execution_count": null,
      "id": "hired-albert",
      "metadata": {
        "id": "hired-albert",
        "outputId": "992316aa-2abd-4a98-e516-9802a122d253"
      },
      "outputs": [
        {
          "data": {
            "text/plain": [
              "(0.9674749453869214, 4.7075816910970795e-06)"
            ]
          },
          "execution_count": 12,
          "metadata": {},
          "output_type": "execute_result"
        }
      ],
      "source": [
        "pearsonr(x,y) # so p-value here e^-06 means 0.00000470 which is less than 0.05 so the correlation between x and y is significant"
      ]
    },
    {
      "cell_type": "code",
      "execution_count": null,
      "id": "entertaining-credit",
      "metadata": {
        "id": "entertaining-credit"
      },
      "outputs": [],
      "source": [
        "# If data is in ordinal scale then we go for spearman Ranks Correlation\n",
        "# If data is Nominal we go for Kendall Correlation coefficient\n",
        "# Produt Moment Correlation is other name for Kearl Pearsons correlation coefficient"
      ]
    },
    {
      "cell_type": "code",
      "execution_count": null,
      "id": "prospective-david",
      "metadata": {
        "id": "prospective-david"
      },
      "outputs": [],
      "source": [
        "x = np.array([[1,2,3],[4,5,6],[7,8,9]])"
      ]
    },
    {
      "cell_type": "code",
      "execution_count": null,
      "id": "cheap-romantic",
      "metadata": {
        "id": "cheap-romantic",
        "outputId": "d7493b69-fc2a-4591-cb8c-ab70f63c03b9"
      },
      "outputs": [
        {
          "data": {
            "text/plain": [
              "6.66133814775094e-16"
            ]
          },
          "execution_count": 4,
          "metadata": {},
          "output_type": "execute_result"
        }
      ],
      "source": [
        "np.linalg.det(x)"
      ]
    },
    {
      "cell_type": "code",
      "execution_count": null,
      "id": "consistent-commitment",
      "metadata": {
        "id": "consistent-commitment"
      },
      "outputs": [],
      "source": [
        "from sklearn.datasets import load_boston"
      ]
    },
    {
      "cell_type": "code",
      "execution_count": null,
      "id": "meaningful-mouse",
      "metadata": {
        "id": "meaningful-mouse"
      },
      "outputs": [],
      "source": [
        "can = load_boston()"
      ]
    },
    {
      "cell_type": "code",
      "execution_count": null,
      "id": "secure-occurrence",
      "metadata": {
        "id": "secure-occurrence"
      },
      "outputs": [],
      "source": [
        "import pandas as pd"
      ]
    },
    {
      "cell_type": "code",
      "execution_count": null,
      "id": "reliable-pickup",
      "metadata": {
        "id": "reliable-pickup"
      },
      "outputs": [],
      "source": [
        "df = pd.DataFrame(data = can.data,columns= can.feature_names)"
      ]
    },
    {
      "cell_type": "code",
      "execution_count": null,
      "id": "driven-convergence",
      "metadata": {
        "id": "driven-convergence"
      },
      "outputs": [],
      "source": [
        "df['medv'] = can.target"
      ]
    },
    {
      "cell_type": "code",
      "execution_count": null,
      "id": "unknown-present",
      "metadata": {
        "id": "unknown-present",
        "outputId": "9860c263-c43b-4695-957c-603de1047f88"
      },
      "outputs": [
        {
          "data": {
            "text/html": [
              "<div>\n",
              "<style scoped>\n",
              "    .dataframe tbody tr th:only-of-type {\n",
              "        vertical-align: middle;\n",
              "    }\n",
              "\n",
              "    .dataframe tbody tr th {\n",
              "        vertical-align: top;\n",
              "    }\n",
              "\n",
              "    .dataframe thead th {\n",
              "        text-align: right;\n",
              "    }\n",
              "</style>\n",
              "<table border=\"1\" class=\"dataframe\">\n",
              "  <thead>\n",
              "    <tr style=\"text-align: right;\">\n",
              "      <th></th>\n",
              "      <th>CRIM</th>\n",
              "      <th>ZN</th>\n",
              "      <th>INDUS</th>\n",
              "      <th>CHAS</th>\n",
              "      <th>NOX</th>\n",
              "      <th>RM</th>\n",
              "      <th>AGE</th>\n",
              "      <th>DIS</th>\n",
              "      <th>RAD</th>\n",
              "      <th>TAX</th>\n",
              "      <th>PTRATIO</th>\n",
              "      <th>B</th>\n",
              "      <th>LSTAT</th>\n",
              "      <th>medv</th>\n",
              "    </tr>\n",
              "  </thead>\n",
              "  <tbody>\n",
              "    <tr>\n",
              "      <th>0</th>\n",
              "      <td>0.00632</td>\n",
              "      <td>18.0</td>\n",
              "      <td>2.31</td>\n",
              "      <td>0.0</td>\n",
              "      <td>0.538</td>\n",
              "      <td>6.575</td>\n",
              "      <td>65.2</td>\n",
              "      <td>4.0900</td>\n",
              "      <td>1.0</td>\n",
              "      <td>296.0</td>\n",
              "      <td>15.3</td>\n",
              "      <td>396.90</td>\n",
              "      <td>4.98</td>\n",
              "      <td>24.0</td>\n",
              "    </tr>\n",
              "    <tr>\n",
              "      <th>1</th>\n",
              "      <td>0.02731</td>\n",
              "      <td>0.0</td>\n",
              "      <td>7.07</td>\n",
              "      <td>0.0</td>\n",
              "      <td>0.469</td>\n",
              "      <td>6.421</td>\n",
              "      <td>78.9</td>\n",
              "      <td>4.9671</td>\n",
              "      <td>2.0</td>\n",
              "      <td>242.0</td>\n",
              "      <td>17.8</td>\n",
              "      <td>396.90</td>\n",
              "      <td>9.14</td>\n",
              "      <td>21.6</td>\n",
              "    </tr>\n",
              "    <tr>\n",
              "      <th>2</th>\n",
              "      <td>0.02729</td>\n",
              "      <td>0.0</td>\n",
              "      <td>7.07</td>\n",
              "      <td>0.0</td>\n",
              "      <td>0.469</td>\n",
              "      <td>7.185</td>\n",
              "      <td>61.1</td>\n",
              "      <td>4.9671</td>\n",
              "      <td>2.0</td>\n",
              "      <td>242.0</td>\n",
              "      <td>17.8</td>\n",
              "      <td>392.83</td>\n",
              "      <td>4.03</td>\n",
              "      <td>34.7</td>\n",
              "    </tr>\n",
              "    <tr>\n",
              "      <th>3</th>\n",
              "      <td>0.03237</td>\n",
              "      <td>0.0</td>\n",
              "      <td>2.18</td>\n",
              "      <td>0.0</td>\n",
              "      <td>0.458</td>\n",
              "      <td>6.998</td>\n",
              "      <td>45.8</td>\n",
              "      <td>6.0622</td>\n",
              "      <td>3.0</td>\n",
              "      <td>222.0</td>\n",
              "      <td>18.7</td>\n",
              "      <td>394.63</td>\n",
              "      <td>2.94</td>\n",
              "      <td>33.4</td>\n",
              "    </tr>\n",
              "    <tr>\n",
              "      <th>4</th>\n",
              "      <td>0.06905</td>\n",
              "      <td>0.0</td>\n",
              "      <td>2.18</td>\n",
              "      <td>0.0</td>\n",
              "      <td>0.458</td>\n",
              "      <td>7.147</td>\n",
              "      <td>54.2</td>\n",
              "      <td>6.0622</td>\n",
              "      <td>3.0</td>\n",
              "      <td>222.0</td>\n",
              "      <td>18.7</td>\n",
              "      <td>396.90</td>\n",
              "      <td>5.33</td>\n",
              "      <td>36.2</td>\n",
              "    </tr>\n",
              "  </tbody>\n",
              "</table>\n",
              "</div>"
            ],
            "text/plain": [
              "      CRIM    ZN  INDUS  CHAS    NOX     RM   AGE     DIS  RAD    TAX  \\\n",
              "0  0.00632  18.0   2.31   0.0  0.538  6.575  65.2  4.0900  1.0  296.0   \n",
              "1  0.02731   0.0   7.07   0.0  0.469  6.421  78.9  4.9671  2.0  242.0   \n",
              "2  0.02729   0.0   7.07   0.0  0.469  7.185  61.1  4.9671  2.0  242.0   \n",
              "3  0.03237   0.0   2.18   0.0  0.458  6.998  45.8  6.0622  3.0  222.0   \n",
              "4  0.06905   0.0   2.18   0.0  0.458  7.147  54.2  6.0622  3.0  222.0   \n",
              "\n",
              "   PTRATIO       B  LSTAT  medv  \n",
              "0     15.3  396.90   4.98  24.0  \n",
              "1     17.8  396.90   9.14  21.6  \n",
              "2     17.8  392.83   4.03  34.7  \n",
              "3     18.7  394.63   2.94  33.4  \n",
              "4     18.7  396.90   5.33  36.2  "
            ]
          },
          "execution_count": 7,
          "metadata": {},
          "output_type": "execute_result"
        }
      ],
      "source": [
        "df.head()"
      ]
    },
    {
      "cell_type": "code",
      "execution_count": null,
      "id": "exposed-prayer",
      "metadata": {
        "id": "exposed-prayer"
      },
      "outputs": [],
      "source": [
        "from sklearn.model_selection import train_test_split"
      ]
    },
    {
      "cell_type": "code",
      "execution_count": null,
      "id": "equipped-search",
      "metadata": {
        "id": "equipped-search",
        "outputId": "a4d3fb7a-08b4-4475-cfc3-9c11a8ae4be9"
      },
      "outputs": [
        {
          "data": {
            "text/html": [
              "<div>\n",
              "<style scoped>\n",
              "    .dataframe tbody tr th:only-of-type {\n",
              "        vertical-align: middle;\n",
              "    }\n",
              "\n",
              "    .dataframe tbody tr th {\n",
              "        vertical-align: top;\n",
              "    }\n",
              "\n",
              "    .dataframe thead th {\n",
              "        text-align: right;\n",
              "    }\n",
              "</style>\n",
              "<table border=\"1\" class=\"dataframe\">\n",
              "  <thead>\n",
              "    <tr style=\"text-align: right;\">\n",
              "      <th></th>\n",
              "      <th>CRIM</th>\n",
              "      <th>ZN</th>\n",
              "      <th>INDUS</th>\n",
              "      <th>CHAS</th>\n",
              "      <th>NOX</th>\n",
              "      <th>RM</th>\n",
              "      <th>AGE</th>\n",
              "      <th>DIS</th>\n",
              "      <th>RAD</th>\n",
              "      <th>TAX</th>\n",
              "      <th>PTRATIO</th>\n",
              "      <th>B</th>\n",
              "      <th>LSTAT</th>\n",
              "    </tr>\n",
              "  </thead>\n",
              "  <tbody>\n",
              "    <tr>\n",
              "      <th>0</th>\n",
              "      <td>0.00632</td>\n",
              "      <td>18.0</td>\n",
              "      <td>2.31</td>\n",
              "      <td>0.0</td>\n",
              "      <td>0.538</td>\n",
              "      <td>6.575</td>\n",
              "      <td>65.2</td>\n",
              "      <td>4.0900</td>\n",
              "      <td>1.0</td>\n",
              "      <td>296.0</td>\n",
              "      <td>15.3</td>\n",
              "      <td>396.90</td>\n",
              "      <td>4.98</td>\n",
              "    </tr>\n",
              "    <tr>\n",
              "      <th>1</th>\n",
              "      <td>0.02731</td>\n",
              "      <td>0.0</td>\n",
              "      <td>7.07</td>\n",
              "      <td>0.0</td>\n",
              "      <td>0.469</td>\n",
              "      <td>6.421</td>\n",
              "      <td>78.9</td>\n",
              "      <td>4.9671</td>\n",
              "      <td>2.0</td>\n",
              "      <td>242.0</td>\n",
              "      <td>17.8</td>\n",
              "      <td>396.90</td>\n",
              "      <td>9.14</td>\n",
              "    </tr>\n",
              "    <tr>\n",
              "      <th>2</th>\n",
              "      <td>0.02729</td>\n",
              "      <td>0.0</td>\n",
              "      <td>7.07</td>\n",
              "      <td>0.0</td>\n",
              "      <td>0.469</td>\n",
              "      <td>7.185</td>\n",
              "      <td>61.1</td>\n",
              "      <td>4.9671</td>\n",
              "      <td>2.0</td>\n",
              "      <td>242.0</td>\n",
              "      <td>17.8</td>\n",
              "      <td>392.83</td>\n",
              "      <td>4.03</td>\n",
              "    </tr>\n",
              "    <tr>\n",
              "      <th>3</th>\n",
              "      <td>0.03237</td>\n",
              "      <td>0.0</td>\n",
              "      <td>2.18</td>\n",
              "      <td>0.0</td>\n",
              "      <td>0.458</td>\n",
              "      <td>6.998</td>\n",
              "      <td>45.8</td>\n",
              "      <td>6.0622</td>\n",
              "      <td>3.0</td>\n",
              "      <td>222.0</td>\n",
              "      <td>18.7</td>\n",
              "      <td>394.63</td>\n",
              "      <td>2.94</td>\n",
              "    </tr>\n",
              "    <tr>\n",
              "      <th>4</th>\n",
              "      <td>0.06905</td>\n",
              "      <td>0.0</td>\n",
              "      <td>2.18</td>\n",
              "      <td>0.0</td>\n",
              "      <td>0.458</td>\n",
              "      <td>7.147</td>\n",
              "      <td>54.2</td>\n",
              "      <td>6.0622</td>\n",
              "      <td>3.0</td>\n",
              "      <td>222.0</td>\n",
              "      <td>18.7</td>\n",
              "      <td>396.90</td>\n",
              "      <td>5.33</td>\n",
              "    </tr>\n",
              "    <tr>\n",
              "      <th>...</th>\n",
              "      <td>...</td>\n",
              "      <td>...</td>\n",
              "      <td>...</td>\n",
              "      <td>...</td>\n",
              "      <td>...</td>\n",
              "      <td>...</td>\n",
              "      <td>...</td>\n",
              "      <td>...</td>\n",
              "      <td>...</td>\n",
              "      <td>...</td>\n",
              "      <td>...</td>\n",
              "      <td>...</td>\n",
              "      <td>...</td>\n",
              "    </tr>\n",
              "    <tr>\n",
              "      <th>501</th>\n",
              "      <td>0.06263</td>\n",
              "      <td>0.0</td>\n",
              "      <td>11.93</td>\n",
              "      <td>0.0</td>\n",
              "      <td>0.573</td>\n",
              "      <td>6.593</td>\n",
              "      <td>69.1</td>\n",
              "      <td>2.4786</td>\n",
              "      <td>1.0</td>\n",
              "      <td>273.0</td>\n",
              "      <td>21.0</td>\n",
              "      <td>391.99</td>\n",
              "      <td>9.67</td>\n",
              "    </tr>\n",
              "    <tr>\n",
              "      <th>502</th>\n",
              "      <td>0.04527</td>\n",
              "      <td>0.0</td>\n",
              "      <td>11.93</td>\n",
              "      <td>0.0</td>\n",
              "      <td>0.573</td>\n",
              "      <td>6.120</td>\n",
              "      <td>76.7</td>\n",
              "      <td>2.2875</td>\n",
              "      <td>1.0</td>\n",
              "      <td>273.0</td>\n",
              "      <td>21.0</td>\n",
              "      <td>396.90</td>\n",
              "      <td>9.08</td>\n",
              "    </tr>\n",
              "    <tr>\n",
              "      <th>503</th>\n",
              "      <td>0.06076</td>\n",
              "      <td>0.0</td>\n",
              "      <td>11.93</td>\n",
              "      <td>0.0</td>\n",
              "      <td>0.573</td>\n",
              "      <td>6.976</td>\n",
              "      <td>91.0</td>\n",
              "      <td>2.1675</td>\n",
              "      <td>1.0</td>\n",
              "      <td>273.0</td>\n",
              "      <td>21.0</td>\n",
              "      <td>396.90</td>\n",
              "      <td>5.64</td>\n",
              "    </tr>\n",
              "    <tr>\n",
              "      <th>504</th>\n",
              "      <td>0.10959</td>\n",
              "      <td>0.0</td>\n",
              "      <td>11.93</td>\n",
              "      <td>0.0</td>\n",
              "      <td>0.573</td>\n",
              "      <td>6.794</td>\n",
              "      <td>89.3</td>\n",
              "      <td>2.3889</td>\n",
              "      <td>1.0</td>\n",
              "      <td>273.0</td>\n",
              "      <td>21.0</td>\n",
              "      <td>393.45</td>\n",
              "      <td>6.48</td>\n",
              "    </tr>\n",
              "    <tr>\n",
              "      <th>505</th>\n",
              "      <td>0.04741</td>\n",
              "      <td>0.0</td>\n",
              "      <td>11.93</td>\n",
              "      <td>0.0</td>\n",
              "      <td>0.573</td>\n",
              "      <td>6.030</td>\n",
              "      <td>80.8</td>\n",
              "      <td>2.5050</td>\n",
              "      <td>1.0</td>\n",
              "      <td>273.0</td>\n",
              "      <td>21.0</td>\n",
              "      <td>396.90</td>\n",
              "      <td>7.88</td>\n",
              "    </tr>\n",
              "  </tbody>\n",
              "</table>\n",
              "<p>506 rows × 13 columns</p>\n",
              "</div>"
            ],
            "text/plain": [
              "        CRIM    ZN  INDUS  CHAS    NOX     RM   AGE     DIS  RAD    TAX  \\\n",
              "0    0.00632  18.0   2.31   0.0  0.538  6.575  65.2  4.0900  1.0  296.0   \n",
              "1    0.02731   0.0   7.07   0.0  0.469  6.421  78.9  4.9671  2.0  242.0   \n",
              "2    0.02729   0.0   7.07   0.0  0.469  7.185  61.1  4.9671  2.0  242.0   \n",
              "3    0.03237   0.0   2.18   0.0  0.458  6.998  45.8  6.0622  3.0  222.0   \n",
              "4    0.06905   0.0   2.18   0.0  0.458  7.147  54.2  6.0622  3.0  222.0   \n",
              "..       ...   ...    ...   ...    ...    ...   ...     ...  ...    ...   \n",
              "501  0.06263   0.0  11.93   0.0  0.573  6.593  69.1  2.4786  1.0  273.0   \n",
              "502  0.04527   0.0  11.93   0.0  0.573  6.120  76.7  2.2875  1.0  273.0   \n",
              "503  0.06076   0.0  11.93   0.0  0.573  6.976  91.0  2.1675  1.0  273.0   \n",
              "504  0.10959   0.0  11.93   0.0  0.573  6.794  89.3  2.3889  1.0  273.0   \n",
              "505  0.04741   0.0  11.93   0.0  0.573  6.030  80.8  2.5050  1.0  273.0   \n",
              "\n",
              "     PTRATIO       B  LSTAT  \n",
              "0       15.3  396.90   4.98  \n",
              "1       17.8  396.90   9.14  \n",
              "2       17.8  392.83   4.03  \n",
              "3       18.7  394.63   2.94  \n",
              "4       18.7  396.90   5.33  \n",
              "..       ...     ...    ...  \n",
              "501     21.0  391.99   9.67  \n",
              "502     21.0  396.90   9.08  \n",
              "503     21.0  396.90   5.64  \n",
              "504     21.0  393.45   6.48  \n",
              "505     21.0  396.90   7.88  \n",
              "\n",
              "[506 rows x 13 columns]"
            ]
          },
          "execution_count": 21,
          "metadata": {},
          "output_type": "execute_result"
        }
      ],
      "source": [
        "x = df.iloc[:,:-1]\n",
        "x"
      ]
    },
    {
      "cell_type": "code",
      "execution_count": null,
      "id": "artificial-bible",
      "metadata": {
        "id": "artificial-bible",
        "outputId": "3e8d4d7c-3a6c-4407-dc15-198100a7cf9b"
      },
      "outputs": [
        {
          "data": {
            "text/plain": [
              "0      24.0\n",
              "1      21.6\n",
              "2      34.7\n",
              "3      33.4\n",
              "4      36.2\n",
              "       ... \n",
              "501    22.4\n",
              "502    20.6\n",
              "503    23.9\n",
              "504    22.0\n",
              "505    11.9\n",
              "Name: medv, Length: 506, dtype: float64"
            ]
          },
          "execution_count": 22,
          "metadata": {},
          "output_type": "execute_result"
        }
      ],
      "source": [
        "y = df.iloc[:,-1]\n",
        "y"
      ]
    },
    {
      "cell_type": "code",
      "execution_count": null,
      "id": "invisible-diesel",
      "metadata": {
        "id": "invisible-diesel"
      },
      "outputs": [],
      "source": [
        "x_train,x_test,y_train,y_test = train_test_split(x,y,test_size=0.3,random_state=0)"
      ]
    },
    {
      "cell_type": "code",
      "execution_count": null,
      "id": "unable-tourist",
      "metadata": {
        "id": "unable-tourist",
        "outputId": "faba18e2-6349-4c68-ba23-71a232853162"
      },
      "outputs": [
        {
          "data": {
            "text/plain": [
              "(354, 13)"
            ]
          },
          "execution_count": 25,
          "metadata": {},
          "output_type": "execute_result"
        }
      ],
      "source": [
        "x_train.shape"
      ]
    },
    {
      "cell_type": "code",
      "execution_count": null,
      "id": "coral-bulletin",
      "metadata": {
        "id": "coral-bulletin",
        "outputId": "8090a31a-c964-4f1b-a1e6-5cc3a68bf5d9"
      },
      "outputs": [
        {
          "data": {
            "text/plain": [
              "(354,)"
            ]
          },
          "execution_count": 26,
          "metadata": {},
          "output_type": "execute_result"
        }
      ],
      "source": [
        "y_train.shape"
      ]
    },
    {
      "cell_type": "code",
      "execution_count": null,
      "id": "respected-notification",
      "metadata": {
        "id": "respected-notification",
        "outputId": "42cd63de-8967-44bf-ad3a-f798afba838c"
      },
      "outputs": [
        {
          "data": {
            "text/plain": [
              "(152, 13)"
            ]
          },
          "execution_count": 27,
          "metadata": {},
          "output_type": "execute_result"
        }
      ],
      "source": [
        "x_test.shape"
      ]
    },
    {
      "cell_type": "code",
      "execution_count": null,
      "id": "attempted-baptist",
      "metadata": {
        "id": "attempted-baptist",
        "outputId": "5b76ce62-7b7b-4f57-ce8a-9a7f54f2e0a2"
      },
      "outputs": [
        {
          "data": {
            "text/plain": [
              "(152,)"
            ]
          },
          "execution_count": 28,
          "metadata": {},
          "output_type": "execute_result"
        }
      ],
      "source": [
        "y_test.shape"
      ]
    },
    {
      "cell_type": "code",
      "execution_count": null,
      "id": "vertical-tower",
      "metadata": {
        "id": "vertical-tower",
        "outputId": "dc9f4795-ee98-4cb1-bf8b-5e06ba4a06ef"
      },
      "outputs": [
        {
          "data": {
            "text/plain": [
              "0"
            ]
          },
          "execution_count": 30,
          "metadata": {},
          "output_type": "execute_result"
        }
      ],
      "source": [
        "df.isnull().sum().sum()"
      ]
    },
    {
      "cell_type": "code",
      "execution_count": null,
      "id": "impressive-exemption",
      "metadata": {
        "id": "impressive-exemption"
      },
      "outputs": [],
      "source": [
        "def outlier(x):\n",
        "    out = []\n",
        "    q1 = x.quantile(0.25)\n",
        "    q2 = x.quantile(0.50)\n",
        "    q3 = x.quantile(0.75)\n",
        "    iqr = q3 - q1\n",
        "    up_lim = q3 + (1.5*iqr)\n",
        "    low_lim = q1 - (1.5*iqr)\n",
        "    for i,j in enumerate(x):\n",
        "        if (j > up_lim) | (j < low_lim):\n",
        "            out.append(i)\n",
        "    return out            "
      ]
    },
    {
      "cell_type": "code",
      "execution_count": null,
      "id": "happy-scheduling",
      "metadata": {
        "id": "happy-scheduling",
        "outputId": "7f344cb2-747c-48ed-f43e-bd7939d46156"
      },
      "outputs": [
        {
          "data": {
            "text/plain": [
              "[97,\n",
              " 98,\n",
              " 157,\n",
              " 161,\n",
              " 162,\n",
              " 163,\n",
              " 166,\n",
              " 179,\n",
              " 180,\n",
              " 182,\n",
              " 186,\n",
              " 190,\n",
              " 195,\n",
              " 202,\n",
              " 203,\n",
              " 204,\n",
              " 224,\n",
              " 225,\n",
              " 226,\n",
              " 228,\n",
              " 232,\n",
              " 233,\n",
              " 253,\n",
              " 256,\n",
              " 257,\n",
              " 261,\n",
              " 262,\n",
              " 267,\n",
              " 268,\n",
              " 280,\n",
              " 282,\n",
              " 283,\n",
              " 291,\n",
              " 368,\n",
              " 369,\n",
              " 370,\n",
              " 371,\n",
              " 372,\n",
              " 398,\n",
              " 405]"
            ]
          },
          "execution_count": 37,
          "metadata": {},
          "output_type": "execute_result"
        }
      ],
      "source": [
        "outlier(df['medv'])"
      ]
    },
    {
      "cell_type": "code",
      "execution_count": null,
      "id": "antique-price",
      "metadata": {
        "id": "antique-price"
      },
      "outputs": [],
      "source": [
        "def zscore(x):\n",
        "    out = []\n",
        "    mu = x.mean()\n",
        "    standev = x.std()\n",
        "    for i,j in enumerate(x):\n",
        "        k = (j - mu)/standev\n",
        "        if (k > 3) | (k < -3):\n",
        "            out.append(i)\n",
        "    return out        "
      ]
    },
    {
      "cell_type": "code",
      "execution_count": null,
      "id": "separated-nelson",
      "metadata": {
        "id": "separated-nelson",
        "outputId": "dda7f838-6d4c-4cd3-c98d-c902d9568280"
      },
      "outputs": [
        {
          "data": {
            "text/plain": [
              "[]"
            ]
          },
          "execution_count": 42,
          "metadata": {},
          "output_type": "execute_result"
        }
      ],
      "source": [
        "zscore(df.medv) # Zscore will now show outlier since skewness is less it will show only when skewness is large"
      ]
    },
    {
      "cell_type": "code",
      "execution_count": null,
      "id": "binding-memphis",
      "metadata": {
        "id": "binding-memphis"
      },
      "outputs": [],
      "source": [
        "df_1 = df.drop(outlier(df['medv']))"
      ]
    },
    {
      "cell_type": "code",
      "execution_count": null,
      "id": "enhanced-compensation",
      "metadata": {
        "id": "enhanced-compensation",
        "outputId": "6f73fe83-e26f-40ce-f640-5473b2bb1736"
      },
      "outputs": [
        {
          "data": {
            "text/plain": [
              "((466, 14), (506, 14))"
            ]
          },
          "execution_count": 47,
          "metadata": {},
          "output_type": "execute_result"
        }
      ],
      "source": [
        "df_1.shape,df.shape"
      ]
    },
    {
      "cell_type": "code",
      "execution_count": null,
      "id": "anticipated-ghost",
      "metadata": {
        "id": "anticipated-ghost"
      },
      "outputs": [],
      "source": [
        "x = df_1.iloc[:,:-1]\n",
        "y = df_1.iloc[:,-1]"
      ]
    },
    {
      "cell_type": "code",
      "execution_count": null,
      "id": "worth-tiger",
      "metadata": {
        "id": "worth-tiger"
      },
      "outputs": [],
      "source": [
        "x_train,x_test,y_train,y_test = train_test_split(x,y,train_size = 0.7,random_state = 0)"
      ]
    },
    {
      "cell_type": "code",
      "execution_count": null,
      "id": "medium-gender",
      "metadata": {
        "id": "medium-gender",
        "outputId": "7ef00628-8598-4f8c-f707-67e44f4b39fd"
      },
      "outputs": [
        {
          "data": {
            "text/plain": [
              "((326, 13), (326,))"
            ]
          },
          "execution_count": 50,
          "metadata": {},
          "output_type": "execute_result"
        }
      ],
      "source": [
        "x_train.shape,y_train.shape"
      ]
    },
    {
      "cell_type": "code",
      "execution_count": null,
      "id": "naughty-bathroom",
      "metadata": {
        "id": "naughty-bathroom"
      },
      "outputs": [],
      "source": [
        "from sklearn.linear_model import LinearRegression"
      ]
    },
    {
      "cell_type": "code",
      "execution_count": null,
      "id": "understood-conversation",
      "metadata": {
        "id": "understood-conversation"
      },
      "outputs": [],
      "source": [
        "lmodel = LinearRegression()"
      ]
    },
    {
      "cell_type": "code",
      "execution_count": null,
      "id": "cutting-patent",
      "metadata": {
        "id": "cutting-patent",
        "outputId": "b3ee6881-301d-4c46-fb4f-7f5e4ab5b435"
      },
      "outputs": [
        {
          "data": {
            "text/plain": [
              "LinearRegression()"
            ]
          },
          "execution_count": 54,
          "metadata": {},
          "output_type": "execute_result"
        }
      ],
      "source": [
        "lmodel.fit(x_train,y_train)"
      ]
    },
    {
      "cell_type": "code",
      "execution_count": null,
      "id": "lonely-crown",
      "metadata": {
        "id": "lonely-crown",
        "outputId": "edda9283-92dc-4cc3-a552-0039732b3696"
      },
      "outputs": [
        {
          "data": {
            "text/plain": [
              "array([-1.21213498e-01,  4.00319102e-02, -5.31177832e-02,  1.46950789e+00,\n",
              "       -1.10659564e+01,  1.90606341e+00, -2.50256867e-02, -1.24184194e+00,\n",
              "        2.02732978e-01, -1.03844611e-02, -6.91807487e-01,  8.60660079e-03,\n",
              "       -4.05648086e-01])"
            ]
          },
          "execution_count": 55,
          "metadata": {},
          "output_type": "execute_result"
        }
      ],
      "source": [
        "lmodel.coef_"
      ]
    },
    {
      "cell_type": "code",
      "execution_count": null,
      "id": "federal-prize",
      "metadata": {
        "id": "federal-prize"
      },
      "outputs": [],
      "source": [
        "coeff = pd.DataFrame(data=lmodel.coef_,index=x_train.columns, columns= ['Coefficients'])"
      ]
    },
    {
      "cell_type": "code",
      "execution_count": null,
      "id": "analyzed-bedroom",
      "metadata": {
        "id": "analyzed-bedroom",
        "outputId": "9f854b7e-40f6-4f93-c259-01965349e0b7"
      },
      "outputs": [
        {
          "data": {
            "text/html": [
              "<div>\n",
              "<style scoped>\n",
              "    .dataframe tbody tr th:only-of-type {\n",
              "        vertical-align: middle;\n",
              "    }\n",
              "\n",
              "    .dataframe tbody tr th {\n",
              "        vertical-align: top;\n",
              "    }\n",
              "\n",
              "    .dataframe thead th {\n",
              "        text-align: right;\n",
              "    }\n",
              "</style>\n",
              "<table border=\"1\" class=\"dataframe\">\n",
              "  <thead>\n",
              "    <tr style=\"text-align: right;\">\n",
              "      <th></th>\n",
              "      <th>Coefficients</th>\n",
              "    </tr>\n",
              "  </thead>\n",
              "  <tbody>\n",
              "    <tr>\n",
              "      <th>CRIM</th>\n",
              "      <td>-0.121213</td>\n",
              "    </tr>\n",
              "    <tr>\n",
              "      <th>ZN</th>\n",
              "      <td>0.040032</td>\n",
              "    </tr>\n",
              "    <tr>\n",
              "      <th>INDUS</th>\n",
              "      <td>-0.053118</td>\n",
              "    </tr>\n",
              "    <tr>\n",
              "      <th>CHAS</th>\n",
              "      <td>1.469508</td>\n",
              "    </tr>\n",
              "    <tr>\n",
              "      <th>NOX</th>\n",
              "      <td>-11.065956</td>\n",
              "    </tr>\n",
              "    <tr>\n",
              "      <th>RM</th>\n",
              "      <td>1.906063</td>\n",
              "    </tr>\n",
              "    <tr>\n",
              "      <th>AGE</th>\n",
              "      <td>-0.025026</td>\n",
              "    </tr>\n",
              "    <tr>\n",
              "      <th>DIS</th>\n",
              "      <td>-1.241842</td>\n",
              "    </tr>\n",
              "    <tr>\n",
              "      <th>RAD</th>\n",
              "      <td>0.202733</td>\n",
              "    </tr>\n",
              "    <tr>\n",
              "      <th>TAX</th>\n",
              "      <td>-0.010384</td>\n",
              "    </tr>\n",
              "    <tr>\n",
              "      <th>PTRATIO</th>\n",
              "      <td>-0.691807</td>\n",
              "    </tr>\n",
              "    <tr>\n",
              "      <th>B</th>\n",
              "      <td>0.008607</td>\n",
              "    </tr>\n",
              "    <tr>\n",
              "      <th>LSTAT</th>\n",
              "      <td>-0.405648</td>\n",
              "    </tr>\n",
              "  </tbody>\n",
              "</table>\n",
              "</div>"
            ],
            "text/plain": [
              "         Coefficients\n",
              "CRIM        -0.121213\n",
              "ZN           0.040032\n",
              "INDUS       -0.053118\n",
              "CHAS         1.469508\n",
              "NOX        -11.065956\n",
              "RM           1.906063\n",
              "AGE         -0.025026\n",
              "DIS         -1.241842\n",
              "RAD          0.202733\n",
              "TAX         -0.010384\n",
              "PTRATIO     -0.691807\n",
              "B            0.008607\n",
              "LSTAT       -0.405648"
            ]
          },
          "execution_count": 60,
          "metadata": {},
          "output_type": "execute_result"
        }
      ],
      "source": [
        "coeff"
      ]
    },
    {
      "cell_type": "code",
      "execution_count": null,
      "id": "ethical-proxy",
      "metadata": {
        "id": "ethical-proxy",
        "outputId": "5563b7cc-0417-4a48-894f-bfaf12fc3700"
      },
      "outputs": [
        {
          "data": {
            "text/plain": [
              "39.690793086069185"
            ]
          },
          "execution_count": 61,
          "metadata": {},
          "output_type": "execute_result"
        }
      ],
      "source": [
        "lmodel.intercept_"
      ]
    },
    {
      "cell_type": "code",
      "execution_count": null,
      "id": "muslim-columbia",
      "metadata": {
        "id": "muslim-columbia"
      },
      "outputs": [],
      "source": [
        "pred_train = lmodel.predict(x_train)\n",
        "pred_test = lmodel.predict(x_test)"
      ]
    },
    {
      "cell_type": "code",
      "execution_count": null,
      "id": "interstate-burns",
      "metadata": {
        "id": "interstate-burns"
      },
      "outputs": [],
      "source": [
        "import numpy as np\n",
        "from sklearn.metrics import mean_squared_error"
      ]
    },
    {
      "cell_type": "code",
      "execution_count": null,
      "id": "dress-baghdad",
      "metadata": {
        "id": "dress-baghdad"
      },
      "outputs": [],
      "source": [
        "rmse_test = np.sqrt(mean_squared_error(y_test,pred_test))\n",
        "rmse_train = np.sqrt(mean_squared_error(y_train,pred_train))"
      ]
    },
    {
      "cell_type": "code",
      "execution_count": null,
      "id": "engaging-offense",
      "metadata": {
        "id": "engaging-offense",
        "outputId": "201ff0ff-88c8-4c9d-fc2f-abc9db960afb"
      },
      "outputs": [
        {
          "name": "stdout",
          "output_type": "stream",
          "text": [
            "RMSE for Train 2.9799706683277045\n",
            "RMSE for Test 3.5758338401359366\n"
          ]
        }
      ],
      "source": [
        "print('RMSE for Train',rmse_train)\n",
        "print('RMSE for Test',rmse_test)"
      ]
    },
    {
      "cell_type": "code",
      "execution_count": null,
      "id": "irish-crossing",
      "metadata": {
        "id": "irish-crossing"
      },
      "outputs": [],
      "source": [
        "df.to_excel(\"boston.xlsx\")"
      ]
    },
    {
      "cell_type": "code",
      "execution_count": null,
      "id": "subsequent-garlic",
      "metadata": {
        "id": "subsequent-garlic"
      },
      "outputs": [],
      "source": [
        "df.to_csv('Boston_Housing.csv')"
      ]
    },
    {
      "cell_type": "markdown",
      "id": "prerequisite-devil",
      "metadata": {
        "id": "prerequisite-devil"
      },
      "source": [
        "# 9/4/20 79th video"
      ]
    },
    {
      "cell_type": "code",
      "execution_count": null,
      "id": "protected-action",
      "metadata": {
        "id": "protected-action"
      },
      "outputs": [],
      "source": [
        "from sklearn.datasets import load_boston\n",
        "import pandas as pd\n",
        "import numpy as np"
      ]
    },
    {
      "cell_type": "code",
      "execution_count": null,
      "id": "decent-plastic",
      "metadata": {
        "id": "decent-plastic"
      },
      "outputs": [],
      "source": [
        "bost = load_boston()"
      ]
    },
    {
      "cell_type": "code",
      "execution_count": null,
      "id": "indie-gross",
      "metadata": {
        "id": "indie-gross"
      },
      "outputs": [],
      "source": [
        "df = pd.DataFrame(data=bost.data,columns=bost.feature_names)"
      ]
    },
    {
      "cell_type": "code",
      "execution_count": null,
      "id": "sunset-electric",
      "metadata": {
        "id": "sunset-electric"
      },
      "outputs": [],
      "source": [
        "df['medv'] = bost.target"
      ]
    },
    {
      "cell_type": "code",
      "execution_count": null,
      "id": "usual-constraint",
      "metadata": {
        "id": "usual-constraint",
        "outputId": "9db29604-4d9b-4d53-8cf6-40672a2a23ca"
      },
      "outputs": [
        {
          "data": {
            "text/html": [
              "<div>\n",
              "<style scoped>\n",
              "    .dataframe tbody tr th:only-of-type {\n",
              "        vertical-align: middle;\n",
              "    }\n",
              "\n",
              "    .dataframe tbody tr th {\n",
              "        vertical-align: top;\n",
              "    }\n",
              "\n",
              "    .dataframe thead th {\n",
              "        text-align: right;\n",
              "    }\n",
              "</style>\n",
              "<table border=\"1\" class=\"dataframe\">\n",
              "  <thead>\n",
              "    <tr style=\"text-align: right;\">\n",
              "      <th></th>\n",
              "      <th>CRIM</th>\n",
              "      <th>ZN</th>\n",
              "      <th>INDUS</th>\n",
              "      <th>CHAS</th>\n",
              "      <th>NOX</th>\n",
              "      <th>RM</th>\n",
              "      <th>AGE</th>\n",
              "      <th>DIS</th>\n",
              "      <th>RAD</th>\n",
              "      <th>TAX</th>\n",
              "      <th>PTRATIO</th>\n",
              "      <th>B</th>\n",
              "      <th>LSTAT</th>\n",
              "      <th>medv</th>\n",
              "    </tr>\n",
              "  </thead>\n",
              "  <tbody>\n",
              "    <tr>\n",
              "      <th>0</th>\n",
              "      <td>0.00632</td>\n",
              "      <td>18.0</td>\n",
              "      <td>2.31</td>\n",
              "      <td>0.0</td>\n",
              "      <td>0.538</td>\n",
              "      <td>6.575</td>\n",
              "      <td>65.2</td>\n",
              "      <td>4.0900</td>\n",
              "      <td>1.0</td>\n",
              "      <td>296.0</td>\n",
              "      <td>15.3</td>\n",
              "      <td>396.90</td>\n",
              "      <td>4.98</td>\n",
              "      <td>24.0</td>\n",
              "    </tr>\n",
              "    <tr>\n",
              "      <th>1</th>\n",
              "      <td>0.02731</td>\n",
              "      <td>0.0</td>\n",
              "      <td>7.07</td>\n",
              "      <td>0.0</td>\n",
              "      <td>0.469</td>\n",
              "      <td>6.421</td>\n",
              "      <td>78.9</td>\n",
              "      <td>4.9671</td>\n",
              "      <td>2.0</td>\n",
              "      <td>242.0</td>\n",
              "      <td>17.8</td>\n",
              "      <td>396.90</td>\n",
              "      <td>9.14</td>\n",
              "      <td>21.6</td>\n",
              "    </tr>\n",
              "    <tr>\n",
              "      <th>2</th>\n",
              "      <td>0.02729</td>\n",
              "      <td>0.0</td>\n",
              "      <td>7.07</td>\n",
              "      <td>0.0</td>\n",
              "      <td>0.469</td>\n",
              "      <td>7.185</td>\n",
              "      <td>61.1</td>\n",
              "      <td>4.9671</td>\n",
              "      <td>2.0</td>\n",
              "      <td>242.0</td>\n",
              "      <td>17.8</td>\n",
              "      <td>392.83</td>\n",
              "      <td>4.03</td>\n",
              "      <td>34.7</td>\n",
              "    </tr>\n",
              "    <tr>\n",
              "      <th>3</th>\n",
              "      <td>0.03237</td>\n",
              "      <td>0.0</td>\n",
              "      <td>2.18</td>\n",
              "      <td>0.0</td>\n",
              "      <td>0.458</td>\n",
              "      <td>6.998</td>\n",
              "      <td>45.8</td>\n",
              "      <td>6.0622</td>\n",
              "      <td>3.0</td>\n",
              "      <td>222.0</td>\n",
              "      <td>18.7</td>\n",
              "      <td>394.63</td>\n",
              "      <td>2.94</td>\n",
              "      <td>33.4</td>\n",
              "    </tr>\n",
              "    <tr>\n",
              "      <th>4</th>\n",
              "      <td>0.06905</td>\n",
              "      <td>0.0</td>\n",
              "      <td>2.18</td>\n",
              "      <td>0.0</td>\n",
              "      <td>0.458</td>\n",
              "      <td>7.147</td>\n",
              "      <td>54.2</td>\n",
              "      <td>6.0622</td>\n",
              "      <td>3.0</td>\n",
              "      <td>222.0</td>\n",
              "      <td>18.7</td>\n",
              "      <td>396.90</td>\n",
              "      <td>5.33</td>\n",
              "      <td>36.2</td>\n",
              "    </tr>\n",
              "  </tbody>\n",
              "</table>\n",
              "</div>"
            ],
            "text/plain": [
              "      CRIM    ZN  INDUS  CHAS    NOX     RM   AGE     DIS  RAD    TAX  \\\n",
              "0  0.00632  18.0   2.31   0.0  0.538  6.575  65.2  4.0900  1.0  296.0   \n",
              "1  0.02731   0.0   7.07   0.0  0.469  6.421  78.9  4.9671  2.0  242.0   \n",
              "2  0.02729   0.0   7.07   0.0  0.469  7.185  61.1  4.9671  2.0  242.0   \n",
              "3  0.03237   0.0   2.18   0.0  0.458  6.998  45.8  6.0622  3.0  222.0   \n",
              "4  0.06905   0.0   2.18   0.0  0.458  7.147  54.2  6.0622  3.0  222.0   \n",
              "\n",
              "   PTRATIO       B  LSTAT  medv  \n",
              "0     15.3  396.90   4.98  24.0  \n",
              "1     17.8  396.90   9.14  21.6  \n",
              "2     17.8  392.83   4.03  34.7  \n",
              "3     18.7  394.63   2.94  33.4  \n",
              "4     18.7  396.90   5.33  36.2  "
            ]
          },
          "execution_count": 7,
          "metadata": {},
          "output_type": "execute_result"
        }
      ],
      "source": [
        "df.head()"
      ]
    },
    {
      "cell_type": "code",
      "execution_count": null,
      "id": "bearing-professional",
      "metadata": {
        "id": "bearing-professional"
      },
      "outputs": [],
      "source": [
        "# Here CHAS shoud be catogorical but since it is 1 and 0 it is coming as float\n",
        "# Object mean it can allow null values we can do mathematical ooperations on it\n",
        "# Catogorical wont allow null values in it we can do mathematical operations on it"
      ]
    },
    {
      "cell_type": "code",
      "execution_count": null,
      "id": "celtic-michael",
      "metadata": {
        "id": "celtic-michael",
        "outputId": "b2314ae6-01ca-4d38-f351-f806974f0cee"
      },
      "outputs": [
        {
          "data": {
            "text/plain": [
              "CRIM       float64\n",
              "ZN         float64\n",
              "INDUS      float64\n",
              "CHAS       float64\n",
              "NOX        float64\n",
              "RM         float64\n",
              "AGE        float64\n",
              "DIS        float64\n",
              "RAD        float64\n",
              "TAX        float64\n",
              "PTRATIO    float64\n",
              "B          float64\n",
              "LSTAT      float64\n",
              "medv       float64\n",
              "dtype: object"
            ]
          },
          "execution_count": 9,
          "metadata": {},
          "output_type": "execute_result"
        }
      ],
      "source": [
        "df.dtypes"
      ]
    },
    {
      "cell_type": "code",
      "execution_count": null,
      "id": "distant-chair",
      "metadata": {
        "id": "distant-chair",
        "outputId": "b16adbd0-0b3e-48e0-d1e9-eaf879298e90"
      },
      "outputs": [
        {
          "name": "stdout",
          "output_type": "stream",
          "text": [
            "<class 'pandas.core.frame.DataFrame'>\n",
            "RangeIndex: 506 entries, 0 to 505\n",
            "Data columns (total 14 columns):\n",
            " #   Column   Non-Null Count  Dtype  \n",
            "---  ------   --------------  -----  \n",
            " 0   CRIM     506 non-null    float64\n",
            " 1   ZN       506 non-null    float64\n",
            " 2   INDUS    506 non-null    float64\n",
            " 3   CHAS     506 non-null    float64\n",
            " 4   NOX      506 non-null    float64\n",
            " 5   RM       506 non-null    float64\n",
            " 6   AGE      506 non-null    float64\n",
            " 7   DIS      506 non-null    float64\n",
            " 8   RAD      506 non-null    float64\n",
            " 9   TAX      506 non-null    float64\n",
            " 10  PTRATIO  506 non-null    float64\n",
            " 11  B        506 non-null    float64\n",
            " 12  LSTAT    506 non-null    float64\n",
            " 13  medv     506 non-null    float64\n",
            "dtypes: float64(14)\n",
            "memory usage: 55.5 KB\n"
          ]
        }
      ],
      "source": [
        "df.info()"
      ]
    },
    {
      "cell_type": "code",
      "execution_count": null,
      "id": "permanent-facial",
      "metadata": {
        "id": "permanent-facial"
      },
      "outputs": [],
      "source": [
        "cat_col = list(map(lambda x:x.lower(),df.columns))"
      ]
    },
    {
      "cell_type": "code",
      "execution_count": null,
      "id": "presidential-monkey",
      "metadata": {
        "id": "presidential-monkey",
        "outputId": "beb444f7-9ef0-4450-d040-2ae9d31bdac4"
      },
      "outputs": [
        {
          "data": {
            "text/plain": [
              "['crim',\n",
              " 'zn',\n",
              " 'indus',\n",
              " 'chas',\n",
              " 'nox',\n",
              " 'rm',\n",
              " 'age',\n",
              " 'dis',\n",
              " 'rad',\n",
              " 'tax',\n",
              " 'ptratio',\n",
              " 'b',\n",
              " 'lstat',\n",
              " 'medv']"
            ]
          },
          "execution_count": 12,
          "metadata": {},
          "output_type": "execute_result"
        }
      ],
      "source": [
        "cat_col"
      ]
    },
    {
      "cell_type": "code",
      "execution_count": null,
      "id": "every-cabinet",
      "metadata": {
        "id": "every-cabinet"
      },
      "outputs": [],
      "source": [
        "df.columns = cat_col"
      ]
    },
    {
      "cell_type": "code",
      "execution_count": null,
      "id": "continental-channels",
      "metadata": {
        "id": "continental-channels",
        "outputId": "f35317dd-b66c-4a72-a48f-f474896450c8"
      },
      "outputs": [
        {
          "data": {
            "text/html": [
              "<div>\n",
              "<style scoped>\n",
              "    .dataframe tbody tr th:only-of-type {\n",
              "        vertical-align: middle;\n",
              "    }\n",
              "\n",
              "    .dataframe tbody tr th {\n",
              "        vertical-align: top;\n",
              "    }\n",
              "\n",
              "    .dataframe thead th {\n",
              "        text-align: right;\n",
              "    }\n",
              "</style>\n",
              "<table border=\"1\" class=\"dataframe\">\n",
              "  <thead>\n",
              "    <tr style=\"text-align: right;\">\n",
              "      <th></th>\n",
              "      <th>crim</th>\n",
              "      <th>zn</th>\n",
              "      <th>indus</th>\n",
              "      <th>chas</th>\n",
              "      <th>nox</th>\n",
              "      <th>rm</th>\n",
              "      <th>age</th>\n",
              "      <th>dis</th>\n",
              "      <th>rad</th>\n",
              "      <th>tax</th>\n",
              "      <th>ptratio</th>\n",
              "      <th>b</th>\n",
              "      <th>lstat</th>\n",
              "      <th>medv</th>\n",
              "    </tr>\n",
              "  </thead>\n",
              "  <tbody>\n",
              "    <tr>\n",
              "      <th>0</th>\n",
              "      <td>0.00632</td>\n",
              "      <td>18.0</td>\n",
              "      <td>2.31</td>\n",
              "      <td>0.0</td>\n",
              "      <td>0.538</td>\n",
              "      <td>6.575</td>\n",
              "      <td>65.2</td>\n",
              "      <td>4.0900</td>\n",
              "      <td>1.0</td>\n",
              "      <td>296.0</td>\n",
              "      <td>15.3</td>\n",
              "      <td>396.90</td>\n",
              "      <td>4.98</td>\n",
              "      <td>24.0</td>\n",
              "    </tr>\n",
              "    <tr>\n",
              "      <th>1</th>\n",
              "      <td>0.02731</td>\n",
              "      <td>0.0</td>\n",
              "      <td>7.07</td>\n",
              "      <td>0.0</td>\n",
              "      <td>0.469</td>\n",
              "      <td>6.421</td>\n",
              "      <td>78.9</td>\n",
              "      <td>4.9671</td>\n",
              "      <td>2.0</td>\n",
              "      <td>242.0</td>\n",
              "      <td>17.8</td>\n",
              "      <td>396.90</td>\n",
              "      <td>9.14</td>\n",
              "      <td>21.6</td>\n",
              "    </tr>\n",
              "    <tr>\n",
              "      <th>2</th>\n",
              "      <td>0.02729</td>\n",
              "      <td>0.0</td>\n",
              "      <td>7.07</td>\n",
              "      <td>0.0</td>\n",
              "      <td>0.469</td>\n",
              "      <td>7.185</td>\n",
              "      <td>61.1</td>\n",
              "      <td>4.9671</td>\n",
              "      <td>2.0</td>\n",
              "      <td>242.0</td>\n",
              "      <td>17.8</td>\n",
              "      <td>392.83</td>\n",
              "      <td>4.03</td>\n",
              "      <td>34.7</td>\n",
              "    </tr>\n",
              "    <tr>\n",
              "      <th>3</th>\n",
              "      <td>0.03237</td>\n",
              "      <td>0.0</td>\n",
              "      <td>2.18</td>\n",
              "      <td>0.0</td>\n",
              "      <td>0.458</td>\n",
              "      <td>6.998</td>\n",
              "      <td>45.8</td>\n",
              "      <td>6.0622</td>\n",
              "      <td>3.0</td>\n",
              "      <td>222.0</td>\n",
              "      <td>18.7</td>\n",
              "      <td>394.63</td>\n",
              "      <td>2.94</td>\n",
              "      <td>33.4</td>\n",
              "    </tr>\n",
              "    <tr>\n",
              "      <th>4</th>\n",
              "      <td>0.06905</td>\n",
              "      <td>0.0</td>\n",
              "      <td>2.18</td>\n",
              "      <td>0.0</td>\n",
              "      <td>0.458</td>\n",
              "      <td>7.147</td>\n",
              "      <td>54.2</td>\n",
              "      <td>6.0622</td>\n",
              "      <td>3.0</td>\n",
              "      <td>222.0</td>\n",
              "      <td>18.7</td>\n",
              "      <td>396.90</td>\n",
              "      <td>5.33</td>\n",
              "      <td>36.2</td>\n",
              "    </tr>\n",
              "  </tbody>\n",
              "</table>\n",
              "</div>"
            ],
            "text/plain": [
              "      crim    zn  indus  chas    nox     rm   age     dis  rad    tax  \\\n",
              "0  0.00632  18.0   2.31   0.0  0.538  6.575  65.2  4.0900  1.0  296.0   \n",
              "1  0.02731   0.0   7.07   0.0  0.469  6.421  78.9  4.9671  2.0  242.0   \n",
              "2  0.02729   0.0   7.07   0.0  0.469  7.185  61.1  4.9671  2.0  242.0   \n",
              "3  0.03237   0.0   2.18   0.0  0.458  6.998  45.8  6.0622  3.0  222.0   \n",
              "4  0.06905   0.0   2.18   0.0  0.458  7.147  54.2  6.0622  3.0  222.0   \n",
              "\n",
              "   ptratio       b  lstat  medv  \n",
              "0     15.3  396.90   4.98  24.0  \n",
              "1     17.8  396.90   9.14  21.6  \n",
              "2     17.8  392.83   4.03  34.7  \n",
              "3     18.7  394.63   2.94  33.4  \n",
              "4     18.7  396.90   5.33  36.2  "
            ]
          },
          "execution_count": 14,
          "metadata": {},
          "output_type": "execute_result"
        }
      ],
      "source": [
        "df.head()"
      ]
    },
    {
      "cell_type": "code",
      "execution_count": null,
      "id": "engaging-secretary",
      "metadata": {
        "id": "engaging-secretary"
      },
      "outputs": [],
      "source": [
        "df['chas'] = df['chas'].astype(object)"
      ]
    },
    {
      "cell_type": "code",
      "execution_count": null,
      "id": "relevant-piano",
      "metadata": {
        "id": "relevant-piano",
        "outputId": "32e466cd-c16e-48b3-fdfd-ba04c51b9b80"
      },
      "outputs": [
        {
          "data": {
            "text/plain": [
              "0.0    471\n",
              "1.0     35\n",
              "Name: chas, dtype: int64"
            ]
          },
          "execution_count": 16,
          "metadata": {},
          "output_type": "execute_result"
        }
      ],
      "source": [
        "df['chas'].value_counts()"
      ]
    },
    {
      "cell_type": "code",
      "execution_count": null,
      "id": "medium-cookbook",
      "metadata": {
        "id": "medium-cookbook",
        "outputId": "90ab858d-34e1-467b-f869-6a01db111d42"
      },
      "outputs": [
        {
          "name": "stdout",
          "output_type": "stream",
          "text": [
            "<class 'pandas.core.frame.DataFrame'>\n",
            "RangeIndex: 506 entries, 0 to 505\n",
            "Data columns (total 14 columns):\n",
            " #   Column   Non-Null Count  Dtype  \n",
            "---  ------   --------------  -----  \n",
            " 0   crim     506 non-null    float64\n",
            " 1   zn       506 non-null    float64\n",
            " 2   indus    506 non-null    float64\n",
            " 3   chas     506 non-null    object \n",
            " 4   nox      506 non-null    float64\n",
            " 5   rm       506 non-null    float64\n",
            " 6   age      506 non-null    float64\n",
            " 7   dis      506 non-null    float64\n",
            " 8   rad      506 non-null    float64\n",
            " 9   tax      506 non-null    float64\n",
            " 10  ptratio  506 non-null    float64\n",
            " 11  b        506 non-null    float64\n",
            " 12  lstat    506 non-null    float64\n",
            " 13  medv     506 non-null    float64\n",
            "dtypes: float64(13), object(1)\n",
            "memory usage: 55.5+ KB\n"
          ]
        }
      ],
      "source": [
        "df.info()"
      ]
    },
    {
      "cell_type": "code",
      "execution_count": null,
      "id": "prostate-prototype",
      "metadata": {
        "scrolled": true,
        "id": "prostate-prototype",
        "outputId": "f498c6de-2fdc-4d2b-a384-9d14c36defaa"
      },
      "outputs": [
        {
          "data": {
            "text/html": [
              "<div>\n",
              "<style scoped>\n",
              "    .dataframe tbody tr th:only-of-type {\n",
              "        vertical-align: middle;\n",
              "    }\n",
              "\n",
              "    .dataframe tbody tr th {\n",
              "        vertical-align: top;\n",
              "    }\n",
              "\n",
              "    .dataframe thead th {\n",
              "        text-align: right;\n",
              "    }\n",
              "</style>\n",
              "<table border=\"1\" class=\"dataframe\">\n",
              "  <thead>\n",
              "    <tr style=\"text-align: right;\">\n",
              "      <th></th>\n",
              "      <th>crim</th>\n",
              "      <th>zn</th>\n",
              "      <th>indus</th>\n",
              "      <th>nox</th>\n",
              "      <th>rm</th>\n",
              "      <th>age</th>\n",
              "      <th>dis</th>\n",
              "      <th>rad</th>\n",
              "      <th>tax</th>\n",
              "      <th>ptratio</th>\n",
              "      <th>b</th>\n",
              "      <th>lstat</th>\n",
              "      <th>medv</th>\n",
              "      <th>chas_1.0</th>\n",
              "    </tr>\n",
              "  </thead>\n",
              "  <tbody>\n",
              "    <tr>\n",
              "      <th>0</th>\n",
              "      <td>0.00632</td>\n",
              "      <td>18.0</td>\n",
              "      <td>2.31</td>\n",
              "      <td>0.538</td>\n",
              "      <td>6.575</td>\n",
              "      <td>65.2</td>\n",
              "      <td>4.0900</td>\n",
              "      <td>1.0</td>\n",
              "      <td>296.0</td>\n",
              "      <td>15.3</td>\n",
              "      <td>396.90</td>\n",
              "      <td>4.98</td>\n",
              "      <td>24.0</td>\n",
              "      <td>0</td>\n",
              "    </tr>\n",
              "    <tr>\n",
              "      <th>1</th>\n",
              "      <td>0.02731</td>\n",
              "      <td>0.0</td>\n",
              "      <td>7.07</td>\n",
              "      <td>0.469</td>\n",
              "      <td>6.421</td>\n",
              "      <td>78.9</td>\n",
              "      <td>4.9671</td>\n",
              "      <td>2.0</td>\n",
              "      <td>242.0</td>\n",
              "      <td>17.8</td>\n",
              "      <td>396.90</td>\n",
              "      <td>9.14</td>\n",
              "      <td>21.6</td>\n",
              "      <td>0</td>\n",
              "    </tr>\n",
              "    <tr>\n",
              "      <th>2</th>\n",
              "      <td>0.02729</td>\n",
              "      <td>0.0</td>\n",
              "      <td>7.07</td>\n",
              "      <td>0.469</td>\n",
              "      <td>7.185</td>\n",
              "      <td>61.1</td>\n",
              "      <td>4.9671</td>\n",
              "      <td>2.0</td>\n",
              "      <td>242.0</td>\n",
              "      <td>17.8</td>\n",
              "      <td>392.83</td>\n",
              "      <td>4.03</td>\n",
              "      <td>34.7</td>\n",
              "      <td>0</td>\n",
              "    </tr>\n",
              "    <tr>\n",
              "      <th>3</th>\n",
              "      <td>0.03237</td>\n",
              "      <td>0.0</td>\n",
              "      <td>2.18</td>\n",
              "      <td>0.458</td>\n",
              "      <td>6.998</td>\n",
              "      <td>45.8</td>\n",
              "      <td>6.0622</td>\n",
              "      <td>3.0</td>\n",
              "      <td>222.0</td>\n",
              "      <td>18.7</td>\n",
              "      <td>394.63</td>\n",
              "      <td>2.94</td>\n",
              "      <td>33.4</td>\n",
              "      <td>0</td>\n",
              "    </tr>\n",
              "    <tr>\n",
              "      <th>4</th>\n",
              "      <td>0.06905</td>\n",
              "      <td>0.0</td>\n",
              "      <td>2.18</td>\n",
              "      <td>0.458</td>\n",
              "      <td>7.147</td>\n",
              "      <td>54.2</td>\n",
              "      <td>6.0622</td>\n",
              "      <td>3.0</td>\n",
              "      <td>222.0</td>\n",
              "      <td>18.7</td>\n",
              "      <td>396.90</td>\n",
              "      <td>5.33</td>\n",
              "      <td>36.2</td>\n",
              "      <td>0</td>\n",
              "    </tr>\n",
              "    <tr>\n",
              "      <th>...</th>\n",
              "      <td>...</td>\n",
              "      <td>...</td>\n",
              "      <td>...</td>\n",
              "      <td>...</td>\n",
              "      <td>...</td>\n",
              "      <td>...</td>\n",
              "      <td>...</td>\n",
              "      <td>...</td>\n",
              "      <td>...</td>\n",
              "      <td>...</td>\n",
              "      <td>...</td>\n",
              "      <td>...</td>\n",
              "      <td>...</td>\n",
              "      <td>...</td>\n",
              "    </tr>\n",
              "    <tr>\n",
              "      <th>501</th>\n",
              "      <td>0.06263</td>\n",
              "      <td>0.0</td>\n",
              "      <td>11.93</td>\n",
              "      <td>0.573</td>\n",
              "      <td>6.593</td>\n",
              "      <td>69.1</td>\n",
              "      <td>2.4786</td>\n",
              "      <td>1.0</td>\n",
              "      <td>273.0</td>\n",
              "      <td>21.0</td>\n",
              "      <td>391.99</td>\n",
              "      <td>9.67</td>\n",
              "      <td>22.4</td>\n",
              "      <td>0</td>\n",
              "    </tr>\n",
              "    <tr>\n",
              "      <th>502</th>\n",
              "      <td>0.04527</td>\n",
              "      <td>0.0</td>\n",
              "      <td>11.93</td>\n",
              "      <td>0.573</td>\n",
              "      <td>6.120</td>\n",
              "      <td>76.7</td>\n",
              "      <td>2.2875</td>\n",
              "      <td>1.0</td>\n",
              "      <td>273.0</td>\n",
              "      <td>21.0</td>\n",
              "      <td>396.90</td>\n",
              "      <td>9.08</td>\n",
              "      <td>20.6</td>\n",
              "      <td>0</td>\n",
              "    </tr>\n",
              "    <tr>\n",
              "      <th>503</th>\n",
              "      <td>0.06076</td>\n",
              "      <td>0.0</td>\n",
              "      <td>11.93</td>\n",
              "      <td>0.573</td>\n",
              "      <td>6.976</td>\n",
              "      <td>91.0</td>\n",
              "      <td>2.1675</td>\n",
              "      <td>1.0</td>\n",
              "      <td>273.0</td>\n",
              "      <td>21.0</td>\n",
              "      <td>396.90</td>\n",
              "      <td>5.64</td>\n",
              "      <td>23.9</td>\n",
              "      <td>0</td>\n",
              "    </tr>\n",
              "    <tr>\n",
              "      <th>504</th>\n",
              "      <td>0.10959</td>\n",
              "      <td>0.0</td>\n",
              "      <td>11.93</td>\n",
              "      <td>0.573</td>\n",
              "      <td>6.794</td>\n",
              "      <td>89.3</td>\n",
              "      <td>2.3889</td>\n",
              "      <td>1.0</td>\n",
              "      <td>273.0</td>\n",
              "      <td>21.0</td>\n",
              "      <td>393.45</td>\n",
              "      <td>6.48</td>\n",
              "      <td>22.0</td>\n",
              "      <td>0</td>\n",
              "    </tr>\n",
              "    <tr>\n",
              "      <th>505</th>\n",
              "      <td>0.04741</td>\n",
              "      <td>0.0</td>\n",
              "      <td>11.93</td>\n",
              "      <td>0.573</td>\n",
              "      <td>6.030</td>\n",
              "      <td>80.8</td>\n",
              "      <td>2.5050</td>\n",
              "      <td>1.0</td>\n",
              "      <td>273.0</td>\n",
              "      <td>21.0</td>\n",
              "      <td>396.90</td>\n",
              "      <td>7.88</td>\n",
              "      <td>11.9</td>\n",
              "      <td>0</td>\n",
              "    </tr>\n",
              "  </tbody>\n",
              "</table>\n",
              "<p>506 rows × 14 columns</p>\n",
              "</div>"
            ],
            "text/plain": [
              "        crim    zn  indus    nox     rm   age     dis  rad    tax  ptratio  \\\n",
              "0    0.00632  18.0   2.31  0.538  6.575  65.2  4.0900  1.0  296.0     15.3   \n",
              "1    0.02731   0.0   7.07  0.469  6.421  78.9  4.9671  2.0  242.0     17.8   \n",
              "2    0.02729   0.0   7.07  0.469  7.185  61.1  4.9671  2.0  242.0     17.8   \n",
              "3    0.03237   0.0   2.18  0.458  6.998  45.8  6.0622  3.0  222.0     18.7   \n",
              "4    0.06905   0.0   2.18  0.458  7.147  54.2  6.0622  3.0  222.0     18.7   \n",
              "..       ...   ...    ...    ...    ...   ...     ...  ...    ...      ...   \n",
              "501  0.06263   0.0  11.93  0.573  6.593  69.1  2.4786  1.0  273.0     21.0   \n",
              "502  0.04527   0.0  11.93  0.573  6.120  76.7  2.2875  1.0  273.0     21.0   \n",
              "503  0.06076   0.0  11.93  0.573  6.976  91.0  2.1675  1.0  273.0     21.0   \n",
              "504  0.10959   0.0  11.93  0.573  6.794  89.3  2.3889  1.0  273.0     21.0   \n",
              "505  0.04741   0.0  11.93  0.573  6.030  80.8  2.5050  1.0  273.0     21.0   \n",
              "\n",
              "          b  lstat  medv  chas_1.0  \n",
              "0    396.90   4.98  24.0         0  \n",
              "1    396.90   9.14  21.6         0  \n",
              "2    392.83   4.03  34.7         0  \n",
              "3    394.63   2.94  33.4         0  \n",
              "4    396.90   5.33  36.2         0  \n",
              "..      ...    ...   ...       ...  \n",
              "501  391.99   9.67  22.4         0  \n",
              "502  396.90   9.08  20.6         0  \n",
              "503  396.90   5.64  23.9         0  \n",
              "504  393.45   6.48  22.0         0  \n",
              "505  396.90   7.88  11.9         0  \n",
              "\n",
              "[506 rows x 14 columns]"
            ]
          },
          "execution_count": 18,
          "metadata": {},
          "output_type": "execute_result"
        }
      ],
      "source": [
        "pd.get_dummies(df,drop_first=True)  # Here chas alone will get dummification since it is an object variable"
      ]
    },
    {
      "cell_type": "code",
      "execution_count": null,
      "id": "selected-digit",
      "metadata": {
        "id": "selected-digit"
      },
      "outputs": [],
      "source": [
        "df = pd.get_dummies(df,drop_first=True) # Only object variables we can do dummification since then only we can do mathematical operations on it and find coefficients\n",
        "# If its catogory then we can perform maths operation then we cannot calc beta coefficents using that variable"
      ]
    },
    {
      "cell_type": "code",
      "execution_count": null,
      "id": "differential-withdrawal",
      "metadata": {
        "id": "differential-withdrawal"
      },
      "outputs": [],
      "source": [
        "df.columns = ['crim', 'zn', 'indus', 'nox', 'rm', 'age', 'dis', 'rad', 'tax',\n",
        "       'ptratio', 'b', 'lstat', 'medv', 'chas_1'] # since here dummy is created as chas_1.0 variable shouldnt have . init so we rename it"
      ]
    },
    {
      "cell_type": "code",
      "execution_count": null,
      "id": "leading-coordination",
      "metadata": {
        "id": "leading-coordination",
        "outputId": "0fe1f17c-c1a5-444f-8d8c-a451289cccf2"
      },
      "outputs": [
        {
          "data": {
            "text/plain": [
              "Index(['crim', 'zn', 'indus', 'nox', 'rm', 'age', 'dis', 'rad', 'tax',\n",
              "       'ptratio', 'b', 'lstat', 'medv', 'chas_1'],\n",
              "      dtype='object')"
            ]
          },
          "execution_count": 21,
          "metadata": {},
          "output_type": "execute_result"
        }
      ],
      "source": [
        "df.columns"
      ]
    },
    {
      "cell_type": "code",
      "execution_count": null,
      "id": "honest-moisture",
      "metadata": {
        "id": "honest-moisture"
      },
      "outputs": [],
      "source": [
        "from scipy.stats import kstest,anderson,shapiro"
      ]
    },
    {
      "cell_type": "code",
      "execution_count": null,
      "id": "decimal-marriage",
      "metadata": {
        "id": "decimal-marriage",
        "outputId": "e14a2d07-3e0b-4577-9ed9-a0e62c1668e5"
      },
      "outputs": [
        {
          "data": {
            "text/plain": [
              "KstestResult(statistic=0.9999997133484281, pvalue=0.0)"
            ]
          },
          "execution_count": 23,
          "metadata": {},
          "output_type": "execute_result"
        }
      ],
      "source": [
        "kstest(df['medv'],'norm') # Here pval is 0 so we reject null that is Ho : y is normal that is y is not normal\n",
        "# Here it is against our assumption but we proceed since it gives only an idea this may be not normal due to leverage point also"
      ]
    },
    {
      "cell_type": "code",
      "execution_count": null,
      "id": "comic-shopping",
      "metadata": {
        "id": "comic-shopping",
        "outputId": "47addf69-d1be-47fb-db97-f3184a1062d6"
      },
      "outputs": [
        {
          "data": {
            "text/plain": [
              "AndersonResult(statistic=11.822483502722775, critical_values=array([0.572, 0.651, 0.781, 0.911, 1.084]), significance_level=array([15. , 10. ,  5. ,  2.5,  1. ]))"
            ]
          },
          "execution_count": 24,
          "metadata": {},
          "output_type": "execute_result"
        }
      ],
      "source": [
        "anderson(df['medv']) # Rejecting Ho"
      ]
    },
    {
      "cell_type": "code",
      "execution_count": null,
      "id": "atomic-elephant",
      "metadata": {
        "id": "atomic-elephant",
        "outputId": "7fd35a27-5c91-4768-e74f-49ae4b59bda2"
      },
      "outputs": [
        {
          "data": {
            "text/plain": [
              "ShapiroResult(statistic=0.91717529296875, pvalue=4.940618243974614e-16)"
            ]
          },
          "execution_count": 25,
          "metadata": {},
          "output_type": "execute_result"
        }
      ],
      "source": [
        "shapiro(df['medv']) # Rejecting Ho"
      ]
    },
    {
      "cell_type": "code",
      "execution_count": null,
      "id": "noted-intensity",
      "metadata": {
        "id": "noted-intensity"
      },
      "outputs": [],
      "source": [
        "# Before model building we need to check the Linearity of x and y using correlation or using scatter plot\n",
        "# And normality of the y variable"
      ]
    },
    {
      "cell_type": "code",
      "execution_count": null,
      "id": "protected-newsletter",
      "metadata": {
        "id": "protected-newsletter"
      },
      "outputs": [],
      "source": [
        "x = df[['crim', 'zn', 'indus', 'nox', 'rm', 'age', 'dis', 'rad', 'tax',\n",
        "       'ptratio', 'b', 'lstat', 'chas_1']]"
      ]
    },
    {
      "cell_type": "code",
      "execution_count": null,
      "id": "better-resource",
      "metadata": {
        "id": "better-resource"
      },
      "outputs": [],
      "source": [
        "y = df['medv']"
      ]
    },
    {
      "cell_type": "code",
      "execution_count": null,
      "id": "phantom-employee",
      "metadata": {
        "id": "phantom-employee"
      },
      "outputs": [],
      "source": [
        "from sklearn.model_selection import train_test_split"
      ]
    },
    {
      "cell_type": "code",
      "execution_count": null,
      "id": "becoming-thomson",
      "metadata": {
        "id": "becoming-thomson"
      },
      "outputs": [],
      "source": [
        "x_train,x_test,y_train,y_test = train_test_split(x,y,test_size=0.3,random_state=0)"
      ]
    },
    {
      "cell_type": "code",
      "execution_count": null,
      "id": "dimensional-counter",
      "metadata": {
        "id": "dimensional-counter",
        "outputId": "d6cac09f-69da-42df-9a0c-ebc568361f4d"
      },
      "outputs": [
        {
          "data": {
            "text/html": [
              "<div>\n",
              "<style scoped>\n",
              "    .dataframe tbody tr th:only-of-type {\n",
              "        vertical-align: middle;\n",
              "    }\n",
              "\n",
              "    .dataframe tbody tr th {\n",
              "        vertical-align: top;\n",
              "    }\n",
              "\n",
              "    .dataframe thead th {\n",
              "        text-align: right;\n",
              "    }\n",
              "</style>\n",
              "<table border=\"1\" class=\"dataframe\">\n",
              "  <thead>\n",
              "    <tr style=\"text-align: right;\">\n",
              "      <th></th>\n",
              "      <th>crim</th>\n",
              "      <th>zn</th>\n",
              "      <th>indus</th>\n",
              "      <th>nox</th>\n",
              "      <th>rm</th>\n",
              "      <th>age</th>\n",
              "      <th>dis</th>\n",
              "      <th>rad</th>\n",
              "      <th>tax</th>\n",
              "      <th>ptratio</th>\n",
              "      <th>b</th>\n",
              "      <th>lstat</th>\n",
              "      <th>chas_1</th>\n",
              "      <th>medv</th>\n",
              "    </tr>\n",
              "  </thead>\n",
              "  <tbody>\n",
              "    <tr>\n",
              "      <th>141</th>\n",
              "      <td>1.62864</td>\n",
              "      <td>0.0</td>\n",
              "      <td>21.89</td>\n",
              "      <td>0.624</td>\n",
              "      <td>5.019</td>\n",
              "      <td>100.0</td>\n",
              "      <td>1.4394</td>\n",
              "      <td>4.0</td>\n",
              "      <td>437.0</td>\n",
              "      <td>21.2</td>\n",
              "      <td>396.90</td>\n",
              "      <td>34.41</td>\n",
              "      <td>0</td>\n",
              "      <td>14.4</td>\n",
              "    </tr>\n",
              "    <tr>\n",
              "      <th>272</th>\n",
              "      <td>0.11460</td>\n",
              "      <td>20.0</td>\n",
              "      <td>6.96</td>\n",
              "      <td>0.464</td>\n",
              "      <td>6.538</td>\n",
              "      <td>58.7</td>\n",
              "      <td>3.9175</td>\n",
              "      <td>3.0</td>\n",
              "      <td>223.0</td>\n",
              "      <td>18.6</td>\n",
              "      <td>394.96</td>\n",
              "      <td>7.73</td>\n",
              "      <td>0</td>\n",
              "      <td>24.4</td>\n",
              "    </tr>\n",
              "    <tr>\n",
              "      <th>135</th>\n",
              "      <td>0.55778</td>\n",
              "      <td>0.0</td>\n",
              "      <td>21.89</td>\n",
              "      <td>0.624</td>\n",
              "      <td>6.335</td>\n",
              "      <td>98.2</td>\n",
              "      <td>2.1107</td>\n",
              "      <td>4.0</td>\n",
              "      <td>437.0</td>\n",
              "      <td>21.2</td>\n",
              "      <td>394.67</td>\n",
              "      <td>16.96</td>\n",
              "      <td>0</td>\n",
              "      <td>18.1</td>\n",
              "    </tr>\n",
              "    <tr>\n",
              "      <th>298</th>\n",
              "      <td>0.06466</td>\n",
              "      <td>70.0</td>\n",
              "      <td>2.24</td>\n",
              "      <td>0.400</td>\n",
              "      <td>6.345</td>\n",
              "      <td>20.1</td>\n",
              "      <td>7.8278</td>\n",
              "      <td>5.0</td>\n",
              "      <td>358.0</td>\n",
              "      <td>14.8</td>\n",
              "      <td>368.24</td>\n",
              "      <td>4.97</td>\n",
              "      <td>0</td>\n",
              "      <td>22.5</td>\n",
              "    </tr>\n",
              "    <tr>\n",
              "      <th>122</th>\n",
              "      <td>0.09299</td>\n",
              "      <td>0.0</td>\n",
              "      <td>25.65</td>\n",
              "      <td>0.581</td>\n",
              "      <td>5.961</td>\n",
              "      <td>92.9</td>\n",
              "      <td>2.0869</td>\n",
              "      <td>2.0</td>\n",
              "      <td>188.0</td>\n",
              "      <td>19.1</td>\n",
              "      <td>378.09</td>\n",
              "      <td>17.93</td>\n",
              "      <td>0</td>\n",
              "      <td>20.5</td>\n",
              "    </tr>\n",
              "  </tbody>\n",
              "</table>\n",
              "</div>"
            ],
            "text/plain": [
              "        crim    zn  indus    nox     rm    age     dis  rad    tax  ptratio  \\\n",
              "141  1.62864   0.0  21.89  0.624  5.019  100.0  1.4394  4.0  437.0     21.2   \n",
              "272  0.11460  20.0   6.96  0.464  6.538   58.7  3.9175  3.0  223.0     18.6   \n",
              "135  0.55778   0.0  21.89  0.624  6.335   98.2  2.1107  4.0  437.0     21.2   \n",
              "298  0.06466  70.0   2.24  0.400  6.345   20.1  7.8278  5.0  358.0     14.8   \n",
              "122  0.09299   0.0  25.65  0.581  5.961   92.9  2.0869  2.0  188.0     19.1   \n",
              "\n",
              "          b  lstat  chas_1  medv  \n",
              "141  396.90  34.41       0  14.4  \n",
              "272  394.96   7.73       0  24.4  \n",
              "135  394.67  16.96       0  18.1  \n",
              "298  368.24   4.97       0  22.5  \n",
              "122  378.09  17.93       0  20.5  "
            ]
          },
          "execution_count": 31,
          "metadata": {},
          "output_type": "execute_result"
        }
      ],
      "source": [
        "train_data = pd.concat((x_train,y_train),axis=1)\n",
        "train_data.head()"
      ]
    },
    {
      "cell_type": "code",
      "execution_count": null,
      "id": "greenhouse-novel",
      "metadata": {
        "id": "greenhouse-novel",
        "outputId": "2b1f4f50-155e-49d8-8f95-ec06ab9e51ed"
      },
      "outputs": [
        {
          "data": {
            "text/html": [
              "<div>\n",
              "<style scoped>\n",
              "    .dataframe tbody tr th:only-of-type {\n",
              "        vertical-align: middle;\n",
              "    }\n",
              "\n",
              "    .dataframe tbody tr th {\n",
              "        vertical-align: top;\n",
              "    }\n",
              "\n",
              "    .dataframe thead th {\n",
              "        text-align: right;\n",
              "    }\n",
              "</style>\n",
              "<table border=\"1\" class=\"dataframe\">\n",
              "  <thead>\n",
              "    <tr style=\"text-align: right;\">\n",
              "      <th></th>\n",
              "      <th>crim</th>\n",
              "      <th>zn</th>\n",
              "      <th>indus</th>\n",
              "      <th>nox</th>\n",
              "      <th>rm</th>\n",
              "      <th>age</th>\n",
              "      <th>dis</th>\n",
              "      <th>rad</th>\n",
              "      <th>tax</th>\n",
              "      <th>ptratio</th>\n",
              "      <th>b</th>\n",
              "      <th>lstat</th>\n",
              "      <th>chas_1</th>\n",
              "      <th>medv</th>\n",
              "    </tr>\n",
              "  </thead>\n",
              "  <tbody>\n",
              "    <tr>\n",
              "      <th>329</th>\n",
              "      <td>0.06724</td>\n",
              "      <td>0.0</td>\n",
              "      <td>3.24</td>\n",
              "      <td>0.460</td>\n",
              "      <td>6.333</td>\n",
              "      <td>17.2</td>\n",
              "      <td>5.2146</td>\n",
              "      <td>4.0</td>\n",
              "      <td>430.0</td>\n",
              "      <td>16.9</td>\n",
              "      <td>375.21</td>\n",
              "      <td>7.34</td>\n",
              "      <td>0</td>\n",
              "      <td>22.6</td>\n",
              "    </tr>\n",
              "    <tr>\n",
              "      <th>371</th>\n",
              "      <td>9.23230</td>\n",
              "      <td>0.0</td>\n",
              "      <td>18.10</td>\n",
              "      <td>0.631</td>\n",
              "      <td>6.216</td>\n",
              "      <td>100.0</td>\n",
              "      <td>1.1691</td>\n",
              "      <td>24.0</td>\n",
              "      <td>666.0</td>\n",
              "      <td>20.2</td>\n",
              "      <td>366.15</td>\n",
              "      <td>9.53</td>\n",
              "      <td>0</td>\n",
              "      <td>50.0</td>\n",
              "    </tr>\n",
              "    <tr>\n",
              "      <th>219</th>\n",
              "      <td>0.11425</td>\n",
              "      <td>0.0</td>\n",
              "      <td>13.89</td>\n",
              "      <td>0.550</td>\n",
              "      <td>6.373</td>\n",
              "      <td>92.4</td>\n",
              "      <td>3.3633</td>\n",
              "      <td>5.0</td>\n",
              "      <td>276.0</td>\n",
              "      <td>16.4</td>\n",
              "      <td>393.74</td>\n",
              "      <td>10.50</td>\n",
              "      <td>1</td>\n",
              "      <td>23.0</td>\n",
              "    </tr>\n",
              "    <tr>\n",
              "      <th>403</th>\n",
              "      <td>24.80170</td>\n",
              "      <td>0.0</td>\n",
              "      <td>18.10</td>\n",
              "      <td>0.693</td>\n",
              "      <td>5.349</td>\n",
              "      <td>96.0</td>\n",
              "      <td>1.7028</td>\n",
              "      <td>24.0</td>\n",
              "      <td>666.0</td>\n",
              "      <td>20.2</td>\n",
              "      <td>396.90</td>\n",
              "      <td>19.77</td>\n",
              "      <td>0</td>\n",
              "      <td>8.3</td>\n",
              "    </tr>\n",
              "    <tr>\n",
              "      <th>78</th>\n",
              "      <td>0.05646</td>\n",
              "      <td>0.0</td>\n",
              "      <td>12.83</td>\n",
              "      <td>0.437</td>\n",
              "      <td>6.232</td>\n",
              "      <td>53.7</td>\n",
              "      <td>5.0141</td>\n",
              "      <td>5.0</td>\n",
              "      <td>398.0</td>\n",
              "      <td>18.7</td>\n",
              "      <td>386.40</td>\n",
              "      <td>12.34</td>\n",
              "      <td>0</td>\n",
              "      <td>21.2</td>\n",
              "    </tr>\n",
              "  </tbody>\n",
              "</table>\n",
              "</div>"
            ],
            "text/plain": [
              "         crim   zn  indus    nox     rm    age     dis   rad    tax  ptratio  \\\n",
              "329   0.06724  0.0   3.24  0.460  6.333   17.2  5.2146   4.0  430.0     16.9   \n",
              "371   9.23230  0.0  18.10  0.631  6.216  100.0  1.1691  24.0  666.0     20.2   \n",
              "219   0.11425  0.0  13.89  0.550  6.373   92.4  3.3633   5.0  276.0     16.4   \n",
              "403  24.80170  0.0  18.10  0.693  5.349   96.0  1.7028  24.0  666.0     20.2   \n",
              "78    0.05646  0.0  12.83  0.437  6.232   53.7  5.0141   5.0  398.0     18.7   \n",
              "\n",
              "          b  lstat  chas_1  medv  \n",
              "329  375.21   7.34       0  22.6  \n",
              "371  366.15   9.53       0  50.0  \n",
              "219  393.74  10.50       1  23.0  \n",
              "403  396.90  19.77       0   8.3  \n",
              "78   386.40  12.34       0  21.2  "
            ]
          },
          "execution_count": 32,
          "metadata": {},
          "output_type": "execute_result"
        }
      ],
      "source": [
        "test_data = pd.concat((x_test,y_test),axis=1)\n",
        "test_data.head()"
      ]
    },
    {
      "cell_type": "code",
      "execution_count": null,
      "id": "later-nature",
      "metadata": {
        "id": "later-nature"
      },
      "outputs": [],
      "source": [
        "from statsmodels.formula.api import ols"
      ]
    },
    {
      "cell_type": "code",
      "execution_count": null,
      "id": "coupled-nylon",
      "metadata": {
        "id": "coupled-nylon"
      },
      "outputs": [],
      "source": [
        "lm = ols('medv~crim+zn+indus+nox+rm+age+dis+rad+tax+ptratio+b+lstat+chas_1',data = train_data).fit() # formula method"
      ]
    },
    {
      "cell_type": "code",
      "execution_count": null,
      "id": "passive-agency",
      "metadata": {
        "id": "passive-agency",
        "outputId": "85820528-a844-4854-f4a4-e2e9bbd84164"
      },
      "outputs": [
        {
          "name": "stdout",
          "output_type": "stream",
          "text": [
            "crim+zn+indus+nox+rm+age+dis+rad+tax+ptratio+b+lstat+chas_1+"
          ]
        }
      ],
      "source": [
        "for i in x_train.columns:\n",
        "    print(i,end='+')"
      ]
    },
    {
      "cell_type": "code",
      "execution_count": null,
      "id": "sufficient-heavy",
      "metadata": {
        "id": "sufficient-heavy",
        "outputId": "37554f73-88cc-46d1-88e8-3860ba2df705"
      },
      "outputs": [
        {
          "data": {
            "text/html": [
              "<table class=\"simpletable\">\n",
              "<caption>OLS Regression Results</caption>\n",
              "<tr>\n",
              "  <th>Dep. Variable:</th>          <td>medv</td>       <th>  R-squared:         </th> <td>   0.765</td>\n",
              "</tr>\n",
              "<tr>\n",
              "  <th>Model:</th>                   <td>OLS</td>       <th>  Adj. R-squared:    </th> <td>   0.756</td>\n",
              "</tr>\n",
              "<tr>\n",
              "  <th>Method:</th>             <td>Least Squares</td>  <th>  F-statistic:       </th> <td>   84.92</td>\n",
              "</tr>\n",
              "<tr>\n",
              "  <th>Date:</th>             <td>Sun, 11 Apr 2021</td> <th>  Prob (F-statistic):</th> <td>2.76e-98</td>\n",
              "</tr>\n",
              "<tr>\n",
              "  <th>Time:</th>                 <td>10:56:23</td>     <th>  Log-Likelihood:    </th> <td> -1032.2</td>\n",
              "</tr>\n",
              "<tr>\n",
              "  <th>No. Observations:</th>      <td>   354</td>      <th>  AIC:               </th> <td>   2092.</td>\n",
              "</tr>\n",
              "<tr>\n",
              "  <th>Df Residuals:</th>          <td>   340</td>      <th>  BIC:               </th> <td>   2147.</td>\n",
              "</tr>\n",
              "<tr>\n",
              "  <th>Df Model:</th>              <td>    13</td>      <th>                     </th>     <td> </td>   \n",
              "</tr>\n",
              "<tr>\n",
              "  <th>Covariance Type:</th>      <td>nonrobust</td>    <th>                     </th>     <td> </td>   \n",
              "</tr>\n",
              "</table>\n",
              "<table class=\"simpletable\">\n",
              "<tr>\n",
              "      <td></td>         <th>coef</th>     <th>std err</th>      <th>t</th>      <th>P>|t|</th>  <th>[0.025</th>    <th>0.975]</th>  \n",
              "</tr>\n",
              "<tr>\n",
              "  <th>Intercept</th> <td>   37.9371</td> <td>    5.876</td> <td>    6.457</td> <td> 0.000</td> <td>   26.380</td> <td>   49.494</td>\n",
              "</tr>\n",
              "<tr>\n",
              "  <th>crim</th>      <td>   -0.1213</td> <td>    0.038</td> <td>   -3.185</td> <td> 0.002</td> <td>   -0.196</td> <td>   -0.046</td>\n",
              "</tr>\n",
              "<tr>\n",
              "  <th>zn</th>        <td>    0.0445</td> <td>    0.016</td> <td>    2.834</td> <td> 0.005</td> <td>    0.014</td> <td>    0.075</td>\n",
              "</tr>\n",
              "<tr>\n",
              "  <th>indus</th>     <td>    0.0113</td> <td>    0.068</td> <td>    0.166</td> <td> 0.868</td> <td>   -0.123</td> <td>    0.146</td>\n",
              "</tr>\n",
              "<tr>\n",
              "  <th>nox</th>       <td>  -16.2313</td> <td>    4.487</td> <td>   -3.618</td> <td> 0.000</td> <td>  -25.056</td> <td>   -7.406</td>\n",
              "</tr>\n",
              "<tr>\n",
              "  <th>rm</th>        <td>    3.8591</td> <td>    0.491</td> <td>    7.867</td> <td> 0.000</td> <td>    2.894</td> <td>    4.824</td>\n",
              "</tr>\n",
              "<tr>\n",
              "  <th>age</th>       <td>   -0.0100</td> <td>    0.016</td> <td>   -0.634</td> <td> 0.527</td> <td>   -0.041</td> <td>    0.021</td>\n",
              "</tr>\n",
              "<tr>\n",
              "  <th>dis</th>       <td>   -1.5003</td> <td>    0.234</td> <td>   -6.402</td> <td> 0.000</td> <td>   -1.961</td> <td>   -1.039</td>\n",
              "</tr>\n",
              "<tr>\n",
              "  <th>rad</th>       <td>    0.2421</td> <td>    0.077</td> <td>    3.152</td> <td> 0.002</td> <td>    0.091</td> <td>    0.393</td>\n",
              "</tr>\n",
              "<tr>\n",
              "  <th>tax</th>       <td>   -0.0111</td> <td>    0.004</td> <td>   -2.586</td> <td> 0.010</td> <td>   -0.019</td> <td>   -0.003</td>\n",
              "</tr>\n",
              "<tr>\n",
              "  <th>ptratio</th>   <td>   -1.0178</td> <td>    0.150</td> <td>   -6.803</td> <td> 0.000</td> <td>   -1.312</td> <td>   -0.723</td>\n",
              "</tr>\n",
              "<tr>\n",
              "  <th>b</th>         <td>    0.0068</td> <td>    0.003</td> <td>    2.099</td> <td> 0.037</td> <td>    0.000</td> <td>    0.013</td>\n",
              "</tr>\n",
              "<tr>\n",
              "  <th>lstat</th>     <td>   -0.4867</td> <td>    0.060</td> <td>   -8.068</td> <td> 0.000</td> <td>   -0.605</td> <td>   -0.368</td>\n",
              "</tr>\n",
              "<tr>\n",
              "  <th>chas_1</th>    <td>    2.5112</td> <td>    1.011</td> <td>    2.483</td> <td> 0.014</td> <td>    0.522</td> <td>    4.501</td>\n",
              "</tr>\n",
              "</table>\n",
              "<table class=\"simpletable\">\n",
              "<tr>\n",
              "  <th>Omnibus:</th>       <td>133.612</td> <th>  Durbin-Watson:     </th> <td>   2.019</td> \n",
              "</tr>\n",
              "<tr>\n",
              "  <th>Prob(Omnibus):</th> <td> 0.000</td>  <th>  Jarque-Bera (JB):  </th> <td> 634.086</td> \n",
              "</tr>\n",
              "<tr>\n",
              "  <th>Skew:</th>          <td> 1.547</td>  <th>  Prob(JB):          </th> <td>2.04e-138</td>\n",
              "</tr>\n",
              "<tr>\n",
              "  <th>Kurtosis:</th>      <td> 8.781</td>  <th>  Cond. No.          </th> <td>1.52e+04</td> \n",
              "</tr>\n",
              "</table><br/><br/>Notes:<br/>[1] Standard Errors assume that the covariance matrix of the errors is correctly specified.<br/>[2] The condition number is large, 1.52e+04. This might indicate that there are<br/>strong multicollinearity or other numerical problems."
            ],
            "text/plain": [
              "<class 'statsmodels.iolib.summary.Summary'>\n",
              "\"\"\"\n",
              "                            OLS Regression Results                            \n",
              "==============================================================================\n",
              "Dep. Variable:                   medv   R-squared:                       0.765\n",
              "Model:                            OLS   Adj. R-squared:                  0.756\n",
              "Method:                 Least Squares   F-statistic:                     84.92\n",
              "Date:                Sun, 11 Apr 2021   Prob (F-statistic):           2.76e-98\n",
              "Time:                        10:56:23   Log-Likelihood:                -1032.2\n",
              "No. Observations:                 354   AIC:                             2092.\n",
              "Df Residuals:                     340   BIC:                             2147.\n",
              "Df Model:                          13                                         \n",
              "Covariance Type:            nonrobust                                         \n",
              "==============================================================================\n",
              "                 coef    std err          t      P>|t|      [0.025      0.975]\n",
              "------------------------------------------------------------------------------\n",
              "Intercept     37.9371      5.876      6.457      0.000      26.380      49.494\n",
              "crim          -0.1213      0.038     -3.185      0.002      -0.196      -0.046\n",
              "zn             0.0445      0.016      2.834      0.005       0.014       0.075\n",
              "indus          0.0113      0.068      0.166      0.868      -0.123       0.146\n",
              "nox          -16.2313      4.487     -3.618      0.000     -25.056      -7.406\n",
              "rm             3.8591      0.491      7.867      0.000       2.894       4.824\n",
              "age           -0.0100      0.016     -0.634      0.527      -0.041       0.021\n",
              "dis           -1.5003      0.234     -6.402      0.000      -1.961      -1.039\n",
              "rad            0.2421      0.077      3.152      0.002       0.091       0.393\n",
              "tax           -0.0111      0.004     -2.586      0.010      -0.019      -0.003\n",
              "ptratio       -1.0178      0.150     -6.803      0.000      -1.312      -0.723\n",
              "b              0.0068      0.003      2.099      0.037       0.000       0.013\n",
              "lstat         -0.4867      0.060     -8.068      0.000      -0.605      -0.368\n",
              "chas_1         2.5112      1.011      2.483      0.014       0.522       4.501\n",
              "==============================================================================\n",
              "Omnibus:                      133.612   Durbin-Watson:                   2.019\n",
              "Prob(Omnibus):                  0.000   Jarque-Bera (JB):              634.086\n",
              "Skew:                           1.547   Prob(JB):                    2.04e-138\n",
              "Kurtosis:                       8.781   Cond. No.                     1.52e+04\n",
              "==============================================================================\n",
              "\n",
              "Notes:\n",
              "[1] Standard Errors assume that the covariance matrix of the errors is correctly specified.\n",
              "[2] The condition number is large, 1.52e+04. This might indicate that there are\n",
              "strong multicollinearity or other numerical problems.\n",
              "\"\"\""
            ]
          },
          "execution_count": 36,
          "metadata": {},
          "output_type": "execute_result"
        }
      ],
      "source": [
        "lm.summary()"
      ]
    },
    {
      "cell_type": "code",
      "execution_count": null,
      "id": "southeast-donor",
      "metadata": {
        "id": "southeast-donor",
        "outputId": "1861395c-2cde-46e1-ede7-af74e7eaabfd"
      },
      "outputs": [
        {
          "name": "stdout",
          "output_type": "stream",
          "text": [
            "                            OLS Regression Results                            \n",
            "==============================================================================\n",
            "Dep. Variable:                   medv   R-squared:                       0.765\n",
            "Model:                            OLS   Adj. R-squared:                  0.756\n",
            "Method:                 Least Squares   F-statistic:                     84.92\n",
            "Date:                Sun, 11 Apr 2021   Prob (F-statistic):           2.76e-98\n",
            "Time:                        10:56:30   Log-Likelihood:                -1032.2\n",
            "No. Observations:                 354   AIC:                             2092.\n",
            "Df Residuals:                     340   BIC:                             2147.\n",
            "Df Model:                          13                                         \n",
            "Covariance Type:            nonrobust                                         \n",
            "==============================================================================\n",
            "                 coef    std err          t      P>|t|      [0.025      0.975]\n",
            "------------------------------------------------------------------------------\n",
            "Intercept     37.9371      5.876      6.457      0.000      26.380      49.494\n",
            "crim          -0.1213      0.038     -3.185      0.002      -0.196      -0.046\n",
            "zn             0.0445      0.016      2.834      0.005       0.014       0.075\n",
            "indus          0.0113      0.068      0.166      0.868      -0.123       0.146\n",
            "nox          -16.2313      4.487     -3.618      0.000     -25.056      -7.406\n",
            "rm             3.8591      0.491      7.867      0.000       2.894       4.824\n",
            "age           -0.0100      0.016     -0.634      0.527      -0.041       0.021\n",
            "dis           -1.5003      0.234     -6.402      0.000      -1.961      -1.039\n",
            "rad            0.2421      0.077      3.152      0.002       0.091       0.393\n",
            "tax           -0.0111      0.004     -2.586      0.010      -0.019      -0.003\n",
            "ptratio       -1.0178      0.150     -6.803      0.000      -1.312      -0.723\n",
            "b              0.0068      0.003      2.099      0.037       0.000       0.013\n",
            "lstat         -0.4867      0.060     -8.068      0.000      -0.605      -0.368\n",
            "chas_1         2.5112      1.011      2.483      0.014       0.522       4.501\n",
            "==============================================================================\n",
            "Omnibus:                      133.612   Durbin-Watson:                   2.019\n",
            "Prob(Omnibus):                  0.000   Jarque-Bera (JB):              634.086\n",
            "Skew:                           1.547   Prob(JB):                    2.04e-138\n",
            "Kurtosis:                       8.781   Cond. No.                     1.52e+04\n",
            "==============================================================================\n",
            "\n",
            "Notes:\n",
            "[1] Standard Errors assume that the covariance matrix of the errors is correctly specified.\n",
            "[2] The condition number is large, 1.52e+04. This might indicate that there are\n",
            "strong multicollinearity or other numerical problems.\n"
          ]
        }
      ],
      "source": [
        "print(lm.summary()) # F-statistic:84.92 (Anova F statis) prob of F-statis is < 0 so we reject Ho so over all the model is a siggnificant model\n",
        "# Degree of Freedom is n-k-1 so 340(no of observation - no of independent variable - 1)\n",
        "# AIC and BIC should be least it is a relative measure so we need another model to compare\n",
        "# Covariance Type:nonrobust (parametric model that is conventional statiscal method)\n",
        "# Here we cannot compare which coefficient is having higher influence since all variables are in different units so to over come this we need to scaling of idependent variable"
      ]
    },
    {
      "cell_type": "code",
      "execution_count": null,
      "id": "eligible-header",
      "metadata": {
        "id": "eligible-header"
      },
      "outputs": [],
      "source": [
        "import sklearn.preprocessing as sp"
      ]
    },
    {
      "cell_type": "code",
      "execution_count": null,
      "id": "quick-reserve",
      "metadata": {
        "id": "quick-reserve"
      },
      "outputs": [],
      "source": [
        "sc = sp.StandardScaler() # standard scalar is a preprocessing since we are doing before model building"
      ]
    },
    {
      "cell_type": "code",
      "execution_count": null,
      "id": "baking-census",
      "metadata": {
        "id": "baking-census",
        "outputId": "77a0df7f-1ca4-4879-da4b-5958ae3b4fc1"
      },
      "outputs": [
        {
          "data": {
            "text/plain": [
              "StandardScaler()"
            ]
          },
          "execution_count": 40,
          "metadata": {},
          "output_type": "execute_result"
        }
      ],
      "source": [
        "sc.fit(x_train) # Building the model that is finding x_train mean and stdev for each and every variable will be stored in the model but for x_test we need to use this mean and stdev only\n",
        "# that is we should not fit x_test then x_test mean and STdev will be stored\n",
        "# Here sc will have mean and stdev values for every variable\n",
        "# I use x_trains mu and stdev on x_test to find standard values of x_test to have less variance"
      ]
    },
    {
      "cell_type": "code",
      "execution_count": null,
      "id": "accessory-mitchell",
      "metadata": {
        "id": "accessory-mitchell",
        "outputId": "44bb83ad-6062-4107-8b86-ab9f2da17193"
      },
      "outputs": [
        {
          "data": {
            "text/plain": [
              "array([[-0.20735619, -0.49997924,  1.54801583, ...,  0.42454294,\n",
              "         3.10807269, -0.26360274],\n",
              "       [-0.38886492,  0.34677427, -0.58974728, ...,  0.40185312,\n",
              "        -0.66643035, -0.26360274],\n",
              "       [-0.33573486, -0.49997924,  1.54801583, ...,  0.39846135,\n",
              "         0.63936662, -0.26360274],\n",
              "       ...,\n",
              "       [-0.38450355, -0.49997924, -0.15303077, ...,  0.39659002,\n",
              "        -0.30284441, -0.26360274],\n",
              "       [-0.37511786, -0.49997924, -0.59690657, ...,  0.37588849,\n",
              "         0.89967717, -0.26360274],\n",
              "       [-0.38592298, -0.49997924, -1.00641779, ...,  0.42454294,\n",
              "         0.31822262, -0.26360274]])"
            ]
          },
          "execution_count": 41,
          "metadata": {},
          "output_type": "execute_result"
        }
      ],
      "source": [
        "scale_train = sc.transform(x_train) # here transform will take mean and variance for corresponding variable \n",
        "scale_train"
      ]
    },
    {
      "cell_type": "code",
      "execution_count": null,
      "id": "equipped-warning",
      "metadata": {
        "scrolled": true,
        "id": "equipped-warning",
        "outputId": "d471408a-1aea-4c59-b809-722109a5365b"
      },
      "outputs": [
        {
          "data": {
            "text/html": [
              "<div>\n",
              "<style scoped>\n",
              "    .dataframe tbody tr th:only-of-type {\n",
              "        vertical-align: middle;\n",
              "    }\n",
              "\n",
              "    .dataframe tbody tr th {\n",
              "        vertical-align: top;\n",
              "    }\n",
              "\n",
              "    .dataframe thead th {\n",
              "        text-align: right;\n",
              "    }\n",
              "</style>\n",
              "<table border=\"1\" class=\"dataframe\">\n",
              "  <thead>\n",
              "    <tr style=\"text-align: right;\">\n",
              "      <th></th>\n",
              "      <th>crim</th>\n",
              "      <th>zn</th>\n",
              "      <th>indus</th>\n",
              "      <th>nox</th>\n",
              "      <th>rm</th>\n",
              "      <th>age</th>\n",
              "      <th>dis</th>\n",
              "      <th>rad</th>\n",
              "      <th>tax</th>\n",
              "      <th>ptratio</th>\n",
              "      <th>b</th>\n",
              "      <th>lstat</th>\n",
              "      <th>chas_1</th>\n",
              "    </tr>\n",
              "  </thead>\n",
              "  <tbody>\n",
              "    <tr>\n",
              "      <th>0</th>\n",
              "      <td>-0.207356</td>\n",
              "      <td>-0.499979</td>\n",
              "      <td>1.548016</td>\n",
              "      <td>0.588213</td>\n",
              "      <td>-1.839367</td>\n",
              "      <td>1.107402</td>\n",
              "      <td>-1.125110</td>\n",
              "      <td>-0.618160</td>\n",
              "      <td>0.206735</td>\n",
              "      <td>1.227257</td>\n",
              "      <td>0.424543</td>\n",
              "      <td>3.108073</td>\n",
              "      <td>-0.263603</td>\n",
              "    </tr>\n",
              "    <tr>\n",
              "      <th>1</th>\n",
              "      <td>-0.388865</td>\n",
              "      <td>0.346774</td>\n",
              "      <td>-0.589747</td>\n",
              "      <td>-0.797821</td>\n",
              "      <td>0.327487</td>\n",
              "      <td>-0.367661</td>\n",
              "      <td>0.075090</td>\n",
              "      <td>-0.733637</td>\n",
              "      <td>-1.049493</td>\n",
              "      <td>0.056963</td>\n",
              "      <td>0.401853</td>\n",
              "      <td>-0.666430</td>\n",
              "      <td>-0.263603</td>\n",
              "    </tr>\n",
              "    <tr>\n",
              "      <th>2</th>\n",
              "      <td>-0.335735</td>\n",
              "      <td>-0.499979</td>\n",
              "      <td>1.548016</td>\n",
              "      <td>0.588213</td>\n",
              "      <td>0.037907</td>\n",
              "      <td>1.043114</td>\n",
              "      <td>-0.799984</td>\n",
              "      <td>-0.618160</td>\n",
              "      <td>0.206735</td>\n",
              "      <td>1.227257</td>\n",
              "      <td>0.398461</td>\n",
              "      <td>0.639367</td>\n",
              "      <td>-0.263603</td>\n",
              "    </tr>\n",
              "    <tr>\n",
              "      <th>3</th>\n",
              "      <td>-0.394852</td>\n",
              "      <td>2.463658</td>\n",
              "      <td>-1.265584</td>\n",
              "      <td>-1.352235</td>\n",
              "      <td>0.052172</td>\n",
              "      <td>-1.746292</td>\n",
              "      <td>1.968937</td>\n",
              "      <td>-0.502683</td>\n",
              "      <td>-0.257013</td>\n",
              "      <td>-1.653466</td>\n",
              "      <td>0.089342</td>\n",
              "      <td>-1.056896</td>\n",
              "      <td>-0.263603</td>\n",
              "    </tr>\n",
              "    <tr>\n",
              "      <th>4</th>\n",
              "      <td>-0.391456</td>\n",
              "      <td>-0.499979</td>\n",
              "      <td>2.086394</td>\n",
              "      <td>0.215716</td>\n",
              "      <td>-0.495604</td>\n",
              "      <td>0.853820</td>\n",
              "      <td>-0.811511</td>\n",
              "      <td>-0.849114</td>\n",
              "      <td>-1.254951</td>\n",
              "      <td>0.282020</td>\n",
              "      <td>0.204545</td>\n",
              "      <td>0.776596</td>\n",
              "      <td>-0.263603</td>\n",
              "    </tr>\n",
              "  </tbody>\n",
              "</table>\n",
              "</div>"
            ],
            "text/plain": [
              "       crim        zn     indus       nox        rm       age       dis  \\\n",
              "0 -0.207356 -0.499979  1.548016  0.588213 -1.839367  1.107402 -1.125110   \n",
              "1 -0.388865  0.346774 -0.589747 -0.797821  0.327487 -0.367661  0.075090   \n",
              "2 -0.335735 -0.499979  1.548016  0.588213  0.037907  1.043114 -0.799984   \n",
              "3 -0.394852  2.463658 -1.265584 -1.352235  0.052172 -1.746292  1.968937   \n",
              "4 -0.391456 -0.499979  2.086394  0.215716 -0.495604  0.853820 -0.811511   \n",
              "\n",
              "        rad       tax   ptratio         b     lstat    chas_1  \n",
              "0 -0.618160  0.206735  1.227257  0.424543  3.108073 -0.263603  \n",
              "1 -0.733637 -1.049493  0.056963  0.401853 -0.666430 -0.263603  \n",
              "2 -0.618160  0.206735  1.227257  0.398461  0.639367 -0.263603  \n",
              "3 -0.502683 -0.257013 -1.653466  0.089342 -1.056896 -0.263603  \n",
              "4 -0.849114 -1.254951  0.282020  0.204545  0.776596 -0.263603  "
            ]
          },
          "execution_count": 42,
          "metadata": {},
          "output_type": "execute_result"
        }
      ],
      "source": [
        "train_data = pd.DataFrame(scale_train,columns=x_train.columns)\n",
        "train_data.head()"
      ]
    },
    {
      "cell_type": "code",
      "execution_count": null,
      "id": "consecutive-technical",
      "metadata": {
        "id": "consecutive-technical"
      },
      "outputs": [],
      "source": [
        "scale_test = sc.transform(x_test)"
      ]
    },
    {
      "cell_type": "code",
      "execution_count": null,
      "id": "aging-anger",
      "metadata": {
        "id": "aging-anger",
        "outputId": "dc67f503-071d-44fa-d5ec-6a3141ad02f4"
      },
      "outputs": [
        {
          "data": {
            "text/html": [
              "<div>\n",
              "<style scoped>\n",
              "    .dataframe tbody tr th:only-of-type {\n",
              "        vertical-align: middle;\n",
              "    }\n",
              "\n",
              "    .dataframe tbody tr th {\n",
              "        vertical-align: top;\n",
              "    }\n",
              "\n",
              "    .dataframe thead th {\n",
              "        text-align: right;\n",
              "    }\n",
              "</style>\n",
              "<table border=\"1\" class=\"dataframe\">\n",
              "  <thead>\n",
              "    <tr style=\"text-align: right;\">\n",
              "      <th></th>\n",
              "      <th>crim</th>\n",
              "      <th>zn</th>\n",
              "      <th>indus</th>\n",
              "      <th>nox</th>\n",
              "      <th>rm</th>\n",
              "      <th>age</th>\n",
              "      <th>dis</th>\n",
              "      <th>rad</th>\n",
              "      <th>tax</th>\n",
              "      <th>ptratio</th>\n",
              "      <th>b</th>\n",
              "      <th>lstat</th>\n",
              "      <th>chas_1</th>\n",
              "    </tr>\n",
              "  </thead>\n",
              "  <tbody>\n",
              "    <tr>\n",
              "      <th>0</th>\n",
              "      <td>-0.394543</td>\n",
              "      <td>-0.499979</td>\n",
              "      <td>-1.122398</td>\n",
              "      <td>-0.832472</td>\n",
              "      <td>0.035054</td>\n",
              "      <td>-1.849868</td>\n",
              "      <td>0.703305</td>\n",
              "      <td>-0.618160</td>\n",
              "      <td>0.165643</td>\n",
              "      <td>-0.708229</td>\n",
              "      <td>0.170861</td>\n",
              "      <td>-0.721605</td>\n",
              "      <td>-0.263603</td>\n",
              "    </tr>\n",
              "    <tr>\n",
              "      <th>1</th>\n",
              "      <td>0.704199</td>\n",
              "      <td>-0.499979</td>\n",
              "      <td>1.005342</td>\n",
              "      <td>0.648852</td>\n",
              "      <td>-0.131847</td>\n",
              "      <td>1.107402</td>\n",
              "      <td>-1.256023</td>\n",
              "      <td>1.691377</td>\n",
              "      <td>1.551016</td>\n",
              "      <td>0.777144</td>\n",
              "      <td>0.064898</td>\n",
              "      <td>-0.411779</td>\n",
              "      <td>-0.263603</td>\n",
              "    </tr>\n",
              "    <tr>\n",
              "      <th>2</th>\n",
              "      <td>-0.388907</td>\n",
              "      <td>-0.499979</td>\n",
              "      <td>0.402530</td>\n",
              "      <td>-0.052828</td>\n",
              "      <td>0.092114</td>\n",
              "      <td>0.835962</td>\n",
              "      <td>-0.193322</td>\n",
              "      <td>-0.502683</td>\n",
              "      <td>-0.738371</td>\n",
              "      <td>-0.933285</td>\n",
              "      <td>0.387584</td>\n",
              "      <td>-0.274550</td>\n",
              "      <td>3.793587</td>\n",
              "    </tr>\n",
              "    <tr>\n",
              "      <th>3</th>\n",
              "      <td>2.570716</td>\n",
              "      <td>-0.499979</td>\n",
              "      <td>1.005342</td>\n",
              "      <td>1.185940</td>\n",
              "      <td>-1.368622</td>\n",
              "      <td>0.964539</td>\n",
              "      <td>-0.997540</td>\n",
              "      <td>1.691377</td>\n",
              "      <td>1.551016</td>\n",
              "      <td>0.777144</td>\n",
              "      <td>0.424543</td>\n",
              "      <td>1.036906</td>\n",
              "      <td>-0.263603</td>\n",
              "    </tr>\n",
              "    <tr>\n",
              "      <th>4</th>\n",
              "      <td>-0.395835</td>\n",
              "      <td>-0.499979</td>\n",
              "      <td>0.250753</td>\n",
              "      <td>-1.031715</td>\n",
              "      <td>-0.109022</td>\n",
              "      <td>-0.546240</td>\n",
              "      <td>0.606198</td>\n",
              "      <td>-0.502683</td>\n",
              "      <td>-0.022204</td>\n",
              "      <td>0.101975</td>\n",
              "      <td>0.301737</td>\n",
              "      <td>-0.014239</td>\n",
              "      <td>-0.263603</td>\n",
              "    </tr>\n",
              "  </tbody>\n",
              "</table>\n",
              "</div>"
            ],
            "text/plain": [
              "       crim        zn     indus       nox        rm       age       dis  \\\n",
              "0 -0.394543 -0.499979 -1.122398 -0.832472  0.035054 -1.849868  0.703305   \n",
              "1  0.704199 -0.499979  1.005342  0.648852 -0.131847  1.107402 -1.256023   \n",
              "2 -0.388907 -0.499979  0.402530 -0.052828  0.092114  0.835962 -0.193322   \n",
              "3  2.570716 -0.499979  1.005342  1.185940 -1.368622  0.964539 -0.997540   \n",
              "4 -0.395835 -0.499979  0.250753 -1.031715 -0.109022 -0.546240  0.606198   \n",
              "\n",
              "        rad       tax   ptratio         b     lstat    chas_1  \n",
              "0 -0.618160  0.165643 -0.708229  0.170861 -0.721605 -0.263603  \n",
              "1  1.691377  1.551016  0.777144  0.064898 -0.411779 -0.263603  \n",
              "2 -0.502683 -0.738371 -0.933285  0.387584 -0.274550  3.793587  \n",
              "3  1.691377  1.551016  0.777144  0.424543  1.036906 -0.263603  \n",
              "4 -0.502683 -0.022204  0.101975  0.301737 -0.014239 -0.263603  "
            ]
          },
          "execution_count": 44,
          "metadata": {},
          "output_type": "execute_result"
        }
      ],
      "source": [
        "test_data = pd.DataFrame(scale_test,columns=x_test.columns)\n",
        "test_data.head()"
      ]
    },
    {
      "cell_type": "code",
      "execution_count": null,
      "id": "celtic-sleeve",
      "metadata": {
        "id": "celtic-sleeve"
      },
      "outputs": [],
      "source": [
        "train_data['medv'] = y_train.values"
      ]
    },
    {
      "cell_type": "code",
      "execution_count": null,
      "id": "polished-louisville",
      "metadata": {
        "id": "polished-louisville"
      },
      "outputs": [],
      "source": [
        "test_data['medv'] = y_test.values"
      ]
    },
    {
      "cell_type": "code",
      "execution_count": null,
      "id": "fatty-latvia",
      "metadata": {
        "id": "fatty-latvia",
        "outputId": "30ae37fd-6ec0-479b-8527-83527a3d3411"
      },
      "outputs": [
        {
          "data": {
            "text/html": [
              "<div>\n",
              "<style scoped>\n",
              "    .dataframe tbody tr th:only-of-type {\n",
              "        vertical-align: middle;\n",
              "    }\n",
              "\n",
              "    .dataframe tbody tr th {\n",
              "        vertical-align: top;\n",
              "    }\n",
              "\n",
              "    .dataframe thead th {\n",
              "        text-align: right;\n",
              "    }\n",
              "</style>\n",
              "<table border=\"1\" class=\"dataframe\">\n",
              "  <thead>\n",
              "    <tr style=\"text-align: right;\">\n",
              "      <th></th>\n",
              "      <th>crim</th>\n",
              "      <th>zn</th>\n",
              "      <th>indus</th>\n",
              "      <th>nox</th>\n",
              "      <th>rm</th>\n",
              "      <th>age</th>\n",
              "      <th>dis</th>\n",
              "      <th>rad</th>\n",
              "      <th>tax</th>\n",
              "      <th>ptratio</th>\n",
              "      <th>b</th>\n",
              "      <th>lstat</th>\n",
              "      <th>chas_1</th>\n",
              "      <th>medv</th>\n",
              "    </tr>\n",
              "  </thead>\n",
              "  <tbody>\n",
              "    <tr>\n",
              "      <th>0</th>\n",
              "      <td>-0.207356</td>\n",
              "      <td>-0.499979</td>\n",
              "      <td>1.548016</td>\n",
              "      <td>0.588213</td>\n",
              "      <td>-1.839367</td>\n",
              "      <td>1.107402</td>\n",
              "      <td>-1.125110</td>\n",
              "      <td>-0.618160</td>\n",
              "      <td>0.206735</td>\n",
              "      <td>1.227257</td>\n",
              "      <td>0.424543</td>\n",
              "      <td>3.108073</td>\n",
              "      <td>-0.263603</td>\n",
              "      <td>14.4</td>\n",
              "    </tr>\n",
              "    <tr>\n",
              "      <th>1</th>\n",
              "      <td>-0.388865</td>\n",
              "      <td>0.346774</td>\n",
              "      <td>-0.589747</td>\n",
              "      <td>-0.797821</td>\n",
              "      <td>0.327487</td>\n",
              "      <td>-0.367661</td>\n",
              "      <td>0.075090</td>\n",
              "      <td>-0.733637</td>\n",
              "      <td>-1.049493</td>\n",
              "      <td>0.056963</td>\n",
              "      <td>0.401853</td>\n",
              "      <td>-0.666430</td>\n",
              "      <td>-0.263603</td>\n",
              "      <td>24.4</td>\n",
              "    </tr>\n",
              "    <tr>\n",
              "      <th>2</th>\n",
              "      <td>-0.335735</td>\n",
              "      <td>-0.499979</td>\n",
              "      <td>1.548016</td>\n",
              "      <td>0.588213</td>\n",
              "      <td>0.037907</td>\n",
              "      <td>1.043114</td>\n",
              "      <td>-0.799984</td>\n",
              "      <td>-0.618160</td>\n",
              "      <td>0.206735</td>\n",
              "      <td>1.227257</td>\n",
              "      <td>0.398461</td>\n",
              "      <td>0.639367</td>\n",
              "      <td>-0.263603</td>\n",
              "      <td>18.1</td>\n",
              "    </tr>\n",
              "    <tr>\n",
              "      <th>3</th>\n",
              "      <td>-0.394852</td>\n",
              "      <td>2.463658</td>\n",
              "      <td>-1.265584</td>\n",
              "      <td>-1.352235</td>\n",
              "      <td>0.052172</td>\n",
              "      <td>-1.746292</td>\n",
              "      <td>1.968937</td>\n",
              "      <td>-0.502683</td>\n",
              "      <td>-0.257013</td>\n",
              "      <td>-1.653466</td>\n",
              "      <td>0.089342</td>\n",
              "      <td>-1.056896</td>\n",
              "      <td>-0.263603</td>\n",
              "      <td>22.5</td>\n",
              "    </tr>\n",
              "    <tr>\n",
              "      <th>4</th>\n",
              "      <td>-0.391456</td>\n",
              "      <td>-0.499979</td>\n",
              "      <td>2.086394</td>\n",
              "      <td>0.215716</td>\n",
              "      <td>-0.495604</td>\n",
              "      <td>0.853820</td>\n",
              "      <td>-0.811511</td>\n",
              "      <td>-0.849114</td>\n",
              "      <td>-1.254951</td>\n",
              "      <td>0.282020</td>\n",
              "      <td>0.204545</td>\n",
              "      <td>0.776596</td>\n",
              "      <td>-0.263603</td>\n",
              "      <td>20.5</td>\n",
              "    </tr>\n",
              "  </tbody>\n",
              "</table>\n",
              "</div>"
            ],
            "text/plain": [
              "       crim        zn     indus       nox        rm       age       dis  \\\n",
              "0 -0.207356 -0.499979  1.548016  0.588213 -1.839367  1.107402 -1.125110   \n",
              "1 -0.388865  0.346774 -0.589747 -0.797821  0.327487 -0.367661  0.075090   \n",
              "2 -0.335735 -0.499979  1.548016  0.588213  0.037907  1.043114 -0.799984   \n",
              "3 -0.394852  2.463658 -1.265584 -1.352235  0.052172 -1.746292  1.968937   \n",
              "4 -0.391456 -0.499979  2.086394  0.215716 -0.495604  0.853820 -0.811511   \n",
              "\n",
              "        rad       tax   ptratio         b     lstat    chas_1  medv  \n",
              "0 -0.618160  0.206735  1.227257  0.424543  3.108073 -0.263603  14.4  \n",
              "1 -0.733637 -1.049493  0.056963  0.401853 -0.666430 -0.263603  24.4  \n",
              "2 -0.618160  0.206735  1.227257  0.398461  0.639367 -0.263603  18.1  \n",
              "3 -0.502683 -0.257013 -1.653466  0.089342 -1.056896 -0.263603  22.5  \n",
              "4 -0.849114 -1.254951  0.282020  0.204545  0.776596 -0.263603  20.5  "
            ]
          },
          "execution_count": 47,
          "metadata": {},
          "output_type": "execute_result"
        }
      ],
      "source": [
        "train_data.head()"
      ]
    },
    {
      "cell_type": "code",
      "execution_count": null,
      "id": "minor-tiger",
      "metadata": {
        "id": "minor-tiger",
        "outputId": "c32ae7d4-bbac-44d9-de94-2b01b734ef63"
      },
      "outputs": [
        {
          "data": {
            "text/html": [
              "<div>\n",
              "<style scoped>\n",
              "    .dataframe tbody tr th:only-of-type {\n",
              "        vertical-align: middle;\n",
              "    }\n",
              "\n",
              "    .dataframe tbody tr th {\n",
              "        vertical-align: top;\n",
              "    }\n",
              "\n",
              "    .dataframe thead th {\n",
              "        text-align: right;\n",
              "    }\n",
              "</style>\n",
              "<table border=\"1\" class=\"dataframe\">\n",
              "  <thead>\n",
              "    <tr style=\"text-align: right;\">\n",
              "      <th></th>\n",
              "      <th>crim</th>\n",
              "      <th>zn</th>\n",
              "      <th>indus</th>\n",
              "      <th>nox</th>\n",
              "      <th>rm</th>\n",
              "      <th>age</th>\n",
              "      <th>dis</th>\n",
              "      <th>rad</th>\n",
              "      <th>tax</th>\n",
              "      <th>ptratio</th>\n",
              "      <th>b</th>\n",
              "      <th>lstat</th>\n",
              "      <th>chas_1</th>\n",
              "      <th>medv</th>\n",
              "    </tr>\n",
              "  </thead>\n",
              "  <tbody>\n",
              "    <tr>\n",
              "      <th>0</th>\n",
              "      <td>-0.394543</td>\n",
              "      <td>-0.499979</td>\n",
              "      <td>-1.122398</td>\n",
              "      <td>-0.832472</td>\n",
              "      <td>0.035054</td>\n",
              "      <td>-1.849868</td>\n",
              "      <td>0.703305</td>\n",
              "      <td>-0.618160</td>\n",
              "      <td>0.165643</td>\n",
              "      <td>-0.708229</td>\n",
              "      <td>0.170861</td>\n",
              "      <td>-0.721605</td>\n",
              "      <td>-0.263603</td>\n",
              "      <td>22.6</td>\n",
              "    </tr>\n",
              "    <tr>\n",
              "      <th>1</th>\n",
              "      <td>0.704199</td>\n",
              "      <td>-0.499979</td>\n",
              "      <td>1.005342</td>\n",
              "      <td>0.648852</td>\n",
              "      <td>-0.131847</td>\n",
              "      <td>1.107402</td>\n",
              "      <td>-1.256023</td>\n",
              "      <td>1.691377</td>\n",
              "      <td>1.551016</td>\n",
              "      <td>0.777144</td>\n",
              "      <td>0.064898</td>\n",
              "      <td>-0.411779</td>\n",
              "      <td>-0.263603</td>\n",
              "      <td>50.0</td>\n",
              "    </tr>\n",
              "    <tr>\n",
              "      <th>2</th>\n",
              "      <td>-0.388907</td>\n",
              "      <td>-0.499979</td>\n",
              "      <td>0.402530</td>\n",
              "      <td>-0.052828</td>\n",
              "      <td>0.092114</td>\n",
              "      <td>0.835962</td>\n",
              "      <td>-0.193322</td>\n",
              "      <td>-0.502683</td>\n",
              "      <td>-0.738371</td>\n",
              "      <td>-0.933285</td>\n",
              "      <td>0.387584</td>\n",
              "      <td>-0.274550</td>\n",
              "      <td>3.793587</td>\n",
              "      <td>23.0</td>\n",
              "    </tr>\n",
              "    <tr>\n",
              "      <th>3</th>\n",
              "      <td>2.570716</td>\n",
              "      <td>-0.499979</td>\n",
              "      <td>1.005342</td>\n",
              "      <td>1.185940</td>\n",
              "      <td>-1.368622</td>\n",
              "      <td>0.964539</td>\n",
              "      <td>-0.997540</td>\n",
              "      <td>1.691377</td>\n",
              "      <td>1.551016</td>\n",
              "      <td>0.777144</td>\n",
              "      <td>0.424543</td>\n",
              "      <td>1.036906</td>\n",
              "      <td>-0.263603</td>\n",
              "      <td>8.3</td>\n",
              "    </tr>\n",
              "    <tr>\n",
              "      <th>4</th>\n",
              "      <td>-0.395835</td>\n",
              "      <td>-0.499979</td>\n",
              "      <td>0.250753</td>\n",
              "      <td>-1.031715</td>\n",
              "      <td>-0.109022</td>\n",
              "      <td>-0.546240</td>\n",
              "      <td>0.606198</td>\n",
              "      <td>-0.502683</td>\n",
              "      <td>-0.022204</td>\n",
              "      <td>0.101975</td>\n",
              "      <td>0.301737</td>\n",
              "      <td>-0.014239</td>\n",
              "      <td>-0.263603</td>\n",
              "      <td>21.2</td>\n",
              "    </tr>\n",
              "  </tbody>\n",
              "</table>\n",
              "</div>"
            ],
            "text/plain": [
              "       crim        zn     indus       nox        rm       age       dis  \\\n",
              "0 -0.394543 -0.499979 -1.122398 -0.832472  0.035054 -1.849868  0.703305   \n",
              "1  0.704199 -0.499979  1.005342  0.648852 -0.131847  1.107402 -1.256023   \n",
              "2 -0.388907 -0.499979  0.402530 -0.052828  0.092114  0.835962 -0.193322   \n",
              "3  2.570716 -0.499979  1.005342  1.185940 -1.368622  0.964539 -0.997540   \n",
              "4 -0.395835 -0.499979  0.250753 -1.031715 -0.109022 -0.546240  0.606198   \n",
              "\n",
              "        rad       tax   ptratio         b     lstat    chas_1  medv  \n",
              "0 -0.618160  0.165643 -0.708229  0.170861 -0.721605 -0.263603  22.6  \n",
              "1  1.691377  1.551016  0.777144  0.064898 -0.411779 -0.263603  50.0  \n",
              "2 -0.502683 -0.738371 -0.933285  0.387584 -0.274550  3.793587  23.0  \n",
              "3  1.691377  1.551016  0.777144  0.424543  1.036906 -0.263603   8.3  \n",
              "4 -0.502683 -0.022204  0.101975  0.301737 -0.014239 -0.263603  21.2  "
            ]
          },
          "execution_count": 48,
          "metadata": {},
          "output_type": "execute_result"
        }
      ],
      "source": [
        "test_data.head()"
      ]
    },
    {
      "cell_type": "code",
      "execution_count": null,
      "id": "illegal-century",
      "metadata": {
        "id": "illegal-century"
      },
      "outputs": [],
      "source": [
        "lm_s = ols('medv~crim+zn+indus+nox+rm+age+dis+rad+tax+ptratio+b+lstat+chas_1',data = train_data).fit()"
      ]
    },
    {
      "cell_type": "code",
      "execution_count": null,
      "id": "lonely-mention",
      "metadata": {
        "id": "lonely-mention",
        "outputId": "e1aa6bca-bee8-4128-c39b-9e1322d0bcad"
      },
      "outputs": [
        {
          "name": "stdout",
          "output_type": "stream",
          "text": [
            "                            OLS Regression Results                            \n",
            "==============================================================================\n",
            "Dep. Variable:                   medv   R-squared:                       0.765\n",
            "Model:                            OLS   Adj. R-squared:                  0.756\n",
            "Method:                 Least Squares   F-statistic:                     84.92\n",
            "Date:                Sun, 11 Apr 2021   Prob (F-statistic):           2.76e-98\n",
            "Time:                        10:57:15   Log-Likelihood:                -1032.2\n",
            "No. Observations:                 354   AIC:                             2092.\n",
            "Df Residuals:                     340   BIC:                             2147.\n",
            "Df Model:                          13                                         \n",
            "Covariance Type:            nonrobust                                         \n",
            "==============================================================================\n",
            "                 coef    std err          t      P>|t|      [0.025      0.975]\n",
            "------------------------------------------------------------------------------\n",
            "Intercept     22.7455      0.242     93.880      0.000      22.269      23.222\n",
            "crim          -1.0119      0.318     -3.185      0.002      -1.637      -0.387\n",
            "zn             1.0503      0.371      2.834      0.005       0.321       1.779\n",
            "indus          0.0792      0.478      0.166      0.868      -0.861       1.019\n",
            "nox           -1.8737      0.518     -3.618      0.000      -2.892      -0.855\n",
            "rm             2.7053      0.344      7.867      0.000       2.029       3.382\n",
            "age           -0.2796      0.441     -0.634      0.527      -1.148       0.588\n",
            "dis           -3.0977      0.484     -6.402      0.000      -4.049      -2.146\n",
            "rad            2.0969      0.665      3.152      0.002       0.788       3.405\n",
            "tax           -1.8861      0.729     -2.586      0.010      -3.320      -0.452\n",
            "ptratio       -2.2611      0.332     -6.803      0.000      -2.915      -1.607\n",
            "b              0.5826      0.278      2.099      0.037       0.037       1.129\n",
            "lstat         -3.4405      0.426     -8.068      0.000      -4.279      -2.602\n",
            "chas_1         0.6190      0.249      2.483      0.014       0.129       1.109\n",
            "==============================================================================\n",
            "Omnibus:                      133.612   Durbin-Watson:                   2.019\n",
            "Prob(Omnibus):                  0.000   Jarque-Bera (JB):              634.086\n",
            "Skew:                           1.547   Prob(JB):                    2.04e-138\n",
            "Kurtosis:                       8.781   Cond. No.                         9.79\n",
            "==============================================================================\n",
            "\n",
            "Notes:\n",
            "[1] Standard Errors assume that the covariance matrix of the errors is correctly specified.\n"
          ]
        }
      ],
      "source": [
        "print(lm_s.summary())"
      ]
    },
    {
      "cell_type": "code",
      "execution_count": null,
      "id": "earned-delaware",
      "metadata": {
        "id": "earned-delaware",
        "outputId": "91286cf2-53b9-4573-e2b0-739c7befc283"
      },
      "outputs": [
        {
          "data": {
            "text/html": [
              "<table class=\"simpletable\">\n",
              "<caption>OLS Regression Results</caption>\n",
              "<tr>\n",
              "  <th>Dep. Variable:</th>          <td>medv</td>       <th>  R-squared:         </th> <td>   0.765</td>\n",
              "</tr>\n",
              "<tr>\n",
              "  <th>Model:</th>                   <td>OLS</td>       <th>  Adj. R-squared:    </th> <td>   0.756</td>\n",
              "</tr>\n",
              "<tr>\n",
              "  <th>Method:</th>             <td>Least Squares</td>  <th>  F-statistic:       </th> <td>   84.92</td>\n",
              "</tr>\n",
              "<tr>\n",
              "  <th>Date:</th>             <td>Sun, 11 Apr 2021</td> <th>  Prob (F-statistic):</th> <td>2.76e-98</td>\n",
              "</tr>\n",
              "<tr>\n",
              "  <th>Time:</th>                 <td>10:57:20</td>     <th>  Log-Likelihood:    </th> <td> -1032.2</td>\n",
              "</tr>\n",
              "<tr>\n",
              "  <th>No. Observations:</th>      <td>   354</td>      <th>  AIC:               </th> <td>   2092.</td>\n",
              "</tr>\n",
              "<tr>\n",
              "  <th>Df Residuals:</th>          <td>   340</td>      <th>  BIC:               </th> <td>   2147.</td>\n",
              "</tr>\n",
              "<tr>\n",
              "  <th>Df Model:</th>              <td>    13</td>      <th>                     </th>     <td> </td>   \n",
              "</tr>\n",
              "<tr>\n",
              "  <th>Covariance Type:</th>      <td>nonrobust</td>    <th>                     </th>     <td> </td>   \n",
              "</tr>\n",
              "</table>\n",
              "<table class=\"simpletable\">\n",
              "<tr>\n",
              "      <td></td>         <th>coef</th>     <th>std err</th>      <th>t</th>      <th>P>|t|</th>  <th>[0.025</th>    <th>0.975]</th>  \n",
              "</tr>\n",
              "<tr>\n",
              "  <th>Intercept</th> <td>   22.7455</td> <td>    0.242</td> <td>   93.880</td> <td> 0.000</td> <td>   22.269</td> <td>   23.222</td>\n",
              "</tr>\n",
              "<tr>\n",
              "  <th>crim</th>      <td>   -1.0119</td> <td>    0.318</td> <td>   -3.185</td> <td> 0.002</td> <td>   -1.637</td> <td>   -0.387</td>\n",
              "</tr>\n",
              "<tr>\n",
              "  <th>zn</th>        <td>    1.0503</td> <td>    0.371</td> <td>    2.834</td> <td> 0.005</td> <td>    0.321</td> <td>    1.779</td>\n",
              "</tr>\n",
              "<tr>\n",
              "  <th>indus</th>     <td>    0.0792</td> <td>    0.478</td> <td>    0.166</td> <td> 0.868</td> <td>   -0.861</td> <td>    1.019</td>\n",
              "</tr>\n",
              "<tr>\n",
              "  <th>nox</th>       <td>   -1.8737</td> <td>    0.518</td> <td>   -3.618</td> <td> 0.000</td> <td>   -2.892</td> <td>   -0.855</td>\n",
              "</tr>\n",
              "<tr>\n",
              "  <th>rm</th>        <td>    2.7053</td> <td>    0.344</td> <td>    7.867</td> <td> 0.000</td> <td>    2.029</td> <td>    3.382</td>\n",
              "</tr>\n",
              "<tr>\n",
              "  <th>age</th>       <td>   -0.2796</td> <td>    0.441</td> <td>   -0.634</td> <td> 0.527</td> <td>   -1.148</td> <td>    0.588</td>\n",
              "</tr>\n",
              "<tr>\n",
              "  <th>dis</th>       <td>   -3.0977</td> <td>    0.484</td> <td>   -6.402</td> <td> 0.000</td> <td>   -4.049</td> <td>   -2.146</td>\n",
              "</tr>\n",
              "<tr>\n",
              "  <th>rad</th>       <td>    2.0969</td> <td>    0.665</td> <td>    3.152</td> <td> 0.002</td> <td>    0.788</td> <td>    3.405</td>\n",
              "</tr>\n",
              "<tr>\n",
              "  <th>tax</th>       <td>   -1.8861</td> <td>    0.729</td> <td>   -2.586</td> <td> 0.010</td> <td>   -3.320</td> <td>   -0.452</td>\n",
              "</tr>\n",
              "<tr>\n",
              "  <th>ptratio</th>   <td>   -2.2611</td> <td>    0.332</td> <td>   -6.803</td> <td> 0.000</td> <td>   -2.915</td> <td>   -1.607</td>\n",
              "</tr>\n",
              "<tr>\n",
              "  <th>b</th>         <td>    0.5826</td> <td>    0.278</td> <td>    2.099</td> <td> 0.037</td> <td>    0.037</td> <td>    1.129</td>\n",
              "</tr>\n",
              "<tr>\n",
              "  <th>lstat</th>     <td>   -3.4405</td> <td>    0.426</td> <td>   -8.068</td> <td> 0.000</td> <td>   -4.279</td> <td>   -2.602</td>\n",
              "</tr>\n",
              "<tr>\n",
              "  <th>chas_1</th>    <td>    0.6190</td> <td>    0.249</td> <td>    2.483</td> <td> 0.014</td> <td>    0.129</td> <td>    1.109</td>\n",
              "</tr>\n",
              "</table>\n",
              "<table class=\"simpletable\">\n",
              "<tr>\n",
              "  <th>Omnibus:</th>       <td>133.612</td> <th>  Durbin-Watson:     </th> <td>   2.019</td> \n",
              "</tr>\n",
              "<tr>\n",
              "  <th>Prob(Omnibus):</th> <td> 0.000</td>  <th>  Jarque-Bera (JB):  </th> <td> 634.086</td> \n",
              "</tr>\n",
              "<tr>\n",
              "  <th>Skew:</th>          <td> 1.547</td>  <th>  Prob(JB):          </th> <td>2.04e-138</td>\n",
              "</tr>\n",
              "<tr>\n",
              "  <th>Kurtosis:</th>      <td> 8.781</td>  <th>  Cond. No.          </th> <td>    9.79</td> \n",
              "</tr>\n",
              "</table><br/><br/>Notes:<br/>[1] Standard Errors assume that the covariance matrix of the errors is correctly specified."
            ],
            "text/plain": [
              "<class 'statsmodels.iolib.summary.Summary'>\n",
              "\"\"\"\n",
              "                            OLS Regression Results                            \n",
              "==============================================================================\n",
              "Dep. Variable:                   medv   R-squared:                       0.765\n",
              "Model:                            OLS   Adj. R-squared:                  0.756\n",
              "Method:                 Least Squares   F-statistic:                     84.92\n",
              "Date:                Sun, 11 Apr 2021   Prob (F-statistic):           2.76e-98\n",
              "Time:                        10:57:20   Log-Likelihood:                -1032.2\n",
              "No. Observations:                 354   AIC:                             2092.\n",
              "Df Residuals:                     340   BIC:                             2147.\n",
              "Df Model:                          13                                         \n",
              "Covariance Type:            nonrobust                                         \n",
              "==============================================================================\n",
              "                 coef    std err          t      P>|t|      [0.025      0.975]\n",
              "------------------------------------------------------------------------------\n",
              "Intercept     22.7455      0.242     93.880      0.000      22.269      23.222\n",
              "crim          -1.0119      0.318     -3.185      0.002      -1.637      -0.387\n",
              "zn             1.0503      0.371      2.834      0.005       0.321       1.779\n",
              "indus          0.0792      0.478      0.166      0.868      -0.861       1.019\n",
              "nox           -1.8737      0.518     -3.618      0.000      -2.892      -0.855\n",
              "rm             2.7053      0.344      7.867      0.000       2.029       3.382\n",
              "age           -0.2796      0.441     -0.634      0.527      -1.148       0.588\n",
              "dis           -3.0977      0.484     -6.402      0.000      -4.049      -2.146\n",
              "rad            2.0969      0.665      3.152      0.002       0.788       3.405\n",
              "tax           -1.8861      0.729     -2.586      0.010      -3.320      -0.452\n",
              "ptratio       -2.2611      0.332     -6.803      0.000      -2.915      -1.607\n",
              "b              0.5826      0.278      2.099      0.037       0.037       1.129\n",
              "lstat         -3.4405      0.426     -8.068      0.000      -4.279      -2.602\n",
              "chas_1         0.6190      0.249      2.483      0.014       0.129       1.109\n",
              "==============================================================================\n",
              "Omnibus:                      133.612   Durbin-Watson:                   2.019\n",
              "Prob(Omnibus):                  0.000   Jarque-Bera (JB):              634.086\n",
              "Skew:                           1.547   Prob(JB):                    2.04e-138\n",
              "Kurtosis:                       8.781   Cond. No.                         9.79\n",
              "==============================================================================\n",
              "\n",
              "Notes:\n",
              "[1] Standard Errors assume that the covariance matrix of the errors is correctly specified.\n",
              "\"\"\""
            ]
          },
          "execution_count": 51,
          "metadata": {},
          "output_type": "execute_result"
        }
      ],
      "source": [
        "lm_s.summary() #Durbin-Watson: 2.019 approx equal to 2 so no auto correlation\n",
        "# Prob(Omnibus):0.000 (tells abt overall significance of the model) We reject Ho so model is significant\n",
        "# Prob(JB):2.04e-138 (Tells about normality of error term) We reject Ho error is not normal. \n",
        "# Still there is a chance of increasing the variability in the model\n",
        "# Cond. No. 9.79 it tell abt multi collinearity, it should be less for no multi collinearity"
      ]
    },
    {
      "cell_type": "code",
      "execution_count": null,
      "id": "obvious-conflict",
      "metadata": {
        "id": "obvious-conflict"
      },
      "outputs": [],
      "source": [
        "from statsmodels.stats.outliers_influence import variance_inflation_factor"
      ]
    },
    {
      "cell_type": "code",
      "execution_count": null,
      "id": "funky-despite",
      "metadata": {
        "id": "funky-despite"
      },
      "outputs": [],
      "source": [
        "vif=[]\n",
        "for i in range(train_data.iloc[:,:-1].shape[1]):\n",
        "    v = variance_inflation_factor(train_data.iloc[:,:-1].values,i) #vif takes 2 arguments (exog values,exog_col_index)\n",
        "    vif.append(v) # so here it takes one variable and compare it with rest of all the other variables that will be taken care by vif\n",
        "    #Note that which ever variable vif took that variables col wont be considered with itself while checking multicollinearity"
      ]
    },
    {
      "cell_type": "code",
      "execution_count": null,
      "id": "general-charge",
      "metadata": {
        "id": "general-charge",
        "outputId": "b00c3d74-abc7-4818-a908-0cfe3dca531a"
      },
      "outputs": [
        {
          "data": {
            "text/plain": [
              "(13, 13)"
            ]
          },
          "execution_count": 54,
          "metadata": {},
          "output_type": "execute_result"
        }
      ],
      "source": [
        "len(train_data.iloc[:,:-1].columns),train_data.iloc[:,:-1].shape[1]"
      ]
    },
    {
      "cell_type": "code",
      "execution_count": null,
      "id": "rolled-designation",
      "metadata": {
        "id": "rolled-designation",
        "outputId": "9ba7f7c2-173d-4a0d-803d-83997de330f4"
      },
      "outputs": [
        {
          "data": {
            "text/html": [
              "<div>\n",
              "<style scoped>\n",
              "    .dataframe tbody tr th:only-of-type {\n",
              "        vertical-align: middle;\n",
              "    }\n",
              "\n",
              "    .dataframe tbody tr th {\n",
              "        vertical-align: top;\n",
              "    }\n",
              "\n",
              "    .dataframe thead th {\n",
              "        text-align: right;\n",
              "    }\n",
              "</style>\n",
              "<table border=\"1\" class=\"dataframe\">\n",
              "  <thead>\n",
              "    <tr style=\"text-align: right;\">\n",
              "      <th></th>\n",
              "      <th>VIF</th>\n",
              "    </tr>\n",
              "  </thead>\n",
              "  <tbody>\n",
              "    <tr>\n",
              "      <th>crim</th>\n",
              "      <td>1.719144</td>\n",
              "    </tr>\n",
              "    <tr>\n",
              "      <th>zn</th>\n",
              "      <td>2.339207</td>\n",
              "    </tr>\n",
              "    <tr>\n",
              "      <th>indus</th>\n",
              "      <td>3.889160</td>\n",
              "    </tr>\n",
              "    <tr>\n",
              "      <th>nox</th>\n",
              "      <td>4.569514</td>\n",
              "    </tr>\n",
              "    <tr>\n",
              "      <th>rm</th>\n",
              "      <td>2.014632</td>\n",
              "    </tr>\n",
              "    <tr>\n",
              "      <th>age</th>\n",
              "      <td>3.317478</td>\n",
              "    </tr>\n",
              "    <tr>\n",
              "      <th>dis</th>\n",
              "      <td>3.988015</td>\n",
              "    </tr>\n",
              "    <tr>\n",
              "      <th>rad</th>\n",
              "      <td>7.540042</td>\n",
              "    </tr>\n",
              "    <tr>\n",
              "      <th>tax</th>\n",
              "      <td>9.059193</td>\n",
              "    </tr>\n",
              "    <tr>\n",
              "      <th>ptratio</th>\n",
              "      <td>1.881956</td>\n",
              "    </tr>\n",
              "    <tr>\n",
              "      <th>b</th>\n",
              "      <td>1.311994</td>\n",
              "    </tr>\n",
              "    <tr>\n",
              "      <th>lstat</th>\n",
              "      <td>3.098131</td>\n",
              "    </tr>\n",
              "    <tr>\n",
              "      <th>chas_1</th>\n",
              "      <td>1.058704</td>\n",
              "    </tr>\n",
              "  </tbody>\n",
              "</table>\n",
              "</div>"
            ],
            "text/plain": [
              "              VIF\n",
              "crim     1.719144\n",
              "zn       2.339207\n",
              "indus    3.889160\n",
              "nox      4.569514\n",
              "rm       2.014632\n",
              "age      3.317478\n",
              "dis      3.988015\n",
              "rad      7.540042\n",
              "tax      9.059193\n",
              "ptratio  1.881956\n",
              "b        1.311994\n",
              "lstat    3.098131\n",
              "chas_1   1.058704"
            ]
          },
          "execution_count": 55,
          "metadata": {},
          "output_type": "execute_result"
        }
      ],
      "source": [
        "vif_df = pd.DataFrame(vif,index=train_data.iloc[:,:-1].columns,columns=['VIF'])\n",
        "vif_df # Here rad and tax have higher multi collinearity then rest of the variable"
      ]
    },
    {
      "cell_type": "code",
      "execution_count": null,
      "id": "cleared-greeting",
      "metadata": {
        "id": "cleared-greeting"
      },
      "outputs": [],
      "source": [
        "from sklearn.decomposition import PCA"
      ]
    },
    {
      "cell_type": "code",
      "execution_count": null,
      "id": "historical-pillow",
      "metadata": {
        "id": "historical-pillow"
      },
      "outputs": [],
      "source": [
        "pc = PCA()"
      ]
    },
    {
      "cell_type": "code",
      "execution_count": null,
      "id": "former-tracy",
      "metadata": {
        "id": "former-tracy",
        "outputId": "f82866c0-aa00-4e23-a9d3-4cbdfa04299c"
      },
      "outputs": [
        {
          "data": {
            "text/plain": [
              "array([[ 2.89383603,  0.27548379, -2.87269344, ..., -0.49479218,\n",
              "         0.19884975,  0.15833059],\n",
              "       [-1.73491095,  0.17565648, -0.3742969 , ..., -0.33980876,\n",
              "        -0.04218164, -0.224211  ],\n",
              "       [ 1.61826264,  0.79709296, -1.05606328, ...,  0.1621326 ,\n",
              "         0.09720884,  0.19557722],\n",
              "       ...,\n",
              "       [ 0.0530391 ,  0.68308586, -0.53427609, ..., -0.13828285,\n",
              "        -0.483471  ,  0.35759406],\n",
              "       [-0.94223506,  0.17677305, -1.48623989, ...,  0.64749721,\n",
              "        -0.47227023, -0.19981747],\n",
              "       [-0.37231834,  0.84671541, -1.20671757, ..., -0.46729163,\n",
              "        -0.56380368,  0.01078594]])"
            ]
          },
          "execution_count": 60,
          "metadata": {},
          "output_type": "execute_result"
        }
      ],
      "source": [
        "pc.fit(train_data.iloc[:,:-1]) # Here eigen values and eigen vectors will gets generated and stored in pc\n",
        "train_pc_array = pc.transform(train_data.iloc[:,:-1])\n",
        "train_pc_array"
      ]
    },
    {
      "cell_type": "code",
      "execution_count": null,
      "id": "opening-glucose",
      "metadata": {
        "id": "opening-glucose"
      },
      "outputs": [],
      "source": [
        "train_pc = pd.DataFrame(train_pc_array,columns=['PC1','PC2','PC3','PC4','PC5','PC6','PC7','PC8','PC9','PC10','PC11','PC12','PC13'])"
      ]
    },
    {
      "cell_type": "code",
      "execution_count": null,
      "id": "expired-sight",
      "metadata": {
        "id": "expired-sight",
        "outputId": "fd893063-b507-424b-a1a6-6bd110c0e207"
      },
      "outputs": [
        {
          "name": "stdout",
          "output_type": "stream",
          "text": [
            "'PC1','PC2','PC3','PC4','PC5','PC6','PC7','PC8','PC9','PC10','PC11','PC12','PC13','PC14',"
          ]
        }
      ],
      "source": [
        "for i in range(1,15):\n",
        "    print(\"'PC%s'\"%i,end=',')"
      ]
    },
    {
      "cell_type": "code",
      "execution_count": null,
      "id": "piano-candle",
      "metadata": {
        "id": "piano-candle"
      },
      "outputs": [],
      "source": [
        "train_pc['medv'] = y_train.values"
      ]
    },
    {
      "cell_type": "code",
      "execution_count": null,
      "id": "empirical-clear",
      "metadata": {
        "scrolled": true,
        "id": "empirical-clear",
        "outputId": "71161dc6-5aeb-454d-a5d9-aa67c8b0d09b"
      },
      "outputs": [
        {
          "data": {
            "text/html": [
              "<div>\n",
              "<style scoped>\n",
              "    .dataframe tbody tr th:only-of-type {\n",
              "        vertical-align: middle;\n",
              "    }\n",
              "\n",
              "    .dataframe tbody tr th {\n",
              "        vertical-align: top;\n",
              "    }\n",
              "\n",
              "    .dataframe thead th {\n",
              "        text-align: right;\n",
              "    }\n",
              "</style>\n",
              "<table border=\"1\" class=\"dataframe\">\n",
              "  <thead>\n",
              "    <tr style=\"text-align: right;\">\n",
              "      <th></th>\n",
              "      <th>PC1</th>\n",
              "      <th>PC2</th>\n",
              "      <th>PC3</th>\n",
              "      <th>PC4</th>\n",
              "      <th>PC5</th>\n",
              "      <th>PC6</th>\n",
              "      <th>PC7</th>\n",
              "      <th>PC8</th>\n",
              "      <th>PC9</th>\n",
              "      <th>PC10</th>\n",
              "      <th>PC11</th>\n",
              "      <th>PC12</th>\n",
              "      <th>PC13</th>\n",
              "      <th>medv</th>\n",
              "    </tr>\n",
              "  </thead>\n",
              "  <tbody>\n",
              "    <tr>\n",
              "      <th>0</th>\n",
              "      <td>2.893836</td>\n",
              "      <td>0.275484</td>\n",
              "      <td>-2.872693</td>\n",
              "      <td>-0.214075</td>\n",
              "      <td>0.614288</td>\n",
              "      <td>0.808437</td>\n",
              "      <td>-0.437381</td>\n",
              "      <td>-1.133811</td>\n",
              "      <td>0.762435</td>\n",
              "      <td>-0.777694</td>\n",
              "      <td>-0.494792</td>\n",
              "      <td>0.198850</td>\n",
              "      <td>0.158331</td>\n",
              "      <td>14.4</td>\n",
              "    </tr>\n",
              "    <tr>\n",
              "      <th>1</th>\n",
              "      <td>-1.734911</td>\n",
              "      <td>0.175656</td>\n",
              "      <td>-0.374297</td>\n",
              "      <td>-0.117969</td>\n",
              "      <td>-0.384347</td>\n",
              "      <td>-0.142193</td>\n",
              "      <td>0.349174</td>\n",
              "      <td>-0.141652</td>\n",
              "      <td>0.274168</td>\n",
              "      <td>0.272860</td>\n",
              "      <td>-0.339809</td>\n",
              "      <td>-0.042182</td>\n",
              "      <td>-0.224211</td>\n",
              "      <td>24.4</td>\n",
              "    </tr>\n",
              "    <tr>\n",
              "      <th>2</th>\n",
              "      <td>1.618263</td>\n",
              "      <td>0.797093</td>\n",
              "      <td>-1.056063</td>\n",
              "      <td>0.010529</td>\n",
              "      <td>-0.804099</td>\n",
              "      <td>-0.243979</td>\n",
              "      <td>-0.456752</td>\n",
              "      <td>-0.807760</td>\n",
              "      <td>1.179407</td>\n",
              "      <td>0.030199</td>\n",
              "      <td>0.162133</td>\n",
              "      <td>0.097209</td>\n",
              "      <td>0.195577</td>\n",
              "      <td>18.1</td>\n",
              "    </tr>\n",
              "    <tr>\n",
              "      <th>3</th>\n",
              "      <td>-3.780097</td>\n",
              "      <td>-1.614912</td>\n",
              "      <td>0.987619</td>\n",
              "      <td>-0.363580</td>\n",
              "      <td>1.094706</td>\n",
              "      <td>0.741099</td>\n",
              "      <td>-0.886648</td>\n",
              "      <td>0.285486</td>\n",
              "      <td>-0.218600</td>\n",
              "      <td>0.068062</td>\n",
              "      <td>0.048211</td>\n",
              "      <td>-0.364515</td>\n",
              "      <td>0.156202</td>\n",
              "      <td>22.5</td>\n",
              "    </tr>\n",
              "    <tr>\n",
              "      <th>4</th>\n",
              "      <td>1.026783</td>\n",
              "      <td>1.256185</td>\n",
              "      <td>-1.607590</td>\n",
              "      <td>-0.630215</td>\n",
              "      <td>0.037996</td>\n",
              "      <td>0.003899</td>\n",
              "      <td>-0.226413</td>\n",
              "      <td>-0.311787</td>\n",
              "      <td>1.691733</td>\n",
              "      <td>-0.106944</td>\n",
              "      <td>0.231900</td>\n",
              "      <td>-0.124918</td>\n",
              "      <td>-0.905162</td>\n",
              "      <td>20.5</td>\n",
              "    </tr>\n",
              "  </tbody>\n",
              "</table>\n",
              "</div>"
            ],
            "text/plain": [
              "        PC1       PC2       PC3       PC4       PC5       PC6       PC7  \\\n",
              "0  2.893836  0.275484 -2.872693 -0.214075  0.614288  0.808437 -0.437381   \n",
              "1 -1.734911  0.175656 -0.374297 -0.117969 -0.384347 -0.142193  0.349174   \n",
              "2  1.618263  0.797093 -1.056063  0.010529 -0.804099 -0.243979 -0.456752   \n",
              "3 -3.780097 -1.614912  0.987619 -0.363580  1.094706  0.741099 -0.886648   \n",
              "4  1.026783  1.256185 -1.607590 -0.630215  0.037996  0.003899 -0.226413   \n",
              "\n",
              "        PC8       PC9      PC10      PC11      PC12      PC13  medv  \n",
              "0 -1.133811  0.762435 -0.777694 -0.494792  0.198850  0.158331  14.4  \n",
              "1 -0.141652  0.274168  0.272860 -0.339809 -0.042182 -0.224211  24.4  \n",
              "2 -0.807760  1.179407  0.030199  0.162133  0.097209  0.195577  18.1  \n",
              "3  0.285486 -0.218600  0.068062  0.048211 -0.364515  0.156202  22.5  \n",
              "4 -0.311787  1.691733 -0.106944  0.231900 -0.124918 -0.905162  20.5  "
            ]
          },
          "execution_count": 66,
          "metadata": {},
          "output_type": "execute_result"
        }
      ],
      "source": [
        "train_pc.head()"
      ]
    },
    {
      "cell_type": "code",
      "execution_count": null,
      "id": "turkish-distribution",
      "metadata": {
        "id": "turkish-distribution",
        "outputId": "4537efbc-11f4-4302-dae3-3d013f920c91"
      },
      "outputs": [
        {
          "data": {
            "text/html": [
              "<div>\n",
              "<style scoped>\n",
              "    .dataframe tbody tr th:only-of-type {\n",
              "        vertical-align: middle;\n",
              "    }\n",
              "\n",
              "    .dataframe tbody tr th {\n",
              "        vertical-align: top;\n",
              "    }\n",
              "\n",
              "    .dataframe thead th {\n",
              "        text-align: right;\n",
              "    }\n",
              "</style>\n",
              "<table border=\"1\" class=\"dataframe\">\n",
              "  <thead>\n",
              "    <tr style=\"text-align: right;\">\n",
              "      <th></th>\n",
              "      <th>PC1</th>\n",
              "      <th>PC2</th>\n",
              "      <th>PC3</th>\n",
              "      <th>PC4</th>\n",
              "      <th>PC5</th>\n",
              "      <th>PC6</th>\n",
              "      <th>PC7</th>\n",
              "      <th>PC8</th>\n",
              "      <th>PC9</th>\n",
              "      <th>PC10</th>\n",
              "      <th>PC11</th>\n",
              "      <th>PC12</th>\n",
              "      <th>PC13</th>\n",
              "      <th>medv</th>\n",
              "    </tr>\n",
              "  </thead>\n",
              "  <tbody>\n",
              "    <tr>\n",
              "      <th>PC1</th>\n",
              "      <td>1.000000e+00</td>\n",
              "      <td>2.146149e-15</td>\n",
              "      <td>-1.315305e-16</td>\n",
              "      <td>1.899361e-16</td>\n",
              "      <td>-1.023140e-16</td>\n",
              "      <td>4.547019e-17</td>\n",
              "      <td>-7.728949e-19</td>\n",
              "      <td>3.604842e-17</td>\n",
              "      <td>-2.479262e-16</td>\n",
              "      <td>4.434809e-16</td>\n",
              "      <td>-6.423100e-16</td>\n",
              "      <td>-2.307084e-16</td>\n",
              "      <td>-1.121877e-15</td>\n",
              "      <td>-0.632024</td>\n",
              "    </tr>\n",
              "    <tr>\n",
              "      <th>PC2</th>\n",
              "      <td>2.146149e-15</td>\n",
              "      <td>1.000000e+00</td>\n",
              "      <td>-1.189672e-15</td>\n",
              "      <td>-1.409559e-17</td>\n",
              "      <td>3.612264e-17</td>\n",
              "      <td>5.101597e-16</td>\n",
              "      <td>1.828547e-16</td>\n",
              "      <td>-4.795805e-16</td>\n",
              "      <td>1.582683e-16</td>\n",
              "      <td>-5.022622e-16</td>\n",
              "      <td>-5.969221e-16</td>\n",
              "      <td>-9.895759e-17</td>\n",
              "      <td>-2.102303e-16</td>\n",
              "      <td>0.341010</td>\n",
              "    </tr>\n",
              "    <tr>\n",
              "      <th>PC3</th>\n",
              "      <td>-1.315305e-16</td>\n",
              "      <td>-1.189672e-15</td>\n",
              "      <td>1.000000e+00</td>\n",
              "      <td>-2.467890e-16</td>\n",
              "      <td>-1.648257e-16</td>\n",
              "      <td>-3.135673e-16</td>\n",
              "      <td>5.714548e-16</td>\n",
              "      <td>-2.607650e-16</td>\n",
              "      <td>-1.888412e-16</td>\n",
              "      <td>-4.200547e-16</td>\n",
              "      <td>3.077661e-16</td>\n",
              "      <td>1.045848e-15</td>\n",
              "      <td>-2.948671e-16</td>\n",
              "      <td>0.433986</td>\n",
              "    </tr>\n",
              "    <tr>\n",
              "      <th>PC4</th>\n",
              "      <td>1.899361e-16</td>\n",
              "      <td>-1.409559e-17</td>\n",
              "      <td>-2.467890e-16</td>\n",
              "      <td>1.000000e+00</td>\n",
              "      <td>-6.827337e-16</td>\n",
              "      <td>3.010248e-16</td>\n",
              "      <td>2.100851e-16</td>\n",
              "      <td>-4.763175e-16</td>\n",
              "      <td>-3.271490e-16</td>\n",
              "      <td>-2.138269e-16</td>\n",
              "      <td>-5.158473e-17</td>\n",
              "      <td>-6.905567e-16</td>\n",
              "      <td>-3.699264e-16</td>\n",
              "      <td>-0.024508</td>\n",
              "    </tr>\n",
              "    <tr>\n",
              "      <th>PC5</th>\n",
              "      <td>-1.023140e-16</td>\n",
              "      <td>3.612264e-17</td>\n",
              "      <td>-1.648257e-16</td>\n",
              "      <td>-6.827337e-16</td>\n",
              "      <td>1.000000e+00</td>\n",
              "      <td>2.358469e-16</td>\n",
              "      <td>-2.153766e-16</td>\n",
              "      <td>1.949176e-16</td>\n",
              "      <td>-2.519598e-16</td>\n",
              "      <td>5.511554e-16</td>\n",
              "      <td>-1.346513e-16</td>\n",
              "      <td>1.504465e-16</td>\n",
              "      <td>4.932433e-17</td>\n",
              "      <td>-0.154145</td>\n",
              "    </tr>\n",
              "    <tr>\n",
              "      <th>PC6</th>\n",
              "      <td>4.547019e-17</td>\n",
              "      <td>5.101597e-16</td>\n",
              "      <td>-3.135673e-16</td>\n",
              "      <td>3.010248e-16</td>\n",
              "      <td>2.358469e-16</td>\n",
              "      <td>1.000000e+00</td>\n",
              "      <td>-1.013246e-15</td>\n",
              "      <td>1.198253e-16</td>\n",
              "      <td>-5.630972e-16</td>\n",
              "      <td>-5.499869e-17</td>\n",
              "      <td>2.324379e-17</td>\n",
              "      <td>2.637463e-16</td>\n",
              "      <td>5.161557e-16</td>\n",
              "      <td>-0.049473</td>\n",
              "    </tr>\n",
              "    <tr>\n",
              "      <th>PC7</th>\n",
              "      <td>-7.728949e-19</td>\n",
              "      <td>1.828547e-16</td>\n",
              "      <td>5.714548e-16</td>\n",
              "      <td>2.100851e-16</td>\n",
              "      <td>-2.153766e-16</td>\n",
              "      <td>-1.013246e-15</td>\n",
              "      <td>1.000000e+00</td>\n",
              "      <td>2.975212e-17</td>\n",
              "      <td>5.566744e-16</td>\n",
              "      <td>-3.605007e-16</td>\n",
              "      <td>-7.189021e-16</td>\n",
              "      <td>-6.066712e-16</td>\n",
              "      <td>-3.247333e-16</td>\n",
              "      <td>-0.018986</td>\n",
              "    </tr>\n",
              "    <tr>\n",
              "      <th>PC8</th>\n",
              "      <td>3.604842e-17</td>\n",
              "      <td>-4.795805e-16</td>\n",
              "      <td>-2.607650e-16</td>\n",
              "      <td>-4.763175e-16</td>\n",
              "      <td>1.949176e-16</td>\n",
              "      <td>1.198253e-16</td>\n",
              "      <td>2.975212e-17</td>\n",
              "      <td>1.000000e+00</td>\n",
              "      <td>-3.077053e-16</td>\n",
              "      <td>6.827586e-16</td>\n",
              "      <td>1.396805e-17</td>\n",
              "      <td>-3.169988e-16</td>\n",
              "      <td>7.096803e-16</td>\n",
              "      <td>0.062477</td>\n",
              "    </tr>\n",
              "    <tr>\n",
              "      <th>PC9</th>\n",
              "      <td>-2.479262e-16</td>\n",
              "      <td>1.582683e-16</td>\n",
              "      <td>-1.888412e-16</td>\n",
              "      <td>-3.271490e-16</td>\n",
              "      <td>-2.519598e-16</td>\n",
              "      <td>-5.630972e-16</td>\n",
              "      <td>5.566744e-16</td>\n",
              "      <td>-3.077053e-16</td>\n",
              "      <td>1.000000e+00</td>\n",
              "      <td>-6.351984e-16</td>\n",
              "      <td>6.381651e-16</td>\n",
              "      <td>3.192743e-17</td>\n",
              "      <td>-6.015791e-16</td>\n",
              "      <td>0.019762</td>\n",
              "    </tr>\n",
              "    <tr>\n",
              "      <th>PC10</th>\n",
              "      <td>4.434809e-16</td>\n",
              "      <td>-5.022622e-16</td>\n",
              "      <td>-4.200547e-16</td>\n",
              "      <td>-2.138269e-16</td>\n",
              "      <td>5.511554e-16</td>\n",
              "      <td>-5.499869e-17</td>\n",
              "      <td>-3.605007e-16</td>\n",
              "      <td>6.827586e-16</td>\n",
              "      <td>-6.351984e-16</td>\n",
              "      <td>1.000000e+00</td>\n",
              "      <td>2.651312e-17</td>\n",
              "      <td>5.607162e-16</td>\n",
              "      <td>5.237693e-16</td>\n",
              "      <td>0.024622</td>\n",
              "    </tr>\n",
              "    <tr>\n",
              "      <th>PC11</th>\n",
              "      <td>-6.423100e-16</td>\n",
              "      <td>-5.969221e-16</td>\n",
              "      <td>3.077661e-16</td>\n",
              "      <td>-5.158473e-17</td>\n",
              "      <td>-1.346513e-16</td>\n",
              "      <td>2.324379e-17</td>\n",
              "      <td>-7.189021e-16</td>\n",
              "      <td>1.396805e-17</td>\n",
              "      <td>6.381651e-16</td>\n",
              "      <td>2.651312e-17</td>\n",
              "      <td>1.000000e+00</td>\n",
              "      <td>4.282440e-16</td>\n",
              "      <td>-7.773064e-16</td>\n",
              "      <td>-0.125814</td>\n",
              "    </tr>\n",
              "    <tr>\n",
              "      <th>PC12</th>\n",
              "      <td>-2.307084e-16</td>\n",
              "      <td>-9.895759e-17</td>\n",
              "      <td>1.045848e-15</td>\n",
              "      <td>-6.905567e-16</td>\n",
              "      <td>1.504465e-16</td>\n",
              "      <td>2.637463e-16</td>\n",
              "      <td>-6.066712e-16</td>\n",
              "      <td>-3.169988e-16</td>\n",
              "      <td>3.192743e-17</td>\n",
              "      <td>5.607162e-16</td>\n",
              "      <td>4.282440e-16</td>\n",
              "      <td>1.000000e+00</td>\n",
              "      <td>3.448666e-16</td>\n",
              "      <td>-0.079921</td>\n",
              "    </tr>\n",
              "    <tr>\n",
              "      <th>PC13</th>\n",
              "      <td>-1.121877e-15</td>\n",
              "      <td>-2.102303e-16</td>\n",
              "      <td>-2.948671e-16</td>\n",
              "      <td>-3.699264e-16</td>\n",
              "      <td>4.932433e-17</td>\n",
              "      <td>5.161557e-16</td>\n",
              "      <td>-3.247333e-16</td>\n",
              "      <td>7.096803e-16</td>\n",
              "      <td>-6.015791e-16</td>\n",
              "      <td>5.237693e-16</td>\n",
              "      <td>-7.773064e-16</td>\n",
              "      <td>3.448666e-16</td>\n",
              "      <td>1.000000e+00</td>\n",
              "      <td>-0.078568</td>\n",
              "    </tr>\n",
              "    <tr>\n",
              "      <th>medv</th>\n",
              "      <td>-6.320243e-01</td>\n",
              "      <td>3.410100e-01</td>\n",
              "      <td>4.339855e-01</td>\n",
              "      <td>-2.450849e-02</td>\n",
              "      <td>-1.541455e-01</td>\n",
              "      <td>-4.947315e-02</td>\n",
              "      <td>-1.898571e-02</td>\n",
              "      <td>6.247659e-02</td>\n",
              "      <td>1.976154e-02</td>\n",
              "      <td>2.462229e-02</td>\n",
              "      <td>-1.258144e-01</td>\n",
              "      <td>-7.992073e-02</td>\n",
              "      <td>-7.856780e-02</td>\n",
              "      <td>1.000000</td>\n",
              "    </tr>\n",
              "  </tbody>\n",
              "</table>\n",
              "</div>"
            ],
            "text/plain": [
              "               PC1           PC2           PC3           PC4           PC5  \\\n",
              "PC1   1.000000e+00  2.146149e-15 -1.315305e-16  1.899361e-16 -1.023140e-16   \n",
              "PC2   2.146149e-15  1.000000e+00 -1.189672e-15 -1.409559e-17  3.612264e-17   \n",
              "PC3  -1.315305e-16 -1.189672e-15  1.000000e+00 -2.467890e-16 -1.648257e-16   \n",
              "PC4   1.899361e-16 -1.409559e-17 -2.467890e-16  1.000000e+00 -6.827337e-16   \n",
              "PC5  -1.023140e-16  3.612264e-17 -1.648257e-16 -6.827337e-16  1.000000e+00   \n",
              "PC6   4.547019e-17  5.101597e-16 -3.135673e-16  3.010248e-16  2.358469e-16   \n",
              "PC7  -7.728949e-19  1.828547e-16  5.714548e-16  2.100851e-16 -2.153766e-16   \n",
              "PC8   3.604842e-17 -4.795805e-16 -2.607650e-16 -4.763175e-16  1.949176e-16   \n",
              "PC9  -2.479262e-16  1.582683e-16 -1.888412e-16 -3.271490e-16 -2.519598e-16   \n",
              "PC10  4.434809e-16 -5.022622e-16 -4.200547e-16 -2.138269e-16  5.511554e-16   \n",
              "PC11 -6.423100e-16 -5.969221e-16  3.077661e-16 -5.158473e-17 -1.346513e-16   \n",
              "PC12 -2.307084e-16 -9.895759e-17  1.045848e-15 -6.905567e-16  1.504465e-16   \n",
              "PC13 -1.121877e-15 -2.102303e-16 -2.948671e-16 -3.699264e-16  4.932433e-17   \n",
              "medv -6.320243e-01  3.410100e-01  4.339855e-01 -2.450849e-02 -1.541455e-01   \n",
              "\n",
              "               PC6           PC7           PC8           PC9          PC10  \\\n",
              "PC1   4.547019e-17 -7.728949e-19  3.604842e-17 -2.479262e-16  4.434809e-16   \n",
              "PC2   5.101597e-16  1.828547e-16 -4.795805e-16  1.582683e-16 -5.022622e-16   \n",
              "PC3  -3.135673e-16  5.714548e-16 -2.607650e-16 -1.888412e-16 -4.200547e-16   \n",
              "PC4   3.010248e-16  2.100851e-16 -4.763175e-16 -3.271490e-16 -2.138269e-16   \n",
              "PC5   2.358469e-16 -2.153766e-16  1.949176e-16 -2.519598e-16  5.511554e-16   \n",
              "PC6   1.000000e+00 -1.013246e-15  1.198253e-16 -5.630972e-16 -5.499869e-17   \n",
              "PC7  -1.013246e-15  1.000000e+00  2.975212e-17  5.566744e-16 -3.605007e-16   \n",
              "PC8   1.198253e-16  2.975212e-17  1.000000e+00 -3.077053e-16  6.827586e-16   \n",
              "PC9  -5.630972e-16  5.566744e-16 -3.077053e-16  1.000000e+00 -6.351984e-16   \n",
              "PC10 -5.499869e-17 -3.605007e-16  6.827586e-16 -6.351984e-16  1.000000e+00   \n",
              "PC11  2.324379e-17 -7.189021e-16  1.396805e-17  6.381651e-16  2.651312e-17   \n",
              "PC12  2.637463e-16 -6.066712e-16 -3.169988e-16  3.192743e-17  5.607162e-16   \n",
              "PC13  5.161557e-16 -3.247333e-16  7.096803e-16 -6.015791e-16  5.237693e-16   \n",
              "medv -4.947315e-02 -1.898571e-02  6.247659e-02  1.976154e-02  2.462229e-02   \n",
              "\n",
              "              PC11          PC12          PC13      medv  \n",
              "PC1  -6.423100e-16 -2.307084e-16 -1.121877e-15 -0.632024  \n",
              "PC2  -5.969221e-16 -9.895759e-17 -2.102303e-16  0.341010  \n",
              "PC3   3.077661e-16  1.045848e-15 -2.948671e-16  0.433986  \n",
              "PC4  -5.158473e-17 -6.905567e-16 -3.699264e-16 -0.024508  \n",
              "PC5  -1.346513e-16  1.504465e-16  4.932433e-17 -0.154145  \n",
              "PC6   2.324379e-17  2.637463e-16  5.161557e-16 -0.049473  \n",
              "PC7  -7.189021e-16 -6.066712e-16 -3.247333e-16 -0.018986  \n",
              "PC8   1.396805e-17 -3.169988e-16  7.096803e-16  0.062477  \n",
              "PC9   6.381651e-16  3.192743e-17 -6.015791e-16  0.019762  \n",
              "PC10  2.651312e-17  5.607162e-16  5.237693e-16  0.024622  \n",
              "PC11  1.000000e+00  4.282440e-16 -7.773064e-16 -0.125814  \n",
              "PC12  4.282440e-16  1.000000e+00  3.448666e-16 -0.079921  \n",
              "PC13 -7.773064e-16  3.448666e-16  1.000000e+00 -0.078568  \n",
              "medv -1.258144e-01 -7.992073e-02 -7.856780e-02  1.000000  "
            ]
          },
          "execution_count": 67,
          "metadata": {},
          "output_type": "execute_result"
        }
      ],
      "source": [
        "train_pc.corr() # all becomes zero no correlation between variables"
      ]
    },
    {
      "cell_type": "code",
      "execution_count": null,
      "id": "found-crack",
      "metadata": {
        "id": "found-crack",
        "outputId": "7ce6650d-4d09-47b5-ffe0-6805a1f96f39"
      },
      "outputs": [
        {
          "name": "stdout",
          "output_type": "stream",
          "text": [
            "[1.0000000000000002, 1.0000000000000002, 1.0, 1.0, 1.0, 1.0, 1.0, 1.0, 1.0, 1.0, 0.9999999999999998, 1.0, 1.0000000000000002]\n"
          ]
        }
      ],
      "source": [
        "vif = []\n",
        "for i in range(train_pc.iloc[:,:-1].shape[1]):\n",
        "    v = variance_inflation_factor(train_pc.iloc[:,:-1].values,i)\n",
        "    vif.append(v)\n",
        "print(vif)"
      ]
    },
    {
      "cell_type": "code",
      "execution_count": null,
      "id": "strong-handbook",
      "metadata": {
        "id": "strong-handbook"
      },
      "outputs": [],
      "source": [
        "# So here we can see that VIF values are 1 for all PCs which means no multi collinearity exists now"
      ]
    },
    {
      "cell_type": "code",
      "execution_count": null,
      "id": "current-robin",
      "metadata": {
        "id": "current-robin",
        "outputId": "093e4fd9-bc74-4100-a141-b862a8a185ea"
      },
      "outputs": [
        {
          "data": {
            "text/plain": [
              "array([[ 0.24170332, -0.26425698,  0.34771308,  0.34875622, -0.18922005,\n",
              "         0.31776926, -0.32016069,  0.31614039,  0.33974828,  0.20119204,\n",
              "        -0.19188561,  0.31182698,  0.00447733],\n",
              "       [-0.2953304 , -0.31689916,  0.08335927,  0.20199683,  0.21331219,\n",
              "         0.32967383, -0.3853401 , -0.25382413, -0.22770343, -0.33224226,\n",
              "         0.24550086, -0.09564965,  0.40724623],\n",
              "       [ 0.26849497,  0.28897163, -0.02981746,  0.1332724 ,  0.59985795,\n",
              "        -0.03485268, -0.04754407,  0.34575437,  0.25984189, -0.31678472,\n",
              "        -0.2215081 , -0.29669031,  0.19478989],\n",
              "       [ 0.04360302, -0.06239601,  0.02092049, -0.17319039, -0.04837437,\n",
              "        -0.15383587,  0.14895215,  0.19835741,  0.13820909,  0.46980175,\n",
              "         0.3111849 , -0.10969772,  0.72632631],\n",
              "       [-0.01620611,  0.25031396, -0.01012933,  0.02758522, -0.37616231,\n",
              "        -0.05629092,  0.13717718, -0.130422  , -0.10159286, -0.3439542 ,\n",
              "        -0.51716517,  0.31434101,  0.51071208],\n",
              "       [ 0.49690165,  0.31656193, -0.01963136,  0.07887411, -0.2182938 ,\n",
              "         0.06455805, -0.01581018, -0.01402169,  0.01469216, -0.34392683,\n",
              "         0.65222837,  0.22381183, -0.0030298 ],\n",
              "       [ 0.64246767, -0.38228009, -0.37241509, -0.23141556,  0.15986734,\n",
              "         0.08884028, -0.09279499, -0.14772268, -0.34163381,  0.11032754,\n",
              "        -0.21038509,  0.0836924 ,  0.06939641],\n",
              "       [ 0.1560887 , -0.4502836 ,  0.14171254,  0.07504777, -0.34942773,\n",
              "        -0.57123386, -0.09301806,  0.08009828,  0.06141993, -0.34120725,\n",
              "        -0.00921047, -0.40318265, -0.02923275],\n",
              "       [ 0.24170399,  0.23142175,  0.72033355, -0.11073747,  0.18395989,\n",
              "        -0.19397807, -0.14211932, -0.44458832, -0.15424042,  0.18842318,\n",
              "        -0.07204867, -0.05448806,  0.01005888],\n",
              "       [ 0.13835129,  0.29883053, -0.14927649,  0.25271893, -0.38944811,\n",
              "         0.35393242, -0.11062406, -0.12394138, -0.105947  ,  0.22468843,\n",
              "        -0.11115162, -0.65320763,  0.01127929],\n",
              "       [ 0.12855227, -0.28171902,  0.26060023,  0.22397678,  0.07900155,\n",
              "         0.3021499 ,  0.80833121, -0.09780259, -0.01459002, -0.10946543,\n",
              "         0.01537456, -0.11428535, -0.00608814],\n",
              "       [ 0.00689353,  0.05041483, -0.1931269 ,  0.76976256,  0.15992079,\n",
              "        -0.4083737 ,  0.04752848, -0.07556503, -0.26221936,  0.25327183,\n",
              "         0.04304031,  0.17886091,  0.02272332],\n",
              "       [ 0.0439466 , -0.07629161, -0.25530823,  0.06937497,  0.04888258,\n",
              "        -0.0544176 , -0.01175876, -0.63482039,  0.71490763,  0.02771996,\n",
              "        -0.01282386,  0.01980284,  0.03673164]])"
            ]
          },
          "execution_count": 72,
          "metadata": {},
          "output_type": "execute_result"
        }
      ],
      "source": [
        "pc.components_ # components are eigen vectors"
      ]
    },
    {
      "cell_type": "code",
      "execution_count": null,
      "id": "bored-merit",
      "metadata": {
        "id": "bored-merit",
        "outputId": "36693161-31f7-4d91-fac5-baa676a1ff9e"
      },
      "outputs": [
        {
          "data": {
            "text/plain": [
              "array([0.46304764, 0.57140134, 0.67034556, 0.7434466 , 0.80623198,\n",
              "       0.85886775, 0.90147522, 0.93092757, 0.95302316, 0.96882592,\n",
              "       0.98266092, 0.99516752, 1.        ])"
            ]
          },
          "execution_count": 73,
          "metadata": {},
          "output_type": "execute_result"
        }
      ],
      "source": [
        "pc.explained_variance_ratio_.cumsum() # So here we can take till 0.95302316 variablity explained by the PC's\n",
        "# so the remaining 4 PC's explains only less than 5% of variability"
      ]
    },
    {
      "cell_type": "code",
      "execution_count": null,
      "id": "identified-clerk",
      "metadata": {
        "id": "identified-clerk",
        "outputId": "9ba9a79f-4bea-4a29-c94d-bf8d1fc1a4e6"
      },
      "outputs": [
        {
          "data": {
            "text/plain": [
              "array([0.46304764, 0.1083537 , 0.09894421, 0.07310104, 0.06278538,\n",
              "       0.05263578, 0.04260746, 0.02945235, 0.02209559, 0.01580276,\n",
              "       0.013835  , 0.0125066 , 0.00483248])"
            ]
          },
          "execution_count": 74,
          "metadata": {},
          "output_type": "execute_result"
        }
      ],
      "source": [
        "pc.explained_variance_ratio_ # will give % of variability explained by each and every PC's"
      ]
    },
    {
      "cell_type": "code",
      "execution_count": null,
      "id": "naval-gabriel",
      "metadata": {
        "id": "naval-gabriel"
      },
      "outputs": [],
      "source": [
        "lm_pc = ols('medv~PC1+PC2+PC3+PC4+PC5+PC6+PC7+PC8+PC9',data=train_pc).fit()"
      ]
    },
    {
      "cell_type": "code",
      "execution_count": null,
      "id": "starting-transaction",
      "metadata": {
        "id": "starting-transaction",
        "outputId": "ed9c6780-90f8-4044-96af-8c50bdb768be"
      },
      "outputs": [
        {
          "name": "stdout",
          "output_type": "stream",
          "text": [
            "                            OLS Regression Results                            \n",
            "==============================================================================\n",
            "Dep. Variable:                   medv   R-squared:                       0.736\n",
            "Model:                            OLS   Adj. R-squared:                  0.729\n",
            "Method:                 Least Squares   F-statistic:                     106.3\n",
            "Date:                Sun, 11 Apr 2021   Prob (F-statistic):           9.08e-94\n",
            "Time:                        12:42:31   Log-Likelihood:                -1052.7\n",
            "No. Observations:                 354   AIC:                             2125.\n",
            "Df Residuals:                     344   BIC:                             2164.\n",
            "Df Model:                           9                                         \n",
            "Covariance Type:            nonrobust                                         \n",
            "==============================================================================\n",
            "                 coef    std err          t      P>|t|      [0.025      0.975]\n",
            "------------------------------------------------------------------------------\n",
            "Intercept     22.7455      0.255     89.104      0.000      22.243      23.248\n",
            "PC1           -2.3717      0.104    -22.795      0.000      -2.576      -2.167\n",
            "PC2            2.6453      0.215     12.299      0.000       2.222       3.068\n",
            "PC3            3.5230      0.225     15.652      0.000       3.080       3.966\n",
            "PC4           -0.2315      0.262     -0.884      0.377      -0.747       0.284\n",
            "PC5           -1.5709      0.283     -5.560      0.000      -2.127      -1.015\n",
            "PC6           -0.5506      0.309     -1.784      0.075      -1.158       0.056\n",
            "PC7           -0.2349      0.343     -0.685      0.494      -0.909       0.440\n",
            "PC8            0.9296      0.413      2.253      0.025       0.118       1.741\n",
            "PC9            0.3395      0.476      0.713      0.476      -0.597       1.276\n",
            "==============================================================================\n",
            "Omnibus:                      174.364   Durbin-Watson:                   2.011\n",
            "Prob(Omnibus):                  0.000   Jarque-Bera (JB):             1293.004\n",
            "Skew:                           1.928   Prob(JB):                    1.69e-281\n",
            "Kurtosis:                      11.532   Cond. No.                         4.58\n",
            "==============================================================================\n",
            "\n",
            "Notes:\n",
            "[1] Standard Errors assume that the covariance matrix of the errors is correctly specified.\n"
          ]
        }
      ],
      "source": [
        "print(lm_pc.summary())"
      ]
    },
    {
      "cell_type": "markdown",
      "id": "grave-communication",
      "metadata": {
        "id": "grave-communication"
      },
      "source": [
        "# 13-04-2020"
      ]
    },
    {
      "cell_type": "code",
      "execution_count": null,
      "id": "early-rubber",
      "metadata": {
        "id": "early-rubber"
      },
      "outputs": [],
      "source": [
        "import pydataset"
      ]
    },
    {
      "cell_type": "code",
      "execution_count": null,
      "id": "correct-combination",
      "metadata": {
        "id": "correct-combination"
      },
      "outputs": [],
      "source": [
        "df = pydataset.data('Boston')"
      ]
    },
    {
      "cell_type": "code",
      "execution_count": null,
      "id": "manual-necessity",
      "metadata": {
        "id": "manual-necessity",
        "outputId": "18f5d94c-b947-42b0-8384-b0abe89e6688"
      },
      "outputs": [
        {
          "data": {
            "text/html": [
              "<div>\n",
              "<style scoped>\n",
              "    .dataframe tbody tr th:only-of-type {\n",
              "        vertical-align: middle;\n",
              "    }\n",
              "\n",
              "    .dataframe tbody tr th {\n",
              "        vertical-align: top;\n",
              "    }\n",
              "\n",
              "    .dataframe thead th {\n",
              "        text-align: right;\n",
              "    }\n",
              "</style>\n",
              "<table border=\"1\" class=\"dataframe\">\n",
              "  <thead>\n",
              "    <tr style=\"text-align: right;\">\n",
              "      <th></th>\n",
              "      <th>crim</th>\n",
              "      <th>zn</th>\n",
              "      <th>indus</th>\n",
              "      <th>chas</th>\n",
              "      <th>nox</th>\n",
              "      <th>rm</th>\n",
              "      <th>age</th>\n",
              "      <th>dis</th>\n",
              "      <th>rad</th>\n",
              "      <th>tax</th>\n",
              "      <th>ptratio</th>\n",
              "      <th>black</th>\n",
              "      <th>lstat</th>\n",
              "      <th>medv</th>\n",
              "    </tr>\n",
              "  </thead>\n",
              "  <tbody>\n",
              "    <tr>\n",
              "      <th>1</th>\n",
              "      <td>0.00632</td>\n",
              "      <td>18.0</td>\n",
              "      <td>2.31</td>\n",
              "      <td>0</td>\n",
              "      <td>0.538</td>\n",
              "      <td>6.575</td>\n",
              "      <td>65.2</td>\n",
              "      <td>4.0900</td>\n",
              "      <td>1</td>\n",
              "      <td>296</td>\n",
              "      <td>15.3</td>\n",
              "      <td>396.90</td>\n",
              "      <td>4.98</td>\n",
              "      <td>24.0</td>\n",
              "    </tr>\n",
              "    <tr>\n",
              "      <th>2</th>\n",
              "      <td>0.02731</td>\n",
              "      <td>0.0</td>\n",
              "      <td>7.07</td>\n",
              "      <td>0</td>\n",
              "      <td>0.469</td>\n",
              "      <td>6.421</td>\n",
              "      <td>78.9</td>\n",
              "      <td>4.9671</td>\n",
              "      <td>2</td>\n",
              "      <td>242</td>\n",
              "      <td>17.8</td>\n",
              "      <td>396.90</td>\n",
              "      <td>9.14</td>\n",
              "      <td>21.6</td>\n",
              "    </tr>\n",
              "    <tr>\n",
              "      <th>3</th>\n",
              "      <td>0.02729</td>\n",
              "      <td>0.0</td>\n",
              "      <td>7.07</td>\n",
              "      <td>0</td>\n",
              "      <td>0.469</td>\n",
              "      <td>7.185</td>\n",
              "      <td>61.1</td>\n",
              "      <td>4.9671</td>\n",
              "      <td>2</td>\n",
              "      <td>242</td>\n",
              "      <td>17.8</td>\n",
              "      <td>392.83</td>\n",
              "      <td>4.03</td>\n",
              "      <td>34.7</td>\n",
              "    </tr>\n",
              "    <tr>\n",
              "      <th>4</th>\n",
              "      <td>0.03237</td>\n",
              "      <td>0.0</td>\n",
              "      <td>2.18</td>\n",
              "      <td>0</td>\n",
              "      <td>0.458</td>\n",
              "      <td>6.998</td>\n",
              "      <td>45.8</td>\n",
              "      <td>6.0622</td>\n",
              "      <td>3</td>\n",
              "      <td>222</td>\n",
              "      <td>18.7</td>\n",
              "      <td>394.63</td>\n",
              "      <td>2.94</td>\n",
              "      <td>33.4</td>\n",
              "    </tr>\n",
              "    <tr>\n",
              "      <th>5</th>\n",
              "      <td>0.06905</td>\n",
              "      <td>0.0</td>\n",
              "      <td>2.18</td>\n",
              "      <td>0</td>\n",
              "      <td>0.458</td>\n",
              "      <td>7.147</td>\n",
              "      <td>54.2</td>\n",
              "      <td>6.0622</td>\n",
              "      <td>3</td>\n",
              "      <td>222</td>\n",
              "      <td>18.7</td>\n",
              "      <td>396.90</td>\n",
              "      <td>5.33</td>\n",
              "      <td>36.2</td>\n",
              "    </tr>\n",
              "  </tbody>\n",
              "</table>\n",
              "</div>"
            ],
            "text/plain": [
              "      crim    zn  indus  chas    nox     rm   age     dis  rad  tax  ptratio  \\\n",
              "1  0.00632  18.0   2.31     0  0.538  6.575  65.2  4.0900    1  296     15.3   \n",
              "2  0.02731   0.0   7.07     0  0.469  6.421  78.9  4.9671    2  242     17.8   \n",
              "3  0.02729   0.0   7.07     0  0.469  7.185  61.1  4.9671    2  242     17.8   \n",
              "4  0.03237   0.0   2.18     0  0.458  6.998  45.8  6.0622    3  222     18.7   \n",
              "5  0.06905   0.0   2.18     0  0.458  7.147  54.2  6.0622    3  222     18.7   \n",
              "\n",
              "    black  lstat  medv  \n",
              "1  396.90   4.98  24.0  \n",
              "2  396.90   9.14  21.6  \n",
              "3  392.83   4.03  34.7  \n",
              "4  394.63   2.94  33.4  \n",
              "5  396.90   5.33  36.2  "
            ]
          },
          "execution_count": 4,
          "metadata": {},
          "output_type": "execute_result"
        }
      ],
      "source": [
        "df.head()"
      ]
    },
    {
      "cell_type": "code",
      "execution_count": null,
      "id": "accomplished-philippines",
      "metadata": {
        "id": "accomplished-philippines",
        "outputId": "1a15cde2-4f2f-4a34-fff0-62aa04220be6"
      },
      "outputs": [
        {
          "data": {
            "text/plain": [
              "(506, 14)"
            ]
          },
          "execution_count": 5,
          "metadata": {},
          "output_type": "execute_result"
        }
      ],
      "source": [
        "df.shape"
      ]
    },
    {
      "cell_type": "code",
      "execution_count": null,
      "id": "deadly-behavior",
      "metadata": {
        "id": "deadly-behavior"
      },
      "outputs": [],
      "source": [
        "def outlier(x):\n",
        "    q1 = x.quantile(0.25)\n",
        "    q2 = x.quantile(0.50)\n",
        "    q3 = x.quantile(0.75)\n",
        "    iqr = q3-q1\n",
        "    out = []\n",
        "    up_lim = q3 + (1.5*iqr)\n",
        "    low_lim = q1 - (1.5*iqr)\n",
        "    for i,j in enumerate(x):\n",
        "        if (j > up_lim) | (j < low_lim):\n",
        "            out.append(i)\n",
        "    return out"
      ]
    },
    {
      "cell_type": "code",
      "execution_count": null,
      "id": "unique-premium",
      "metadata": {
        "id": "unique-premium"
      },
      "outputs": [],
      "source": [
        "out = outlier(df['medv'])"
      ]
    },
    {
      "cell_type": "code",
      "execution_count": null,
      "id": "acute-nevada",
      "metadata": {
        "id": "acute-nevada"
      },
      "outputs": [],
      "source": [
        "df.drop(index=out,inplace=True)"
      ]
    },
    {
      "cell_type": "code",
      "execution_count": null,
      "id": "hybrid-hypothetical",
      "metadata": {
        "id": "hybrid-hypothetical"
      },
      "outputs": [],
      "source": [
        "df = df.reset_index(drop=True)"
      ]
    },
    {
      "cell_type": "code",
      "execution_count": null,
      "id": "distant-wales",
      "metadata": {
        "id": "distant-wales",
        "outputId": "9a581255-c9d8-4c26-e18e-4caf6e3c2dbf"
      },
      "outputs": [
        {
          "data": {
            "text/plain": [
              "(466, 14)"
            ]
          },
          "execution_count": 10,
          "metadata": {},
          "output_type": "execute_result"
        }
      ],
      "source": [
        "df.shape"
      ]
    },
    {
      "cell_type": "code",
      "execution_count": null,
      "id": "aboriginal-birthday",
      "metadata": {
        "id": "aboriginal-birthday"
      },
      "outputs": [],
      "source": [
        "x = df.iloc[:,:-1]\n",
        "y = df.medv"
      ]
    },
    {
      "cell_type": "code",
      "execution_count": null,
      "id": "danish-madagascar",
      "metadata": {
        "id": "danish-madagascar"
      },
      "outputs": [],
      "source": [
        "from sklearn.model_selection import train_test_split\n",
        "x_train,x_test,y_train,y_test = train_test_split(x,y,test_size=0.3,random_state=0)"
      ]
    },
    {
      "cell_type": "code",
      "execution_count": null,
      "id": "foreign-disabled",
      "metadata": {
        "id": "foreign-disabled"
      },
      "outputs": [],
      "source": [
        "from scipy.stats import kstest,anderson,shapiro"
      ]
    },
    {
      "cell_type": "code",
      "execution_count": null,
      "id": "tropical-domain",
      "metadata": {
        "id": "tropical-domain",
        "outputId": "c0c05fbe-b5ee-461c-90fa-cf79076826fd"
      },
      "outputs": [
        {
          "data": {
            "text/plain": [
              "AndersonResult(statistic=5.021737448682245, critical_values=array([0.569, 0.648, 0.778, 0.907, 1.079]), significance_level=array([15. , 10. ,  5. ,  2.5,  1. ]))"
            ]
          },
          "execution_count": 14,
          "metadata": {},
          "output_type": "execute_result"
        }
      ],
      "source": [
        "anderson(y_train) # y is not normal so we trying to make it normal using boxcox transformation"
      ]
    },
    {
      "cell_type": "code",
      "execution_count": null,
      "id": "superior-dining",
      "metadata": {
        "id": "superior-dining"
      },
      "outputs": [],
      "source": [
        "from scipy.stats import boxcox # Here we transform only for train data because if we do for entire data \n",
        "# then while splitting into train and test againt it will be skewed or non normal"
      ]
    },
    {
      "cell_type": "code",
      "execution_count": null,
      "id": "stuck-corporation",
      "metadata": {
        "id": "stuck-corporation"
      },
      "outputs": [],
      "source": [
        "res_var , lambda_val = boxcox(y_train) # this boxcox technique is we trying normal transformation of response variable"
      ]
    },
    {
      "cell_type": "code",
      "execution_count": null,
      "id": "tamil-denmark",
      "metadata": {
        "id": "tamil-denmark",
        "outputId": "b408921a-8ce5-4d4b-d6a5-73a8f162bd44"
      },
      "outputs": [
        {
          "data": {
            "text/plain": [
              "0.31953267101720567"
            ]
          },
          "execution_count": 17,
          "metadata": {},
          "output_type": "execute_result"
        }
      ],
      "source": [
        "lambda_val"
      ]
    },
    {
      "cell_type": "code",
      "execution_count": null,
      "id": "studied-cable",
      "metadata": {
        "id": "studied-cable",
        "outputId": "376a3044-2d74-46ca-d6d3-408746deb58b"
      },
      "outputs": [
        {
          "data": {
            "text/plain": [
              "array([3.48436742, 7.79391298, 3.81219655, 5.03434406, 5.56741374,\n",
              "       5.33395341, 5.16198942, 5.49878234, 4.99520979, 4.92907951,\n",
              "       5.62373807, 5.09869385, 3.93807069, 4.04228517, 6.70542642,\n",
              "       6.01841842, 5.39360177, 5.62373807, 6.05896654, 5.07308287,\n",
              "       5.236611  , 5.3817432 , 5.04730045, 4.24155002, 5.35791993,\n",
              "       4.35268185, 5.03434406, 5.48723015, 6.71414763, 5.19947818,\n",
              "       7.46219155, 4.94239803, 3.97317133, 4.70929053, 4.04228517,\n",
              "       4.92907951, 3.02446805, 4.11000903, 5.1241362 , 4.68087852,\n",
              "       4.72341467, 5.54466497, 5.36984934, 3.92038029, 5.17452574,\n",
              "       4.68087852, 4.95566993, 5.2977303 , 4.47553126, 6.34215986,\n",
              "       7.55817281, 5.07308287, 6.08912941, 3.58435309, 5.08590961,\n",
              "       6.24655731, 4.82080243, 4.80704519, 5.06021326, 4.02513976,\n",
              "       5.55605521, 5.35791993, 7.31848767, 4.75150177, 5.85226793,\n",
              "       5.51030169, 4.17640996, 3.44345688, 5.89441842, 4.76546575,\n",
              "       3.99058397, 5.24891094, 5.30984148, 4.05934373, 5.17452574,\n",
              "       6.45423625, 5.79898019, 4.4604056 , 5.34595471, 5.62373807,\n",
              "       6.38920013, 6.45423625, 4.15993028, 4.79323697, 3.11772187,\n",
              "       6.26584393, 5.236611  , 3.99058397, 5.27339612, 5.02134373,\n",
              "       2.69845132, 4.36827353, 4.33702067, 5.44068824, 4.72341467,\n",
              "       4.90230092, 4.87533084, 6.40787835, 5.14941261, 6.25621117,\n",
              "       4.02513976, 4.83450917, 5.08590961, 3.44345688, 4.28961237,\n",
              "       5.42896829, 4.98207541, 4.27366536, 6.59052036, 7.79391298,\n",
              "       5.89441842, 5.42896829, 4.63784324, 5.47564488, 7.70944977,\n",
              "       5.32191575, 4.14337087, 6.04886524, 4.95566993, 5.0082991 ,\n",
              "       4.5649683 , 5.1241362 , 6.29461675, 2.50551041, 5.34595471,\n",
              "       5.63491075, 5.80969193, 6.15870385, 5.93615376, 5.27339612,\n",
              "       4.3992514 , 5.47564488, 4.82080243, 4.96889559, 4.84816585,\n",
              "       5.46402629, 3.75673135, 4.63784324, 6.60838673, 5.96718882,\n",
              "       4.6233847 , 5.06021326, 3.73802988, 5.34595471, 5.07308287,\n",
              "       4.04228517, 4.5796609 , 5.55605521, 5.48723015, 5.3817432 ,\n",
              "       5.49878234, 5.39360177, 4.86177292, 4.96889559, 4.60886851,\n",
              "       5.4054253 , 5.3817432 , 5.36984934, 4.5796609 , 4.20913391,\n",
              "       6.74886901, 5.49878234, 4.11000903, 2.69845132, 6.44500287,\n",
              "       2.29737243, 4.77937732, 5.34595471, 5.77747423, 5.56741374,\n",
              "       5.17452574, 6.4726464 , 5.62373807, 4.49059313, 5.22427243,\n",
              "       5.14941261, 5.1241362 , 6.17837975, 4.32128922, 5.09869385,\n",
              "       5.36984934, 5.2977303 , 3.90259485, 7.79391298, 4.28961237,\n",
              "       5.9465239 , 4.84816585, 6.81754256, 4.87533084, 3.33873528,\n",
              "       5.33395341, 6.04886524, 5.02134373, 5.09869385, 5.42896829,\n",
              "       5.79898019, 6.44500287, 4.98207541, 6.29461675, 4.63784324,\n",
              "       4.47553126, 3.50462215, 5.19947818, 4.69511198, 5.2977303 ,\n",
              "       5.41721406, 5.39360177, 6.42647901, 4.22538   , 5.59003649,\n",
              "       5.51030169, 6.01841842, 5.04730045, 5.89441842, 2.80286013,\n",
              "       4.82080243, 5.24891094, 6.79190853, 5.30984148, 5.09869385,\n",
              "       6.12902251, 5.98775425, 4.72341467, 5.41721406, 5.13679498,\n",
              "       5.09869385, 4.20913391, 3.44345688, 6.84303668, 4.94239803,\n",
              "       5.75585712, 5.21189492, 4.11000903, 7.79391298, 6.74021304,\n",
              "       3.92038029, 4.80704519, 5.02134373, 5.27339612, 6.00822137,\n",
              "       5.236611  , 5.39360177, 5.49878234, 4.65224468, 4.28961237,\n",
              "       5.03434406, 3.73802988, 5.27339612, 5.60130115, 5.60130115,\n",
              "       5.06021326, 3.88471309, 5.62373807, 6.30416624, 4.77937732,\n",
              "       5.60130115, 2.82835952, 4.05934373, 5.65716557, 5.07308287,\n",
              "       3.60397379, 5.41721406, 6.4726464 , 4.15993028, 5.59003649,\n",
              "       3.29581768, 5.44068824, 4.15993028, 4.91571394, 4.82080243,\n",
              "       4.80704519, 6.46345073, 4.30548672, 4.66658959, 4.94239803,\n",
              "       6.63505612, 5.21189492, 4.22538   , 4.0079064 , 4.19281087,\n",
              "       6.58156089, 3.79381319, 5.4054253 , 3.04806335, 5.0082991 ,\n",
              "       4.36827353, 5.4054253 , 4.11000903, 6.12902251, 5.78824102,\n",
              "       4.12673078, 4.96889559, 4.11000903, 5.95686888, 5.55605521,\n",
              "       4.91571394, 3.56460952, 5.33395341, 5.36984934, 5.26117255,\n",
              "       4.12673078, 5.4054253 , 4.30548672, 2.97669073, 5.77747423,\n",
              "       5.03434406, 6.22718583, 5.02134373, 5.4054253 , 3.31735253,\n",
              "       5.46402629, 5.53324278, 5.2977303 , 5.57874076, 5.64605318,\n",
              "       4.47553126, 7.67383948, 4.87533084, 2.10436647, 4.92907951,\n",
              "       7.79391298, 4.72341467, 5.55605521, 4.92907951, 4.55021571,\n",
              "       6.86839276])"
            ]
          },
          "execution_count": 18,
          "metadata": {},
          "output_type": "execute_result"
        }
      ],
      "source": [
        "res_var"
      ]
    },
    {
      "cell_type": "code",
      "execution_count": null,
      "id": "experienced-navigator",
      "metadata": {
        "id": "experienced-navigator"
      },
      "outputs": [],
      "source": [
        "or_tr = pd.DataFrame()\n",
        "or_tr['Original'] = y_train\n",
        "or_tr['Transformed'] = res_var"
      ]
    },
    {
      "cell_type": "code",
      "execution_count": null,
      "id": "occasional-military",
      "metadata": {
        "id": "occasional-military",
        "outputId": "c6c49080-1929-4494-9d38-731d0c652c12"
      },
      "outputs": [
        {
          "data": {
            "text/html": [
              "<div>\n",
              "<style scoped>\n",
              "    .dataframe tbody tr th:only-of-type {\n",
              "        vertical-align: middle;\n",
              "    }\n",
              "\n",
              "    .dataframe tbody tr th {\n",
              "        vertical-align: top;\n",
              "    }\n",
              "\n",
              "    .dataframe thead th {\n",
              "        text-align: right;\n",
              "    }\n",
              "</style>\n",
              "<table border=\"1\" class=\"dataframe\">\n",
              "  <thead>\n",
              "    <tr style=\"text-align: right;\">\n",
              "      <th></th>\n",
              "      <th>Original</th>\n",
              "      <th>Transformed</th>\n",
              "    </tr>\n",
              "  </thead>\n",
              "  <tbody>\n",
              "    <tr>\n",
              "      <th>342</th>\n",
              "      <td>10.4</td>\n",
              "      <td>3.484367</td>\n",
              "    </tr>\n",
              "    <tr>\n",
              "      <th>157</th>\n",
              "      <td>50.0</td>\n",
              "      <td>7.793913</td>\n",
              "    </tr>\n",
              "    <tr>\n",
              "      <th>363</th>\n",
              "      <td>12.1</td>\n",
              "      <td>3.812197</td>\n",
              "    </tr>\n",
              "    <tr>\n",
              "      <th>219</th>\n",
              "      <td>20.1</td>\n",
              "      <td>5.034344</td>\n",
              "    </tr>\n",
              "    <tr>\n",
              "      <th>454</th>\n",
              "      <td>24.5</td>\n",
              "      <td>5.567414</td>\n",
              "    </tr>\n",
              "    <tr>\n",
              "      <th>...</th>\n",
              "      <td>...</td>\n",
              "      <td>...</td>\n",
              "    </tr>\n",
              "    <tr>\n",
              "      <th>323</th>\n",
              "      <td>17.8</td>\n",
              "      <td>4.723415</td>\n",
              "    </tr>\n",
              "    <tr>\n",
              "      <th>192</th>\n",
              "      <td>24.4</td>\n",
              "      <td>5.556055</td>\n",
              "    </tr>\n",
              "    <tr>\n",
              "      <th>117</th>\n",
              "      <td>19.3</td>\n",
              "      <td>4.929080</td>\n",
              "    </tr>\n",
              "    <tr>\n",
              "      <th>47</th>\n",
              "      <td>16.6</td>\n",
              "      <td>4.550216</td>\n",
              "    </tr>\n",
              "    <tr>\n",
              "      <th>172</th>\n",
              "      <td>37.9</td>\n",
              "      <td>6.868393</td>\n",
              "    </tr>\n",
              "  </tbody>\n",
              "</table>\n",
              "<p>326 rows × 2 columns</p>\n",
              "</div>"
            ],
            "text/plain": [
              "     Original  Transformed\n",
              "342      10.4     3.484367\n",
              "157      50.0     7.793913\n",
              "363      12.1     3.812197\n",
              "219      20.1     5.034344\n",
              "454      24.5     5.567414\n",
              "..        ...          ...\n",
              "323      17.8     4.723415\n",
              "192      24.4     5.556055\n",
              "117      19.3     4.929080\n",
              "47       16.6     4.550216\n",
              "172      37.9     6.868393\n",
              "\n",
              "[326 rows x 2 columns]"
            ]
          },
          "execution_count": 20,
          "metadata": {},
          "output_type": "execute_result"
        }
      ],
      "source": [
        "or_tr"
      ]
    },
    {
      "cell_type": "code",
      "execution_count": null,
      "id": "interstate-crime",
      "metadata": {
        "id": "interstate-crime",
        "outputId": "db215a85-e29f-4822-fde8-9a2f90ef700d"
      },
      "outputs": [
        {
          "data": {
            "text/plain": [
              "AndersonResult(statistic=2.2064176687250097, critical_values=array([0.569, 0.648, 0.778, 0.907, 1.079]), significance_level=array([15. , 10. ,  5. ,  2.5,  1. ]))"
            ]
          },
          "execution_count": 21,
          "metadata": {},
          "output_type": "execute_result"
        }
      ],
      "source": [
        "anderson(or_tr['Transformed']) # here we have reduced the statistic value but we cound'nt transform it to normal completely"
      ]
    },
    {
      "cell_type": "code",
      "execution_count": null,
      "id": "thick-elimination",
      "metadata": {
        "id": "thick-elimination",
        "outputId": "85dbeb63-c81e-40d3-eac2-00fee96abb7a"
      },
      "outputs": [
        {
          "data": {
            "text/plain": [
              "KstestResult(statistic=0.9877512907308201, pvalue=0.0)"
            ]
          },
          "execution_count": 22,
          "metadata": {},
          "output_type": "execute_result"
        }
      ],
      "source": [
        "kstest(or_tr['Transformed'],'norm')"
      ]
    },
    {
      "cell_type": "code",
      "execution_count": null,
      "id": "prescription-surprise",
      "metadata": {
        "id": "prescription-surprise",
        "outputId": "ab957f56-f24a-4148-f2a8-b3ef28e4606b"
      },
      "outputs": [
        {
          "data": {
            "text/plain": [
              "(ShapiroResult(statistic=0.9808396697044373, pvalue=0.0002425604034215212),\n",
              " ShapiroResult(statistic=0.9325000643730164, pvalue=5.354149415492948e-11))"
            ]
          },
          "execution_count": 23,
          "metadata": {},
          "output_type": "execute_result"
        }
      ],
      "source": [
        "shapiro(or_tr['Transformed']),shapiro(or_tr['Original'])"
      ]
    },
    {
      "cell_type": "code",
      "execution_count": null,
      "id": "center-furniture",
      "metadata": {
        "id": "center-furniture",
        "outputId": "09d144a7-24b0-4885-bf08-0b518a3996d3"
      },
      "outputs": [
        {
          "data": {
            "text/html": [
              "<div>\n",
              "<style scoped>\n",
              "    .dataframe tbody tr th:only-of-type {\n",
              "        vertical-align: middle;\n",
              "    }\n",
              "\n",
              "    .dataframe tbody tr th {\n",
              "        vertical-align: top;\n",
              "    }\n",
              "\n",
              "    .dataframe thead th {\n",
              "        text-align: right;\n",
              "    }\n",
              "</style>\n",
              "<table border=\"1\" class=\"dataframe\">\n",
              "  <thead>\n",
              "    <tr style=\"text-align: right;\">\n",
              "      <th></th>\n",
              "      <th>crim</th>\n",
              "      <th>zn</th>\n",
              "      <th>indus</th>\n",
              "      <th>chas</th>\n",
              "      <th>nox</th>\n",
              "      <th>rm</th>\n",
              "      <th>age</th>\n",
              "      <th>dis</th>\n",
              "      <th>rad</th>\n",
              "      <th>tax</th>\n",
              "      <th>ptratio</th>\n",
              "      <th>black</th>\n",
              "      <th>lstat</th>\n",
              "      <th>Original</th>\n",
              "      <th>Transformed</th>\n",
              "    </tr>\n",
              "  </thead>\n",
              "  <tbody>\n",
              "    <tr>\n",
              "      <th>342</th>\n",
              "      <td>88.97620</td>\n",
              "      <td>0.0</td>\n",
              "      <td>18.10</td>\n",
              "      <td>0</td>\n",
              "      <td>0.671</td>\n",
              "      <td>6.968</td>\n",
              "      <td>91.9</td>\n",
              "      <td>1.4165</td>\n",
              "      <td>24</td>\n",
              "      <td>666</td>\n",
              "      <td>20.2</td>\n",
              "      <td>396.90</td>\n",
              "      <td>17.21</td>\n",
              "      <td>10.4</td>\n",
              "      <td>3.484367</td>\n",
              "    </tr>\n",
              "    <tr>\n",
              "      <th>157</th>\n",
              "      <td>1.51902</td>\n",
              "      <td>0.0</td>\n",
              "      <td>19.58</td>\n",
              "      <td>1</td>\n",
              "      <td>0.605</td>\n",
              "      <td>8.375</td>\n",
              "      <td>93.9</td>\n",
              "      <td>2.1620</td>\n",
              "      <td>5</td>\n",
              "      <td>403</td>\n",
              "      <td>14.7</td>\n",
              "      <td>388.45</td>\n",
              "      <td>3.32</td>\n",
              "      <td>50.0</td>\n",
              "      <td>7.793913</td>\n",
              "    </tr>\n",
              "    <tr>\n",
              "      <th>363</th>\n",
              "      <td>9.59571</td>\n",
              "      <td>0.0</td>\n",
              "      <td>18.10</td>\n",
              "      <td>0</td>\n",
              "      <td>0.693</td>\n",
              "      <td>6.404</td>\n",
              "      <td>100.0</td>\n",
              "      <td>1.6390</td>\n",
              "      <td>24</td>\n",
              "      <td>666</td>\n",
              "      <td>20.2</td>\n",
              "      <td>376.11</td>\n",
              "      <td>20.31</td>\n",
              "      <td>12.1</td>\n",
              "      <td>3.812197</td>\n",
              "    </tr>\n",
              "    <tr>\n",
              "      <th>219</th>\n",
              "      <td>0.10612</td>\n",
              "      <td>30.0</td>\n",
              "      <td>4.93</td>\n",
              "      <td>0</td>\n",
              "      <td>0.428</td>\n",
              "      <td>6.095</td>\n",
              "      <td>65.1</td>\n",
              "      <td>6.3361</td>\n",
              "      <td>6</td>\n",
              "      <td>300</td>\n",
              "      <td>16.6</td>\n",
              "      <td>394.62</td>\n",
              "      <td>12.40</td>\n",
              "      <td>20.1</td>\n",
              "      <td>5.034344</td>\n",
              "    </tr>\n",
              "    <tr>\n",
              "      <th>454</th>\n",
              "      <td>0.27957</td>\n",
              "      <td>0.0</td>\n",
              "      <td>9.69</td>\n",
              "      <td>0</td>\n",
              "      <td>0.585</td>\n",
              "      <td>5.926</td>\n",
              "      <td>42.6</td>\n",
              "      <td>2.3817</td>\n",
              "      <td>6</td>\n",
              "      <td>391</td>\n",
              "      <td>19.2</td>\n",
              "      <td>396.90</td>\n",
              "      <td>13.59</td>\n",
              "      <td>24.5</td>\n",
              "      <td>5.567414</td>\n",
              "    </tr>\n",
              "  </tbody>\n",
              "</table>\n",
              "</div>"
            ],
            "text/plain": [
              "         crim    zn  indus  chas    nox     rm    age     dis  rad  tax  \\\n",
              "342  88.97620   0.0  18.10     0  0.671  6.968   91.9  1.4165   24  666   \n",
              "157   1.51902   0.0  19.58     1  0.605  8.375   93.9  2.1620    5  403   \n",
              "363   9.59571   0.0  18.10     0  0.693  6.404  100.0  1.6390   24  666   \n",
              "219   0.10612  30.0   4.93     0  0.428  6.095   65.1  6.3361    6  300   \n",
              "454   0.27957   0.0   9.69     0  0.585  5.926   42.6  2.3817    6  391   \n",
              "\n",
              "     ptratio   black  lstat  Original  Transformed  \n",
              "342     20.2  396.90  17.21      10.4     3.484367  \n",
              "157     14.7  388.45   3.32      50.0     7.793913  \n",
              "363     20.2  376.11  20.31      12.1     3.812197  \n",
              "219     16.6  394.62  12.40      20.1     5.034344  \n",
              "454     19.2  396.90  13.59      24.5     5.567414  "
            ]
          },
          "execution_count": 24,
          "metadata": {},
          "output_type": "execute_result"
        }
      ],
      "source": [
        "train_data = pd.concat([x_train,or_tr],axis=1)\n",
        "train_data.head()"
      ]
    },
    {
      "cell_type": "code",
      "execution_count": null,
      "id": "straight-translation",
      "metadata": {
        "id": "straight-translation",
        "outputId": "cc98944b-1932-4ae2-db53-eb531e29edd9"
      },
      "outputs": [
        {
          "data": {
            "text/html": [
              "<div>\n",
              "<style scoped>\n",
              "    .dataframe tbody tr th:only-of-type {\n",
              "        vertical-align: middle;\n",
              "    }\n",
              "\n",
              "    .dataframe tbody tr th {\n",
              "        vertical-align: top;\n",
              "    }\n",
              "\n",
              "    .dataframe thead th {\n",
              "        text-align: right;\n",
              "    }\n",
              "</style>\n",
              "<table border=\"1\" class=\"dataframe\">\n",
              "  <thead>\n",
              "    <tr style=\"text-align: right;\">\n",
              "      <th></th>\n",
              "      <th>crim</th>\n",
              "      <th>zn</th>\n",
              "      <th>indus</th>\n",
              "      <th>chas</th>\n",
              "      <th>nox</th>\n",
              "      <th>rm</th>\n",
              "      <th>age</th>\n",
              "      <th>dis</th>\n",
              "      <th>rad</th>\n",
              "      <th>tax</th>\n",
              "      <th>ptratio</th>\n",
              "      <th>black</th>\n",
              "      <th>lstat</th>\n",
              "      <th>medv</th>\n",
              "    </tr>\n",
              "  </thead>\n",
              "  <tbody>\n",
              "    <tr>\n",
              "      <th>435</th>\n",
              "      <td>6.39312</td>\n",
              "      <td>0.0</td>\n",
              "      <td>18.10</td>\n",
              "      <td>0</td>\n",
              "      <td>0.584</td>\n",
              "      <td>6.162</td>\n",
              "      <td>97.4</td>\n",
              "      <td>2.2060</td>\n",
              "      <td>24</td>\n",
              "      <td>666</td>\n",
              "      <td>20.2</td>\n",
              "      <td>302.76</td>\n",
              "      <td>24.10</td>\n",
              "      <td>13.3</td>\n",
              "    </tr>\n",
              "    <tr>\n",
              "      <th>340</th>\n",
              "      <td>23.64820</td>\n",
              "      <td>0.0</td>\n",
              "      <td>18.10</td>\n",
              "      <td>0</td>\n",
              "      <td>0.671</td>\n",
              "      <td>6.380</td>\n",
              "      <td>96.2</td>\n",
              "      <td>1.3861</td>\n",
              "      <td>24</td>\n",
              "      <td>666</td>\n",
              "      <td>20.2</td>\n",
              "      <td>396.90</td>\n",
              "      <td>23.69</td>\n",
              "      <td>13.1</td>\n",
              "    </tr>\n",
              "    <tr>\n",
              "      <th>134</th>\n",
              "      <td>0.32264</td>\n",
              "      <td>0.0</td>\n",
              "      <td>21.89</td>\n",
              "      <td>0</td>\n",
              "      <td>0.624</td>\n",
              "      <td>5.942</td>\n",
              "      <td>93.5</td>\n",
              "      <td>1.9669</td>\n",
              "      <td>4</td>\n",
              "      <td>437</td>\n",
              "      <td>21.2</td>\n",
              "      <td>378.25</td>\n",
              "      <td>16.90</td>\n",
              "      <td>17.4</td>\n",
              "    </tr>\n",
              "    <tr>\n",
              "      <th>90</th>\n",
              "      <td>0.04684</td>\n",
              "      <td>0.0</td>\n",
              "      <td>3.41</td>\n",
              "      <td>0</td>\n",
              "      <td>0.489</td>\n",
              "      <td>6.417</td>\n",
              "      <td>66.1</td>\n",
              "      <td>3.0923</td>\n",
              "      <td>2</td>\n",
              "      <td>270</td>\n",
              "      <td>17.8</td>\n",
              "      <td>392.18</td>\n",
              "      <td>8.81</td>\n",
              "      <td>22.6</td>\n",
              "    </tr>\n",
              "    <tr>\n",
              "      <th>378</th>\n",
              "      <td>73.53410</td>\n",
              "      <td>0.0</td>\n",
              "      <td>18.10</td>\n",
              "      <td>0</td>\n",
              "      <td>0.679</td>\n",
              "      <td>5.957</td>\n",
              "      <td>100.0</td>\n",
              "      <td>1.8026</td>\n",
              "      <td>24</td>\n",
              "      <td>666</td>\n",
              "      <td>20.2</td>\n",
              "      <td>16.45</td>\n",
              "      <td>20.62</td>\n",
              "      <td>8.8</td>\n",
              "    </tr>\n",
              "  </tbody>\n",
              "</table>\n",
              "</div>"
            ],
            "text/plain": [
              "         crim   zn  indus  chas    nox     rm    age     dis  rad  tax  \\\n",
              "435   6.39312  0.0  18.10     0  0.584  6.162   97.4  2.2060   24  666   \n",
              "340  23.64820  0.0  18.10     0  0.671  6.380   96.2  1.3861   24  666   \n",
              "134   0.32264  0.0  21.89     0  0.624  5.942   93.5  1.9669    4  437   \n",
              "90    0.04684  0.0   3.41     0  0.489  6.417   66.1  3.0923    2  270   \n",
              "378  73.53410  0.0  18.10     0  0.679  5.957  100.0  1.8026   24  666   \n",
              "\n",
              "     ptratio   black  lstat  medv  \n",
              "435     20.2  302.76  24.10  13.3  \n",
              "340     20.2  396.90  23.69  13.1  \n",
              "134     21.2  378.25  16.90  17.4  \n",
              "90      17.8  392.18   8.81  22.6  \n",
              "378     20.2   16.45  20.62   8.8  "
            ]
          },
          "execution_count": 31,
          "metadata": {},
          "output_type": "execute_result"
        }
      ],
      "source": [
        "test_data = pd.concat([x_test,y_test],axis=1)\n",
        "test_data.head()"
      ]
    },
    {
      "cell_type": "code",
      "execution_count": null,
      "id": "quarterly-fountain",
      "metadata": {
        "id": "quarterly-fountain"
      },
      "outputs": [],
      "source": [
        "from statsmodels.formula.api import ols"
      ]
    },
    {
      "cell_type": "code",
      "execution_count": null,
      "id": "centered-tension",
      "metadata": {
        "id": "centered-tension"
      },
      "outputs": [],
      "source": [
        "lm = ols('Transformed~crim+zn+indus+chas+nox+rm+age+dis+rad+tax+ptratio+black+lstat',data=train_data).fit()"
      ]
    },
    {
      "cell_type": "code",
      "execution_count": null,
      "id": "capable-captain",
      "metadata": {
        "id": "capable-captain",
        "outputId": "2bd99eeb-c116-4e9c-dbda-88288dbff44b"
      },
      "outputs": [
        {
          "name": "stdout",
          "output_type": "stream",
          "text": [
            "                            OLS Regression Results                            \n",
            "==============================================================================\n",
            "Dep. Variable:            Transformed   R-squared:                       0.813\n",
            "Model:                            OLS   Adj. R-squared:                  0.805\n",
            "Method:                 Least Squares   F-statistic:                     104.1\n",
            "Date:                Fri, 16 Apr 2021   Prob (F-statistic):          4.71e-105\n",
            "Time:                        21:24:39   Log-Likelihood:                -181.10\n",
            "No. Observations:                 326   AIC:                             390.2\n",
            "Df Residuals:                     312   BIC:                             443.2\n",
            "Df Model:                          13                                         \n",
            "Covariance Type:            nonrobust                                         \n",
            "==============================================================================\n",
            "                 coef    std err          t      P>|t|      [0.025      0.975]\n",
            "------------------------------------------------------------------------------\n",
            "Intercept      6.6872      0.612     10.927      0.000       5.483       7.891\n",
            "crim          -0.0225      0.004     -5.705      0.000      -0.030      -0.015\n",
            "zn             0.0041      0.002      2.425      0.016       0.001       0.007\n",
            "indus          0.0007      0.007      0.105      0.916      -0.013       0.015\n",
            "chas           0.3460      0.101      3.431      0.001       0.148       0.544\n",
            "nox           -1.3210      0.426     -3.103      0.002      -2.159      -0.483\n",
            "rm             0.3292      0.052      6.296      0.000       0.226       0.432\n",
            "age           -0.0026      0.002     -1.704      0.089      -0.006       0.000\n",
            "dis           -0.1436      0.024     -5.904      0.000      -0.191      -0.096\n",
            "rad            0.0280      0.008      3.726      0.000       0.013       0.043\n",
            "tax           -0.0014      0.000     -3.201      0.002      -0.002      -0.001\n",
            "ptratio       -0.0859      0.015     -5.808      0.000      -0.115      -0.057\n",
            "black          0.0014      0.000      4.618      0.000       0.001       0.002\n",
            "lstat         -0.0616      0.006    -10.116      0.000      -0.074      -0.050\n",
            "==============================================================================\n",
            "Omnibus:                       63.433   Durbin-Watson:                   1.929\n",
            "Prob(Omnibus):                  0.000   Jarque-Bera (JB):              205.902\n",
            "Skew:                           0.835   Prob(JB):                     1.94e-45\n",
            "Kurtosis:                       6.517   Cond. No.                     1.59e+04\n",
            "==============================================================================\n",
            "\n",
            "Notes:\n",
            "[1] Standard Errors assume that the covariance matrix of the errors is correctly specified.\n",
            "[2] The condition number is large, 1.59e+04. This might indicate that there are\n",
            "strong multicollinearity or other numerical problems.\n"
          ]
        }
      ],
      "source": [
        "print(lm.summary())"
      ]
    },
    {
      "cell_type": "code",
      "execution_count": null,
      "id": "compound-mailing",
      "metadata": {
        "id": "compound-mailing",
        "outputId": "0dc0d730-0557-4548-b604-3f776c7acc88"
      },
      "outputs": [
        {
          "data": {
            "text/html": [
              "<table class=\"simpletable\">\n",
              "<caption>OLS Regression Results</caption>\n",
              "<tr>\n",
              "  <th>Dep. Variable:</th>       <td>Transformed</td>   <th>  R-squared:         </th> <td>   0.813</td> \n",
              "</tr>\n",
              "<tr>\n",
              "  <th>Model:</th>                   <td>OLS</td>       <th>  Adj. R-squared:    </th> <td>   0.805</td> \n",
              "</tr>\n",
              "<tr>\n",
              "  <th>Method:</th>             <td>Least Squares</td>  <th>  F-statistic:       </th> <td>   104.1</td> \n",
              "</tr>\n",
              "<tr>\n",
              "  <th>Date:</th>             <td>Fri, 16 Apr 2021</td> <th>  Prob (F-statistic):</th> <td>4.71e-105</td>\n",
              "</tr>\n",
              "<tr>\n",
              "  <th>Time:</th>                 <td>21:24:45</td>     <th>  Log-Likelihood:    </th> <td> -181.10</td> \n",
              "</tr>\n",
              "<tr>\n",
              "  <th>No. Observations:</th>      <td>   326</td>      <th>  AIC:               </th> <td>   390.2</td> \n",
              "</tr>\n",
              "<tr>\n",
              "  <th>Df Residuals:</th>          <td>   312</td>      <th>  BIC:               </th> <td>   443.2</td> \n",
              "</tr>\n",
              "<tr>\n",
              "  <th>Df Model:</th>              <td>    13</td>      <th>                     </th>     <td> </td>    \n",
              "</tr>\n",
              "<tr>\n",
              "  <th>Covariance Type:</th>      <td>nonrobust</td>    <th>                     </th>     <td> </td>    \n",
              "</tr>\n",
              "</table>\n",
              "<table class=\"simpletable\">\n",
              "<tr>\n",
              "      <td></td>         <th>coef</th>     <th>std err</th>      <th>t</th>      <th>P>|t|</th>  <th>[0.025</th>    <th>0.975]</th>  \n",
              "</tr>\n",
              "<tr>\n",
              "  <th>Intercept</th> <td>    6.6872</td> <td>    0.612</td> <td>   10.927</td> <td> 0.000</td> <td>    5.483</td> <td>    7.891</td>\n",
              "</tr>\n",
              "<tr>\n",
              "  <th>crim</th>      <td>   -0.0225</td> <td>    0.004</td> <td>   -5.705</td> <td> 0.000</td> <td>   -0.030</td> <td>   -0.015</td>\n",
              "</tr>\n",
              "<tr>\n",
              "  <th>zn</th>        <td>    0.0041</td> <td>    0.002</td> <td>    2.425</td> <td> 0.016</td> <td>    0.001</td> <td>    0.007</td>\n",
              "</tr>\n",
              "<tr>\n",
              "  <th>indus</th>     <td>    0.0007</td> <td>    0.007</td> <td>    0.105</td> <td> 0.916</td> <td>   -0.013</td> <td>    0.015</td>\n",
              "</tr>\n",
              "<tr>\n",
              "  <th>chas</th>      <td>    0.3460</td> <td>    0.101</td> <td>    3.431</td> <td> 0.001</td> <td>    0.148</td> <td>    0.544</td>\n",
              "</tr>\n",
              "<tr>\n",
              "  <th>nox</th>       <td>   -1.3210</td> <td>    0.426</td> <td>   -3.103</td> <td> 0.002</td> <td>   -2.159</td> <td>   -0.483</td>\n",
              "</tr>\n",
              "<tr>\n",
              "  <th>rm</th>        <td>    0.3292</td> <td>    0.052</td> <td>    6.296</td> <td> 0.000</td> <td>    0.226</td> <td>    0.432</td>\n",
              "</tr>\n",
              "<tr>\n",
              "  <th>age</th>       <td>   -0.0026</td> <td>    0.002</td> <td>   -1.704</td> <td> 0.089</td> <td>   -0.006</td> <td>    0.000</td>\n",
              "</tr>\n",
              "<tr>\n",
              "  <th>dis</th>       <td>   -0.1436</td> <td>    0.024</td> <td>   -5.904</td> <td> 0.000</td> <td>   -0.191</td> <td>   -0.096</td>\n",
              "</tr>\n",
              "<tr>\n",
              "  <th>rad</th>       <td>    0.0280</td> <td>    0.008</td> <td>    3.726</td> <td> 0.000</td> <td>    0.013</td> <td>    0.043</td>\n",
              "</tr>\n",
              "<tr>\n",
              "  <th>tax</th>       <td>   -0.0014</td> <td>    0.000</td> <td>   -3.201</td> <td> 0.002</td> <td>   -0.002</td> <td>   -0.001</td>\n",
              "</tr>\n",
              "<tr>\n",
              "  <th>ptratio</th>   <td>   -0.0859</td> <td>    0.015</td> <td>   -5.808</td> <td> 0.000</td> <td>   -0.115</td> <td>   -0.057</td>\n",
              "</tr>\n",
              "<tr>\n",
              "  <th>black</th>     <td>    0.0014</td> <td>    0.000</td> <td>    4.618</td> <td> 0.000</td> <td>    0.001</td> <td>    0.002</td>\n",
              "</tr>\n",
              "<tr>\n",
              "  <th>lstat</th>     <td>   -0.0616</td> <td>    0.006</td> <td>  -10.116</td> <td> 0.000</td> <td>   -0.074</td> <td>   -0.050</td>\n",
              "</tr>\n",
              "</table>\n",
              "<table class=\"simpletable\">\n",
              "<tr>\n",
              "  <th>Omnibus:</th>       <td>63.433</td> <th>  Durbin-Watson:     </th> <td>   1.929</td>\n",
              "</tr>\n",
              "<tr>\n",
              "  <th>Prob(Omnibus):</th> <td> 0.000</td> <th>  Jarque-Bera (JB):  </th> <td> 205.902</td>\n",
              "</tr>\n",
              "<tr>\n",
              "  <th>Skew:</th>          <td> 0.835</td> <th>  Prob(JB):          </th> <td>1.94e-45</td>\n",
              "</tr>\n",
              "<tr>\n",
              "  <th>Kurtosis:</th>      <td> 6.517</td> <th>  Cond. No.          </th> <td>1.59e+04</td>\n",
              "</tr>\n",
              "</table><br/><br/>Notes:<br/>[1] Standard Errors assume that the covariance matrix of the errors is correctly specified.<br/>[2] The condition number is large, 1.59e+04. This might indicate that there are<br/>strong multicollinearity or other numerical problems."
            ],
            "text/plain": [
              "<class 'statsmodels.iolib.summary.Summary'>\n",
              "\"\"\"\n",
              "                            OLS Regression Results                            \n",
              "==============================================================================\n",
              "Dep. Variable:            Transformed   R-squared:                       0.813\n",
              "Model:                            OLS   Adj. R-squared:                  0.805\n",
              "Method:                 Least Squares   F-statistic:                     104.1\n",
              "Date:                Fri, 16 Apr 2021   Prob (F-statistic):          4.71e-105\n",
              "Time:                        21:24:45   Log-Likelihood:                -181.10\n",
              "No. Observations:                 326   AIC:                             390.2\n",
              "Df Residuals:                     312   BIC:                             443.2\n",
              "Df Model:                          13                                         \n",
              "Covariance Type:            nonrobust                                         \n",
              "==============================================================================\n",
              "                 coef    std err          t      P>|t|      [0.025      0.975]\n",
              "------------------------------------------------------------------------------\n",
              "Intercept      6.6872      0.612     10.927      0.000       5.483       7.891\n",
              "crim          -0.0225      0.004     -5.705      0.000      -0.030      -0.015\n",
              "zn             0.0041      0.002      2.425      0.016       0.001       0.007\n",
              "indus          0.0007      0.007      0.105      0.916      -0.013       0.015\n",
              "chas           0.3460      0.101      3.431      0.001       0.148       0.544\n",
              "nox           -1.3210      0.426     -3.103      0.002      -2.159      -0.483\n",
              "rm             0.3292      0.052      6.296      0.000       0.226       0.432\n",
              "age           -0.0026      0.002     -1.704      0.089      -0.006       0.000\n",
              "dis           -0.1436      0.024     -5.904      0.000      -0.191      -0.096\n",
              "rad            0.0280      0.008      3.726      0.000       0.013       0.043\n",
              "tax           -0.0014      0.000     -3.201      0.002      -0.002      -0.001\n",
              "ptratio       -0.0859      0.015     -5.808      0.000      -0.115      -0.057\n",
              "black          0.0014      0.000      4.618      0.000       0.001       0.002\n",
              "lstat         -0.0616      0.006    -10.116      0.000      -0.074      -0.050\n",
              "==============================================================================\n",
              "Omnibus:                       63.433   Durbin-Watson:                   1.929\n",
              "Prob(Omnibus):                  0.000   Jarque-Bera (JB):              205.902\n",
              "Skew:                           0.835   Prob(JB):                     1.94e-45\n",
              "Kurtosis:                       6.517   Cond. No.                     1.59e+04\n",
              "==============================================================================\n",
              "\n",
              "Notes:\n",
              "[1] Standard Errors assume that the covariance matrix of the errors is correctly specified.\n",
              "[2] The condition number is large, 1.59e+04. This might indicate that there are\n",
              "strong multicollinearity or other numerical problems.\n",
              "\"\"\""
            ]
          },
          "execution_count": 28,
          "metadata": {},
          "output_type": "execute_result"
        }
      ],
      "source": [
        "lm.summary() # we do scaling to compare Bo coeff to check which variable has higher influence\n",
        "# But p value will tell without scaling also which variable is significant\n",
        "# t = mod of Beta/SE of Beta and p(t) is the probability of t\n",
        "# last col is the confidence interval for the B coeff that is within the given range only that Beta will exist"
      ]
    },
    {
      "cell_type": "code",
      "execution_count": null,
      "id": "derived-liberty",
      "metadata": {
        "id": "derived-liberty",
        "outputId": "88853efc-449f-4f5a-ec22-8a54bfe39ec3"
      },
      "outputs": [
        {
          "name": "stdout",
          "output_type": "stream",
          "text": [
            "crim+zn+indus+chas+nox+rm+age+dis+rad+tax+ptratio+black+lstat+"
          ]
        }
      ],
      "source": [
        "for i in x_train.columns:\n",
        "    print(i,end='+')"
      ]
    },
    {
      "cell_type": "markdown",
      "id": "pacific-transcription",
      "metadata": {
        "id": "pacific-transcription"
      },
      "source": [
        "# Checking Homoscadasticity"
      ]
    },
    {
      "cell_type": "code",
      "execution_count": null,
      "id": "ordered-czech",
      "metadata": {
        "id": "ordered-czech"
      },
      "outputs": [],
      "source": [
        "from statsmodels.stats.diagnostic import het_goldfeldquandt,het_breuschpagan,het_white"
      ]
    },
    {
      "cell_type": "code",
      "execution_count": null,
      "id": "spectacular-custody",
      "metadata": {
        "id": "spectacular-custody",
        "outputId": "e9630147-48e3-4d7d-d7d8-bbf4a9d3911e"
      },
      "outputs": [
        {
          "data": {
            "text/plain": [
              "(0.8616786068507071, 0.8177098564210046, 'increasing')"
            ]
          },
          "execution_count": 30,
          "metadata": {},
          "output_type": "execute_result"
        }
      ],
      "source": [
        "het_goldfeldquandt(lm.resid,train_data.iloc[:,:-1]) # So for small sample this test is more reliable so it tells data is homoscadastic\n",
        "# since data is homoscadastic we can accept the normality of the response variable\n",
        "# Normality of residual is more important than normality of response variable\n",
        "# So here we are checking heteroscadasticity of the residual since it failed our model is more sufficient then the normality of the response variable. "
      ]
    },
    {
      "cell_type": "code",
      "execution_count": null,
      "id": "geographic-excellence",
      "metadata": {
        "id": "geographic-excellence",
        "outputId": "25130ae3-b4b8-4061-dcc3-d66cf3e0df38"
      },
      "outputs": [
        {
          "data": {
            "text/plain": [
              "342    0.296316\n",
              "157    0.703604\n",
              "363   -0.674645\n",
              "219   -0.269642\n",
              "454    0.442709\n",
              "         ...   \n",
              "323   -0.064838\n",
              "192    0.153148\n",
              "117   -0.126448\n",
              "47    -0.123028\n",
              "172    0.539408\n",
              "Length: 326, dtype: float64"
            ]
          },
          "execution_count": 31,
          "metadata": {},
          "output_type": "execute_result"
        }
      ],
      "source": [
        "lm.resid"
      ]
    },
    {
      "cell_type": "code",
      "execution_count": null,
      "id": "awful-artist",
      "metadata": {
        "id": "awful-artist",
        "outputId": "22cfe52b-0c58-43bb-c3b9-02544f2c37e8"
      },
      "outputs": [
        {
          "data": {
            "text/plain": [
              "(153.7812805102331,\n",
              " 3.5618955367881256e-26,\n",
              " 19.899844163839433,\n",
              " 1.5368700194323188e-35)"
            ]
          },
          "execution_count": 32,
          "metadata": {},
          "output_type": "execute_result"
        }
      ],
      "source": [
        "het_breuschpagan(lm.resid,train_data.iloc[:,:-1]) # Here brush value is 60.26 and its prob is approx 0 which so we reject null\n",
        "# there is serious problem of heteroscadasticity"
      ]
    },
    {
      "cell_type": "code",
      "execution_count": null,
      "id": "international-wholesale",
      "metadata": {
        "id": "international-wholesale",
        "outputId": "158f865c-1041-46bc-b06c-1dbdba5cbeef"
      },
      "outputs": [
        {
          "ename": "TypeError",
          "evalue": "het_white() missing 2 required positional arguments: 'resid' and 'exog'",
          "output_type": "error",
          "traceback": [
            "\u001b[1;31m---------------------------------------------------------------------------\u001b[0m",
            "\u001b[1;31mTypeError\u001b[0m                                 Traceback (most recent call last)",
            "\u001b[1;32m<ipython-input-82-ffcef114421f>\u001b[0m in \u001b[0;36m<module>\u001b[1;34m\u001b[0m\n\u001b[1;32m----> 1\u001b[1;33m \u001b[0mhet_white\u001b[0m\u001b[1;33m(\u001b[0m\u001b[1;33m)\u001b[0m\u001b[1;33m\u001b[0m\u001b[1;33m\u001b[0m\u001b[0m\n\u001b[0m",
            "\u001b[1;31mTypeError\u001b[0m: het_white() missing 2 required positional arguments: 'resid' and 'exog'"
          ]
        }
      ],
      "source": [
        "het_white()"
      ]
    },
    {
      "cell_type": "markdown",
      "id": "hollow-witness",
      "metadata": {
        "id": "hollow-witness"
      },
      "source": [
        "# Checking Auto Correlation"
      ]
    },
    {
      "cell_type": "code",
      "execution_count": null,
      "id": "atmospheric-dinner",
      "metadata": {
        "id": "atmospheric-dinner"
      },
      "outputs": [],
      "source": [
        "from statsmodels.stats.stattools import durbin_watson"
      ]
    },
    {
      "cell_type": "code",
      "execution_count": null,
      "id": "basic-albania",
      "metadata": {
        "id": "basic-albania",
        "outputId": "8616125f-cdd2-401a-8336-345cfa4ee303"
      },
      "outputs": [
        {
          "data": {
            "text/plain": [
              "1.9289858996770515"
            ]
          },
          "execution_count": 34,
          "metadata": {},
          "output_type": "execute_result"
        }
      ],
      "source": [
        "durbin_watson(lm.resid) # so it approx equal to 2 only so y is free from auto correlation"
      ]
    },
    {
      "cell_type": "code",
      "execution_count": null,
      "id": "unsigned-alloy",
      "metadata": {
        "id": "unsigned-alloy",
        "outputId": "1a35fd21-b4bb-4126-87fe-cf363034c9a8"
      },
      "outputs": [
        {
          "data": {
            "text/plain": [
              "342    0.296316\n",
              "157    0.703604\n",
              "363   -0.674645\n",
              "219   -0.269642\n",
              "454    0.442709\n",
              "         ...   \n",
              "323   -0.064838\n",
              "192    0.153148\n",
              "117   -0.126448\n",
              "47    -0.123028\n",
              "172    0.539408\n",
              "Length: 326, dtype: float64"
            ]
          },
          "execution_count": 35,
          "metadata": {},
          "output_type": "execute_result"
        }
      ],
      "source": [
        "lm.resid"
      ]
    },
    {
      "cell_type": "code",
      "execution_count": null,
      "id": "dietary-metallic",
      "metadata": {
        "id": "dietary-metallic",
        "outputId": "66c70c1c-694d-4961-97f6-c582faab528b"
      },
      "outputs": [
        {
          "data": {
            "text/plain": [
              "342         NaN\n",
              "157    0.296316\n",
              "363    0.703604\n",
              "219   -0.674645\n",
              "454   -0.269642\n",
              "         ...   \n",
              "323    0.264348\n",
              "192   -0.064838\n",
              "117    0.153148\n",
              "47    -0.126448\n",
              "172   -0.123028\n",
              "Length: 326, dtype: float64"
            ]
          },
          "execution_count": 36,
          "metadata": {},
          "output_type": "execute_result"
        }
      ],
      "source": [
        "lm.resid.shift(1)"
      ]
    },
    {
      "cell_type": "markdown",
      "id": "behind-nylon",
      "metadata": {
        "id": "behind-nylon"
      },
      "source": [
        "# Checking Multi Collinearity"
      ]
    },
    {
      "cell_type": "code",
      "execution_count": null,
      "id": "square-argentina",
      "metadata": {
        "id": "square-argentina"
      },
      "outputs": [],
      "source": [
        "from statsmodels.stats.outliers_influence import variance_inflation_factor"
      ]
    },
    {
      "cell_type": "code",
      "execution_count": null,
      "id": "advance-grammar",
      "metadata": {
        "id": "advance-grammar"
      },
      "outputs": [],
      "source": [
        "vif = []\n",
        "for i in range(x_train.shape[1]):\n",
        "    v = variance_inflation_factor(x_train.values,i)\n",
        "    vif.append(v)"
      ]
    },
    {
      "cell_type": "code",
      "execution_count": null,
      "id": "rational-wedding",
      "metadata": {
        "id": "rational-wedding",
        "outputId": "d3a000c6-29d7-41e3-b1d5-2d66a14e4cf9"
      },
      "outputs": [
        {
          "data": {
            "text/plain": [
              "[2.1034849740422636,\n",
              " 2.7872713830102684,\n",
              " 15.114804658934089,\n",
              " 1.1494285992005682,\n",
              " 73.40842158624396,\n",
              " 82.99763738940138,\n",
              " 22.030918579490937,\n",
              " 15.499972233215269,\n",
              " 15.800680574765428,\n",
              " 65.00819936068281,\n",
              " 90.26894617196689,\n",
              " 21.010165331273033,\n",
              " 12.197108071839208]"
            ]
          },
          "execution_count": 39,
          "metadata": {},
          "output_type": "execute_result"
        }
      ],
      "source": [
        "vif # so here we can see for many variables VIF is higher so we need to go with PCA to remove multicollinearity"
      ]
    },
    {
      "cell_type": "markdown",
      "id": "bearing-korean",
      "metadata": {
        "id": "bearing-korean"
      },
      "source": [
        "# Applying PCA"
      ]
    },
    {
      "cell_type": "code",
      "execution_count": null,
      "id": "rotary-music",
      "metadata": {
        "id": "rotary-music"
      },
      "outputs": [],
      "source": [
        "from sklearn.decomposition import PCA # Remove multi collinearity\n",
        "# Important assumption for PC is data(independent variables) should be normal"
      ]
    },
    {
      "cell_type": "code",
      "execution_count": null,
      "id": "preceding-trigger",
      "metadata": {
        "id": "preceding-trigger"
      },
      "outputs": [],
      "source": [
        "from sklearn.preprocessing import StandardScaler"
      ]
    },
    {
      "cell_type": "code",
      "execution_count": null,
      "id": "cross-payroll",
      "metadata": {
        "id": "cross-payroll"
      },
      "outputs": [],
      "source": [
        "sc = StandardScaler().fit(x_train)\n",
        "sc_train_arr = sc.transform(x_train)"
      ]
    },
    {
      "cell_type": "code",
      "execution_count": null,
      "id": "ceramic-transportation",
      "metadata": {
        "id": "ceramic-transportation",
        "outputId": "914141ed-c4fe-43bd-d286-4c5fb296bba9"
      },
      "outputs": [
        {
          "data": {
            "text/html": [
              "<div>\n",
              "<style scoped>\n",
              "    .dataframe tbody tr th:only-of-type {\n",
              "        vertical-align: middle;\n",
              "    }\n",
              "\n",
              "    .dataframe tbody tr th {\n",
              "        vertical-align: top;\n",
              "    }\n",
              "\n",
              "    .dataframe thead th {\n",
              "        text-align: right;\n",
              "    }\n",
              "</style>\n",
              "<table border=\"1\" class=\"dataframe\">\n",
              "  <thead>\n",
              "    <tr style=\"text-align: right;\">\n",
              "      <th></th>\n",
              "      <th>PC1</th>\n",
              "      <th>PC2</th>\n",
              "      <th>PC3</th>\n",
              "      <th>PC4</th>\n",
              "      <th>PC5</th>\n",
              "      <th>PC6</th>\n",
              "      <th>PC7</th>\n",
              "      <th>PC8</th>\n",
              "      <th>PC9</th>\n",
              "      <th>PC10</th>\n",
              "      <th>PC11</th>\n",
              "      <th>PC12</th>\n",
              "      <th>PC13</th>\n",
              "    </tr>\n",
              "  </thead>\n",
              "  <tbody>\n",
              "    <tr>\n",
              "      <th>0</th>\n",
              "      <td>5.126055</td>\n",
              "      <td>4.280432</td>\n",
              "      <td>1.973639</td>\n",
              "      <td>0.151191</td>\n",
              "      <td>-0.842932</td>\n",
              "      <td>2.858678</td>\n",
              "      <td>7.652783</td>\n",
              "      <td>1.000082</td>\n",
              "      <td>2.346951</td>\n",
              "      <td>0.299479</td>\n",
              "      <td>0.896599</td>\n",
              "      <td>-0.461835</td>\n",
              "      <td>0.456503</td>\n",
              "    </tr>\n",
              "    <tr>\n",
              "      <th>1</th>\n",
              "      <td>-0.522173</td>\n",
              "      <td>-2.123014</td>\n",
              "      <td>4.909921</td>\n",
              "      <td>0.553957</td>\n",
              "      <td>-1.538892</td>\n",
              "      <td>-0.564047</td>\n",
              "      <td>0.032520</td>\n",
              "      <td>-0.054229</td>\n",
              "      <td>1.001235</td>\n",
              "      <td>-0.949370</td>\n",
              "      <td>0.593325</td>\n",
              "      <td>0.361818</td>\n",
              "      <td>0.250503</td>\n",
              "    </tr>\n",
              "    <tr>\n",
              "      <th>2</th>\n",
              "      <td>3.148282</td>\n",
              "      <td>0.356951</td>\n",
              "      <td>0.358616</td>\n",
              "      <td>-0.298281</td>\n",
              "      <td>-0.591605</td>\n",
              "      <td>0.926046</td>\n",
              "      <td>-0.149419</td>\n",
              "      <td>-0.505920</td>\n",
              "      <td>-0.316285</td>\n",
              "      <td>-0.353994</td>\n",
              "      <td>-0.161250</td>\n",
              "      <td>-0.133432</td>\n",
              "      <td>-0.074519</td>\n",
              "    </tr>\n",
              "    <tr>\n",
              "      <th>3</th>\n",
              "      <td>-2.157227</td>\n",
              "      <td>0.260159</td>\n",
              "      <td>-0.400056</td>\n",
              "      <td>0.387550</td>\n",
              "      <td>0.923411</td>\n",
              "      <td>0.325317</td>\n",
              "      <td>0.149173</td>\n",
              "      <td>-0.391962</td>\n",
              "      <td>-0.510511</td>\n",
              "      <td>-0.272257</td>\n",
              "      <td>0.382493</td>\n",
              "      <td>0.439767</td>\n",
              "      <td>-0.154936</td>\n",
              "    </tr>\n",
              "    <tr>\n",
              "      <th>4</th>\n",
              "      <td>-0.164071</td>\n",
              "      <td>-0.566593</td>\n",
              "      <td>-0.781649</td>\n",
              "      <td>-0.173765</td>\n",
              "      <td>-0.166487</td>\n",
              "      <td>0.046568</td>\n",
              "      <td>-0.110685</td>\n",
              "      <td>0.700559</td>\n",
              "      <td>0.039709</td>\n",
              "      <td>0.150405</td>\n",
              "      <td>-0.869896</td>\n",
              "      <td>-0.478861</td>\n",
              "      <td>0.251145</td>\n",
              "    </tr>\n",
              "  </tbody>\n",
              "</table>\n",
              "</div>"
            ],
            "text/plain": [
              "        PC1       PC2       PC3       PC4       PC5       PC6       PC7  \\\n",
              "0  5.126055  4.280432  1.973639  0.151191 -0.842932  2.858678  7.652783   \n",
              "1 -0.522173 -2.123014  4.909921  0.553957 -1.538892 -0.564047  0.032520   \n",
              "2  3.148282  0.356951  0.358616 -0.298281 -0.591605  0.926046 -0.149419   \n",
              "3 -2.157227  0.260159 -0.400056  0.387550  0.923411  0.325317  0.149173   \n",
              "4 -0.164071 -0.566593 -0.781649 -0.173765 -0.166487  0.046568 -0.110685   \n",
              "\n",
              "        PC8       PC9      PC10      PC11      PC12      PC13  \n",
              "0  1.000082  2.346951  0.299479  0.896599 -0.461835  0.456503  \n",
              "1 -0.054229  1.001235 -0.949370  0.593325  0.361818  0.250503  \n",
              "2 -0.505920 -0.316285 -0.353994 -0.161250 -0.133432 -0.074519  \n",
              "3 -0.391962 -0.510511 -0.272257  0.382493  0.439767 -0.154936  \n",
              "4  0.700559  0.039709  0.150405 -0.869896 -0.478861  0.251145  "
            ]
          },
          "execution_count": 43,
          "metadata": {},
          "output_type": "execute_result"
        }
      ],
      "source": [
        "pc = PCA().fit(sc_train_arr) # Pc loading will be stored in PC\n",
        "pc_train_arr = pc.transform(sc_train_arr)\n",
        "pc_train = pd.DataFrame(pc_train_arr,columns=['PC1','PC2','PC3','PC4','PC5','PC6','PC7','PC8','PC9','PC10','PC11','PC12','PC13'])\n",
        "pc_train.head()"
      ]
    },
    {
      "cell_type": "code",
      "execution_count": null,
      "id": "conceptual-provider",
      "metadata": {
        "id": "conceptual-provider",
        "outputId": "67b9178f-a811-4216-dcfb-e57fa7a50abe"
      },
      "outputs": [
        {
          "data": {
            "text/html": [
              "<div>\n",
              "<style scoped>\n",
              "    .dataframe tbody tr th:only-of-type {\n",
              "        vertical-align: middle;\n",
              "    }\n",
              "\n",
              "    .dataframe tbody tr th {\n",
              "        vertical-align: top;\n",
              "    }\n",
              "\n",
              "    .dataframe thead th {\n",
              "        text-align: right;\n",
              "    }\n",
              "</style>\n",
              "<table border=\"1\" class=\"dataframe\">\n",
              "  <thead>\n",
              "    <tr style=\"text-align: right;\">\n",
              "      <th></th>\n",
              "      <th>PC1</th>\n",
              "      <th>PC2</th>\n",
              "      <th>PC3</th>\n",
              "      <th>PC4</th>\n",
              "      <th>PC5</th>\n",
              "      <th>PC6</th>\n",
              "      <th>PC7</th>\n",
              "      <th>PC8</th>\n",
              "      <th>PC9</th>\n",
              "      <th>PC10</th>\n",
              "      <th>PC11</th>\n",
              "      <th>PC12</th>\n",
              "      <th>PC13</th>\n",
              "      <th>medv</th>\n",
              "    </tr>\n",
              "  </thead>\n",
              "  <tbody>\n",
              "    <tr>\n",
              "      <th>0</th>\n",
              "      <td>5.126055</td>\n",
              "      <td>4.280432</td>\n",
              "      <td>1.973639</td>\n",
              "      <td>0.151191</td>\n",
              "      <td>-0.842932</td>\n",
              "      <td>2.858678</td>\n",
              "      <td>7.652783</td>\n",
              "      <td>1.000082</td>\n",
              "      <td>2.346951</td>\n",
              "      <td>0.299479</td>\n",
              "      <td>0.896599</td>\n",
              "      <td>-0.461835</td>\n",
              "      <td>0.456503</td>\n",
              "      <td>3.484367</td>\n",
              "    </tr>\n",
              "    <tr>\n",
              "      <th>1</th>\n",
              "      <td>-0.522173</td>\n",
              "      <td>-2.123014</td>\n",
              "      <td>4.909921</td>\n",
              "      <td>0.553957</td>\n",
              "      <td>-1.538892</td>\n",
              "      <td>-0.564047</td>\n",
              "      <td>0.032520</td>\n",
              "      <td>-0.054229</td>\n",
              "      <td>1.001235</td>\n",
              "      <td>-0.949370</td>\n",
              "      <td>0.593325</td>\n",
              "      <td>0.361818</td>\n",
              "      <td>0.250503</td>\n",
              "      <td>7.793913</td>\n",
              "    </tr>\n",
              "    <tr>\n",
              "      <th>2</th>\n",
              "      <td>3.148282</td>\n",
              "      <td>0.356951</td>\n",
              "      <td>0.358616</td>\n",
              "      <td>-0.298281</td>\n",
              "      <td>-0.591605</td>\n",
              "      <td>0.926046</td>\n",
              "      <td>-0.149419</td>\n",
              "      <td>-0.505920</td>\n",
              "      <td>-0.316285</td>\n",
              "      <td>-0.353994</td>\n",
              "      <td>-0.161250</td>\n",
              "      <td>-0.133432</td>\n",
              "      <td>-0.074519</td>\n",
              "      <td>3.812197</td>\n",
              "    </tr>\n",
              "    <tr>\n",
              "      <th>3</th>\n",
              "      <td>-2.157227</td>\n",
              "      <td>0.260159</td>\n",
              "      <td>-0.400056</td>\n",
              "      <td>0.387550</td>\n",
              "      <td>0.923411</td>\n",
              "      <td>0.325317</td>\n",
              "      <td>0.149173</td>\n",
              "      <td>-0.391962</td>\n",
              "      <td>-0.510511</td>\n",
              "      <td>-0.272257</td>\n",
              "      <td>0.382493</td>\n",
              "      <td>0.439767</td>\n",
              "      <td>-0.154936</td>\n",
              "      <td>5.034344</td>\n",
              "    </tr>\n",
              "    <tr>\n",
              "      <th>4</th>\n",
              "      <td>-0.164071</td>\n",
              "      <td>-0.566593</td>\n",
              "      <td>-0.781649</td>\n",
              "      <td>-0.173765</td>\n",
              "      <td>-0.166487</td>\n",
              "      <td>0.046568</td>\n",
              "      <td>-0.110685</td>\n",
              "      <td>0.700559</td>\n",
              "      <td>0.039709</td>\n",
              "      <td>0.150405</td>\n",
              "      <td>-0.869896</td>\n",
              "      <td>-0.478861</td>\n",
              "      <td>0.251145</td>\n",
              "      <td>5.567414</td>\n",
              "    </tr>\n",
              "  </tbody>\n",
              "</table>\n",
              "</div>"
            ],
            "text/plain": [
              "        PC1       PC2       PC3       PC4       PC5       PC6       PC7  \\\n",
              "0  5.126055  4.280432  1.973639  0.151191 -0.842932  2.858678  7.652783   \n",
              "1 -0.522173 -2.123014  4.909921  0.553957 -1.538892 -0.564047  0.032520   \n",
              "2  3.148282  0.356951  0.358616 -0.298281 -0.591605  0.926046 -0.149419   \n",
              "3 -2.157227  0.260159 -0.400056  0.387550  0.923411  0.325317  0.149173   \n",
              "4 -0.164071 -0.566593 -0.781649 -0.173765 -0.166487  0.046568 -0.110685   \n",
              "\n",
              "        PC8       PC9      PC10      PC11      PC12      PC13      medv  \n",
              "0  1.000082  2.346951  0.299479  0.896599 -0.461835  0.456503  3.484367  \n",
              "1 -0.054229  1.001235 -0.949370  0.593325  0.361818  0.250503  7.793913  \n",
              "2 -0.505920 -0.316285 -0.353994 -0.161250 -0.133432 -0.074519  3.812197  \n",
              "3 -0.391962 -0.510511 -0.272257  0.382493  0.439767 -0.154936  5.034344  \n",
              "4  0.700559  0.039709  0.150405 -0.869896 -0.478861  0.251145  5.567414  "
            ]
          },
          "execution_count": 44,
          "metadata": {},
          "output_type": "execute_result"
        }
      ],
      "source": [
        "pc_train['medv'] = or_tr['Transformed'].values\n",
        "pc_train.head()"
      ]
    },
    {
      "cell_type": "code",
      "execution_count": null,
      "id": "indie-fitting",
      "metadata": {
        "id": "indie-fitting",
        "outputId": "9fbb73a6-77fc-4c2e-dbab-92ab506059a4"
      },
      "outputs": [
        {
          "name": "stdout",
          "output_type": "stream",
          "text": [
            "PC1+PC2+PC3+PC4+PC5+PC6+PC7+PC8+PC9+PC10+PC11+PC12+PC13+"
          ]
        }
      ],
      "source": [
        "for i in range(1,14):\n",
        "    print(\"PC%s\"%i,end=\"+\")"
      ]
    },
    {
      "cell_type": "code",
      "execution_count": null,
      "id": "pressing-empty",
      "metadata": {
        "id": "pressing-empty",
        "outputId": "a2e0e800-e57c-4edc-ff28-9e4da9d92c2f"
      },
      "outputs": [
        {
          "data": {
            "text/plain": [
              "435    13.3\n",
              "340    13.1\n",
              "134    17.4\n",
              "90     22.6\n",
              "378     8.8\n",
              "Name: medv, dtype: float64"
            ]
          },
          "execution_count": 64,
          "metadata": {},
          "output_type": "execute_result"
        }
      ],
      "source": [
        "y_test.head() # so here we need to transform this y so as to get same transformation like y_train we use lambda val of y_train"
      ]
    },
    {
      "cell_type": "code",
      "execution_count": null,
      "id": "parliamentary-kinase",
      "metadata": {
        "id": "parliamentary-kinase"
      },
      "outputs": [],
      "source": [
        "tr_test_arr = (y_test.values**lambda_val-1)/lambda_val"
      ]
    },
    {
      "cell_type": "code",
      "execution_count": null,
      "id": "intelligent-fiction",
      "metadata": {
        "id": "intelligent-fiction",
        "outputId": "560ba1da-33ff-4b7f-9984-b238be42d5b4"
      },
      "outputs": [
        {
          "data": {
            "text/plain": [
              "array([4.02513976, 3.99058397, 4.66658959, 5.34595471, 3.1405777 ,\n",
              "       4.96889559, 5.11143593, 5.28558194, 5.27339612, 5.26117255,\n",
              "       5.09869385, 5.26117255, 5.0082991 , 5.03434406, 3.04806335,\n",
              "       4.90230092, 5.89441842, 4.83450917, 5.236611  , 5.27339612,\n",
              "       4.41463907, 5.60130115, 5.52178843, 7.02589054, 3.77532528,\n",
              "       4.99520979, 2.75114917, 6.60838673, 4.30548672, 5.0082991 ,\n",
              "       5.54466497, 7.26446793, 5.57874076, 5.79898019, 5.22427243,\n",
              "       5.08590961, 7.34145796, 6.19796747, 4.19281087, 4.88884003,\n",
              "       4.72341467, 5.98775425, 4.90230092, 5.47564488, 5.16198942,\n",
              "       3.66211712, 5.41721406, 5.47564488, 4.87533084, 5.14941261,\n",
              "       3.92038029, 6.36103557, 3.1405777 , 2.10436647, 6.34215986,\n",
              "       5.17452574, 5.02134373, 5.42896829, 4.53540252, 4.95566993,\n",
              "       3.50462215, 5.54466497, 5.62373807, 5.59003649, 5.56741374,\n",
              "       4.84816585, 5.3817432 , 5.236611  , 4.86177292, 4.22538   ,\n",
              "       5.19947818, 4.79323697, 4.94239803, 4.5649683 , 3.48436742,\n",
              "       4.3992514 , 5.2977303 , 7.14665366, 7.79391298, 4.3992514 ,\n",
              "       4.52052812, 4.68087852, 3.7002981 , 4.96889559, 3.77532528,\n",
              "       5.19947818, 4.07631653, 5.45237416, 5.06021326, 4.49059313,\n",
              "       3.84865542, 6.65274989, 5.48723015, 4.6233847 , 2.75114917,\n",
              "       4.33702067, 4.88884003, 5.236611  , 4.04228517, 4.3992514 ,\n",
              "       3.75673135, 4.94239803, 5.62373807, 5.52178843, 4.55021571,\n",
              "       4.92907951, 4.95566993, 6.15870385, 6.72285242, 5.27339612,\n",
              "       4.90230092, 5.32191575, 5.48723015, 4.53540252, 5.4054253 ,\n",
              "       6.01841842, 4.73748491, 6.37983167, 3.58435309, 5.85226793,\n",
              "       7.79391298, 3.02446805, 4.33702067, 4.66658959, 5.93615376,\n",
              "       4.07631653, 4.3992514 , 4.6233847 , 4.77937732, 5.11143593,\n",
              "       7.79391298, 6.43575049, 2.75114917, 5.236611  , 5.49878234,\n",
              "       4.50559187, 4.99520979, 4.94239803, 4.24155002, 5.17452574])"
            ]
          },
          "execution_count": 46,
          "metadata": {},
          "output_type": "execute_result"
        }
      ],
      "source": [
        "tr_test_arr"
      ]
    },
    {
      "cell_type": "code",
      "execution_count": null,
      "id": "organic-failure",
      "metadata": {
        "id": "organic-failure",
        "outputId": "2dd02108-d38c-4d42-881f-2c865e5780bd"
      },
      "outputs": [
        {
          "data": {
            "text/html": [
              "<div>\n",
              "<style scoped>\n",
              "    .dataframe tbody tr th:only-of-type {\n",
              "        vertical-align: middle;\n",
              "    }\n",
              "\n",
              "    .dataframe tbody tr th {\n",
              "        vertical-align: top;\n",
              "    }\n",
              "\n",
              "    .dataframe thead th {\n",
              "        text-align: right;\n",
              "    }\n",
              "</style>\n",
              "<table border=\"1\" class=\"dataframe\">\n",
              "  <thead>\n",
              "    <tr style=\"text-align: right;\">\n",
              "      <th></th>\n",
              "      <th>PC1</th>\n",
              "      <th>PC2</th>\n",
              "      <th>PC3</th>\n",
              "      <th>PC4</th>\n",
              "      <th>PC5</th>\n",
              "      <th>PC6</th>\n",
              "      <th>PC7</th>\n",
              "      <th>PC8</th>\n",
              "      <th>PC9</th>\n",
              "      <th>PC10</th>\n",
              "      <th>PC11</th>\n",
              "      <th>PC12</th>\n",
              "      <th>PC13</th>\n",
              "    </tr>\n",
              "  </thead>\n",
              "  <tbody>\n",
              "    <tr>\n",
              "      <th>0</th>\n",
              "      <td>3.010682</td>\n",
              "      <td>0.665879</td>\n",
              "      <td>-0.174893</td>\n",
              "      <td>0.028734</td>\n",
              "      <td>-0.088607</td>\n",
              "      <td>0.062933</td>\n",
              "      <td>-0.359728</td>\n",
              "      <td>-0.668850</td>\n",
              "      <td>-0.434656</td>\n",
              "      <td>-0.900679</td>\n",
              "      <td>-0.317593</td>\n",
              "      <td>0.411699</td>\n",
              "      <td>-0.141092</td>\n",
              "    </tr>\n",
              "    <tr>\n",
              "      <th>1</th>\n",
              "      <td>3.630852</td>\n",
              "      <td>0.923873</td>\n",
              "      <td>0.358736</td>\n",
              "      <td>-0.026611</td>\n",
              "      <td>-0.440507</td>\n",
              "      <td>1.400950</td>\n",
              "      <td>1.345886</td>\n",
              "      <td>-0.351920</td>\n",
              "      <td>0.118458</td>\n",
              "      <td>-0.557033</td>\n",
              "      <td>-0.281609</td>\n",
              "      <td>-0.232422</td>\n",
              "      <td>0.006684</td>\n",
              "    </tr>\n",
              "    <tr>\n",
              "      <th>2</th>\n",
              "      <td>1.608561</td>\n",
              "      <td>-1.195210</td>\n",
              "      <td>-0.904211</td>\n",
              "      <td>-0.383113</td>\n",
              "      <td>-0.319394</td>\n",
              "      <td>-0.053674</td>\n",
              "      <td>-0.491399</td>\n",
              "      <td>-0.660002</td>\n",
              "      <td>1.160451</td>\n",
              "      <td>0.162347</td>\n",
              "      <td>0.007607</td>\n",
              "      <td>0.036920</td>\n",
              "      <td>0.122235</td>\n",
              "    </tr>\n",
              "    <tr>\n",
              "      <th>3</th>\n",
              "      <td>-1.500227</td>\n",
              "      <td>-0.778253</td>\n",
              "      <td>-0.149197</td>\n",
              "      <td>-0.802966</td>\n",
              "      <td>-0.086876</td>\n",
              "      <td>-0.337021</td>\n",
              "      <td>0.637926</td>\n",
              "      <td>0.168135</td>\n",
              "      <td>-0.460498</td>\n",
              "      <td>0.227695</td>\n",
              "      <td>-0.368809</td>\n",
              "      <td>0.172186</td>\n",
              "      <td>0.204456</td>\n",
              "    </tr>\n",
              "    <tr>\n",
              "      <th>4</th>\n",
              "      <td>5.969314</td>\n",
              "      <td>4.833238</td>\n",
              "      <td>1.400804</td>\n",
              "      <td>0.431777</td>\n",
              "      <td>1.335410</td>\n",
              "      <td>-0.750429</td>\n",
              "      <td>5.616658</td>\n",
              "      <td>1.082181</td>\n",
              "      <td>1.744680</td>\n",
              "      <td>1.019853</td>\n",
              "      <td>0.971057</td>\n",
              "      <td>0.128244</td>\n",
              "      <td>0.323120</td>\n",
              "    </tr>\n",
              "  </tbody>\n",
              "</table>\n",
              "</div>"
            ],
            "text/plain": [
              "        PC1       PC2       PC3       PC4       PC5       PC6       PC7  \\\n",
              "0  3.010682  0.665879 -0.174893  0.028734 -0.088607  0.062933 -0.359728   \n",
              "1  3.630852  0.923873  0.358736 -0.026611 -0.440507  1.400950  1.345886   \n",
              "2  1.608561 -1.195210 -0.904211 -0.383113 -0.319394 -0.053674 -0.491399   \n",
              "3 -1.500227 -0.778253 -0.149197 -0.802966 -0.086876 -0.337021  0.637926   \n",
              "4  5.969314  4.833238  1.400804  0.431777  1.335410 -0.750429  5.616658   \n",
              "\n",
              "        PC8       PC9      PC10      PC11      PC12      PC13  \n",
              "0 -0.668850 -0.434656 -0.900679 -0.317593  0.411699 -0.141092  \n",
              "1 -0.351920  0.118458 -0.557033 -0.281609 -0.232422  0.006684  \n",
              "2 -0.660002  1.160451  0.162347  0.007607  0.036920  0.122235  \n",
              "3  0.168135 -0.460498  0.227695 -0.368809  0.172186  0.204456  \n",
              "4  1.082181  1.744680  1.019853  0.971057  0.128244  0.323120  "
            ]
          },
          "execution_count": 47,
          "metadata": {},
          "output_type": "execute_result"
        }
      ],
      "source": [
        "sc_test_arr = sc.transform(x_test)\n",
        "pc_test_arr = pc.transform(sc_test_arr)\n",
        "pc_test = pd.DataFrame(pc_test_arr,columns=['PC1','PC2','PC3','PC4','PC5','PC6','PC7','PC8','PC9','PC10','PC11','PC12','PC13'])\n",
        "pc_test.head()"
      ]
    },
    {
      "cell_type": "code",
      "execution_count": null,
      "id": "adolescent-glance",
      "metadata": {
        "id": "adolescent-glance",
        "outputId": "eabc78ce-5ca9-4efe-f9b9-6cc1be540103"
      },
      "outputs": [
        {
          "data": {
            "text/html": [
              "<div>\n",
              "<style scoped>\n",
              "    .dataframe tbody tr th:only-of-type {\n",
              "        vertical-align: middle;\n",
              "    }\n",
              "\n",
              "    .dataframe tbody tr th {\n",
              "        vertical-align: top;\n",
              "    }\n",
              "\n",
              "    .dataframe thead th {\n",
              "        text-align: right;\n",
              "    }\n",
              "</style>\n",
              "<table border=\"1\" class=\"dataframe\">\n",
              "  <thead>\n",
              "    <tr style=\"text-align: right;\">\n",
              "      <th></th>\n",
              "      <th>PC1</th>\n",
              "      <th>PC2</th>\n",
              "      <th>PC3</th>\n",
              "      <th>PC4</th>\n",
              "      <th>PC5</th>\n",
              "      <th>PC6</th>\n",
              "      <th>PC7</th>\n",
              "      <th>PC8</th>\n",
              "      <th>PC9</th>\n",
              "      <th>PC10</th>\n",
              "      <th>PC11</th>\n",
              "      <th>PC12</th>\n",
              "      <th>PC13</th>\n",
              "      <th>medv</th>\n",
              "    </tr>\n",
              "  </thead>\n",
              "  <tbody>\n",
              "    <tr>\n",
              "      <th>0</th>\n",
              "      <td>3.010682</td>\n",
              "      <td>0.665879</td>\n",
              "      <td>-0.174893</td>\n",
              "      <td>0.028734</td>\n",
              "      <td>-0.088607</td>\n",
              "      <td>0.062933</td>\n",
              "      <td>-0.359728</td>\n",
              "      <td>-0.668850</td>\n",
              "      <td>-0.434656</td>\n",
              "      <td>-0.900679</td>\n",
              "      <td>-0.317593</td>\n",
              "      <td>0.411699</td>\n",
              "      <td>-0.141092</td>\n",
              "      <td>4.025140</td>\n",
              "    </tr>\n",
              "    <tr>\n",
              "      <th>1</th>\n",
              "      <td>3.630852</td>\n",
              "      <td>0.923873</td>\n",
              "      <td>0.358736</td>\n",
              "      <td>-0.026611</td>\n",
              "      <td>-0.440507</td>\n",
              "      <td>1.400950</td>\n",
              "      <td>1.345886</td>\n",
              "      <td>-0.351920</td>\n",
              "      <td>0.118458</td>\n",
              "      <td>-0.557033</td>\n",
              "      <td>-0.281609</td>\n",
              "      <td>-0.232422</td>\n",
              "      <td>0.006684</td>\n",
              "      <td>3.990584</td>\n",
              "    </tr>\n",
              "    <tr>\n",
              "      <th>2</th>\n",
              "      <td>1.608561</td>\n",
              "      <td>-1.195210</td>\n",
              "      <td>-0.904211</td>\n",
              "      <td>-0.383113</td>\n",
              "      <td>-0.319394</td>\n",
              "      <td>-0.053674</td>\n",
              "      <td>-0.491399</td>\n",
              "      <td>-0.660002</td>\n",
              "      <td>1.160451</td>\n",
              "      <td>0.162347</td>\n",
              "      <td>0.007607</td>\n",
              "      <td>0.036920</td>\n",
              "      <td>0.122235</td>\n",
              "      <td>4.666590</td>\n",
              "    </tr>\n",
              "    <tr>\n",
              "      <th>3</th>\n",
              "      <td>-1.500227</td>\n",
              "      <td>-0.778253</td>\n",
              "      <td>-0.149197</td>\n",
              "      <td>-0.802966</td>\n",
              "      <td>-0.086876</td>\n",
              "      <td>-0.337021</td>\n",
              "      <td>0.637926</td>\n",
              "      <td>0.168135</td>\n",
              "      <td>-0.460498</td>\n",
              "      <td>0.227695</td>\n",
              "      <td>-0.368809</td>\n",
              "      <td>0.172186</td>\n",
              "      <td>0.204456</td>\n",
              "      <td>5.345955</td>\n",
              "    </tr>\n",
              "    <tr>\n",
              "      <th>4</th>\n",
              "      <td>5.969314</td>\n",
              "      <td>4.833238</td>\n",
              "      <td>1.400804</td>\n",
              "      <td>0.431777</td>\n",
              "      <td>1.335410</td>\n",
              "      <td>-0.750429</td>\n",
              "      <td>5.616658</td>\n",
              "      <td>1.082181</td>\n",
              "      <td>1.744680</td>\n",
              "      <td>1.019853</td>\n",
              "      <td>0.971057</td>\n",
              "      <td>0.128244</td>\n",
              "      <td>0.323120</td>\n",
              "      <td>3.140578</td>\n",
              "    </tr>\n",
              "  </tbody>\n",
              "</table>\n",
              "</div>"
            ],
            "text/plain": [
              "        PC1       PC2       PC3       PC4       PC5       PC6       PC7  \\\n",
              "0  3.010682  0.665879 -0.174893  0.028734 -0.088607  0.062933 -0.359728   \n",
              "1  3.630852  0.923873  0.358736 -0.026611 -0.440507  1.400950  1.345886   \n",
              "2  1.608561 -1.195210 -0.904211 -0.383113 -0.319394 -0.053674 -0.491399   \n",
              "3 -1.500227 -0.778253 -0.149197 -0.802966 -0.086876 -0.337021  0.637926   \n",
              "4  5.969314  4.833238  1.400804  0.431777  1.335410 -0.750429  5.616658   \n",
              "\n",
              "        PC8       PC9      PC10      PC11      PC12      PC13      medv  \n",
              "0 -0.668850 -0.434656 -0.900679 -0.317593  0.411699 -0.141092  4.025140  \n",
              "1 -0.351920  0.118458 -0.557033 -0.281609 -0.232422  0.006684  3.990584  \n",
              "2 -0.660002  1.160451  0.162347  0.007607  0.036920  0.122235  4.666590  \n",
              "3  0.168135 -0.460498  0.227695 -0.368809  0.172186  0.204456  5.345955  \n",
              "4  1.082181  1.744680  1.019853  0.971057  0.128244  0.323120  3.140578  "
            ]
          },
          "execution_count": 48,
          "metadata": {},
          "output_type": "execute_result"
        }
      ],
      "source": [
        "pc_test['medv'] = tr_test_arr\n",
        "pc_test.head()"
      ]
    },
    {
      "cell_type": "code",
      "execution_count": null,
      "id": "graphic-charger",
      "metadata": {
        "id": "graphic-charger",
        "outputId": "07dbea3d-8509-426a-add3-407d108ab56e"
      },
      "outputs": [
        {
          "data": {
            "text/plain": [
              "array([0.46600688, 0.5765905 , 0.67580236, 0.7434207 , 0.80370035,\n",
              "       0.85529971, 0.89695466, 0.93073128, 0.95249918, 0.96956978,\n",
              "       0.98318483, 0.99530743, 1.        ])"
            ]
          },
          "execution_count": 49,
          "metadata": {},
          "output_type": "execute_result"
        }
      ],
      "source": [
        "pc.explained_variance_ratio_.cumsum()"
      ]
    },
    {
      "cell_type": "code",
      "execution_count": null,
      "id": "printable-costume",
      "metadata": {
        "id": "printable-costume"
      },
      "outputs": [],
      "source": [
        "lm_pc = ols('medv~PC1+PC2+PC3+PC4+PC5+PC6+PC7+PC8+PC9+PC10+PC11+PC12+PC13',data=pc_train).fit()"
      ]
    },
    {
      "cell_type": "code",
      "execution_count": null,
      "id": "vocal-simulation",
      "metadata": {
        "id": "vocal-simulation",
        "outputId": "e4d4588e-a70a-46ae-959b-5c4482ed212e"
      },
      "outputs": [
        {
          "name": "stdout",
          "output_type": "stream",
          "text": [
            "                            OLS Regression Results                            \n",
            "==============================================================================\n",
            "Dep. Variable:                   medv   R-squared:                       0.813\n",
            "Model:                            OLS   Adj. R-squared:                  0.805\n",
            "Method:                 Least Squares   F-statistic:                     104.1\n",
            "Date:                Fri, 16 Apr 2021   Prob (F-statistic):          4.71e-105\n",
            "Time:                        21:30:31   Log-Likelihood:                -181.10\n",
            "No. Observations:                 326   AIC:                             390.2\n",
            "Df Residuals:                     312   BIC:                             443.2\n",
            "Df Model:                          13                                         \n",
            "Covariance Type:            nonrobust                                         \n",
            "==============================================================================\n",
            "                 coef    std err          t      P>|t|      [0.025      0.975]\n",
            "------------------------------------------------------------------------------\n",
            "Intercept      5.1139      0.024    214.195      0.000       5.067       5.161\n",
            "PC1           -0.2884      0.010    -29.727      0.000      -0.307      -0.269\n",
            "PC2           -0.0864      0.020     -4.341      0.000      -0.126      -0.047\n",
            "PC3            0.3343      0.021     15.900      0.000       0.293       0.376\n",
            "PC4           -0.1568      0.025     -6.159      0.000      -0.207      -0.107\n",
            "PC5           -0.2438      0.027     -9.041      0.000      -0.297      -0.191\n",
            "PC6            0.0704      0.029      2.414      0.016       0.013       0.128\n",
            "PC7           -0.1070      0.032     -3.299      0.001      -0.171      -0.043\n",
            "PC8            0.1557      0.036      4.321      0.000       0.085       0.227\n",
            "PC9           -0.0198      0.045     -0.441      0.659      -0.108       0.069\n",
            "PC10           0.0995      0.051      1.963      0.051      -0.000       0.199\n",
            "PC11          -0.1929      0.057     -3.399      0.001      -0.305      -0.081\n",
            "PC12           0.2272      0.060      3.778      0.000       0.109       0.346\n",
            "PC13          -0.3558      0.097     -3.681      0.000      -0.546      -0.166\n",
            "==============================================================================\n",
            "Omnibus:                       63.433   Durbin-Watson:                   1.929\n",
            "Prob(Omnibus):                  0.000   Jarque-Bera (JB):              205.902\n",
            "Skew:                           0.835   Prob(JB):                     1.94e-45\n",
            "Kurtosis:                       6.517   Cond. No.                         9.97\n",
            "==============================================================================\n",
            "\n",
            "Notes:\n",
            "[1] Standard Errors assume that the covariance matrix of the errors is correctly specified.\n"
          ]
        }
      ],
      "source": [
        "print(lm_pc.summary())"
      ]
    },
    {
      "cell_type": "code",
      "execution_count": null,
      "id": "atomic-syntax",
      "metadata": {
        "id": "atomic-syntax"
      },
      "outputs": [],
      "source": [
        "test_pred = lm_pc.predict(pc_test)\n",
        "train_pred = lm_pc.predict(pc_train)"
      ]
    },
    {
      "cell_type": "code",
      "execution_count": null,
      "id": "unlimited-criterion",
      "metadata": {
        "id": "unlimited-criterion"
      },
      "outputs": [],
      "source": [
        "from sklearn.metrics import mean_squared_error\n",
        "train_mse = mean_squared_error(pc_train['medv'],train_pred)\n",
        "test_mse = mean_squared_error(pc_test['medv'],test_pred)"
      ]
    },
    {
      "cell_type": "code",
      "execution_count": null,
      "id": "ultimate-rebate",
      "metadata": {
        "id": "ultimate-rebate",
        "outputId": "0d918bbe-ca7a-40e8-9500-9f793c6ca25f"
      },
      "outputs": [
        {
          "data": {
            "text/plain": [
              "(0.4217132093389331, 0.5406379859295776)"
            ]
          },
          "execution_count": 56,
          "metadata": {},
          "output_type": "execute_result"
        }
      ],
      "source": [
        "np.sqrt(train_mse),np.sqrt(test_mse)"
      ]
    },
    {
      "cell_type": "code",
      "execution_count": null,
      "id": "attached-salon",
      "metadata": {
        "id": "attached-salon"
      },
      "outputs": [],
      "source": [
        "x_train = x_train.reset_index(drop=True)\n",
        "y_train = y_train.reset_index(drop=True)"
      ]
    },
    {
      "cell_type": "code",
      "execution_count": null,
      "id": "discrete-proceeding",
      "metadata": {
        "id": "discrete-proceeding",
        "outputId": "c02bf949-25ac-4774-9af6-e30ee6bd9166"
      },
      "outputs": [
        {
          "data": {
            "image/png": "[encoded data removed]",
            "text/plain": [
              "<Figure size 576x396 with 1 Axes>"
            ]
          },
          "metadata": {},
          "output_type": "display_data"
        },
        {
          "data": {
            "text/plain": [
              "<AxesSubplot:title={'center':\"Cook's Distance Outlier Detection\"}, xlabel='instance index', ylabel='influence (I)'>"
            ]
          },
          "execution_count": 58,
          "metadata": {},
          "output_type": "execute_result"
        }
      ],
      "source": [
        "from yellowbrick.regressor import CooksDistance\n",
        "visualizer = CooksDistance()\n",
        "visualizer.fit(x_train,y_train)\n",
        "visualizer.show()"
      ]
    },
    {
      "cell_type": "code",
      "execution_count": null,
      "id": "exotic-store",
      "metadata": {
        "id": "exotic-store",
        "outputId": "d3c7b4f6-308d-4971-9fce-df4d8e8bb715"
      },
      "outputs": [
        {
          "data": {
            "text/plain": [
              "0.012269938650306749"
            ]
          },
          "execution_count": 59,
          "metadata": {},
          "output_type": "execute_result"
        }
      ],
      "source": [
        "visualizer.influence_threshold_"
      ]
    },
    {
      "cell_type": "code",
      "execution_count": null,
      "id": "improving-intellectual",
      "metadata": {
        "id": "improving-intellectual",
        "outputId": "eeb89286-107b-4c6e-d371-2e0ea5ebde2b"
      },
      "outputs": [
        {
          "data": {
            "text/plain": [
              "0      0.025415\n",
              "1      0.081098\n",
              "2      0.002902\n",
              "3      0.000725\n",
              "4      0.001223\n",
              "         ...   \n",
              "321    0.001709\n",
              "322    0.000026\n",
              "323    0.000195\n",
              "324    0.000197\n",
              "325    0.007915\n",
              "Length: 326, dtype: float64"
            ]
          },
          "execution_count": 60,
          "metadata": {},
          "output_type": "execute_result"
        }
      ],
      "source": [
        "d = visualizer.distance_\n",
        "d"
      ]
    },
    {
      "cell_type": "code",
      "execution_count": null,
      "id": "concerned-preparation",
      "metadata": {
        "id": "concerned-preparation"
      },
      "outputs": [],
      "source": [
        "out = []\n",
        "for i,j in enumerate(d):\n",
        "    if j > visualizer.influence_threshold_:\n",
        "        out.append(i)"
      ]
    },
    {
      "cell_type": "code",
      "execution_count": null,
      "id": "excited-worth",
      "metadata": {
        "id": "excited-worth",
        "outputId": "6fc3aa63-4bdf-41b4-b459-c15b56284b10"
      },
      "outputs": [
        {
          "name": "stdout",
          "output_type": "stream",
          "text": [
            "[0, 1, 25, 30, 40, 50, 68, 109, 110, 114, 154, 159, 162, 163, 183, 233, 272, 292, 302, 305, 316, 320]\n"
          ]
        }
      ],
      "source": [
        "print(out)"
      ]
    },
    {
      "cell_type": "code",
      "execution_count": null,
      "id": "eight-terrace",
      "metadata": {
        "id": "eight-terrace"
      },
      "outputs": [],
      "source": [
        "x_train_new = x_train.drop(index=out)"
      ]
    },
    {
      "cell_type": "code",
      "execution_count": null,
      "id": "thrown-great",
      "metadata": {
        "id": "thrown-great"
      },
      "outputs": [],
      "source": [
        "y_train_new = y_train.drop(index=out)"
      ]
    },
    {
      "cell_type": "code",
      "execution_count": null,
      "id": "endangered-wallpaper",
      "metadata": {
        "id": "endangered-wallpaper",
        "outputId": "257141cb-c834-445c-bd4a-fd2e00d233e5"
      },
      "outputs": [
        {
          "data": {
            "text/plain": [
              "((304, 13), (304,))"
            ]
          },
          "execution_count": 67,
          "metadata": {},
          "output_type": "execute_result"
        }
      ],
      "source": [
        "x_train_new.shape,y_train_new.shape"
      ]
    },
    {
      "cell_type": "code",
      "execution_count": null,
      "id": "brown-military",
      "metadata": {
        "id": "brown-military"
      },
      "outputs": [],
      "source": [
        "x_train_new.reset_index(drop=True,inplace=True)\n",
        "y_train_new.reset_index(drop=True,inplace=True)"
      ]
    },
    {
      "cell_type": "code",
      "execution_count": null,
      "id": "subject-termination",
      "metadata": {
        "id": "subject-termination"
      },
      "outputs": [],
      "source": [
        "infl = lm.get_influence()"
      ]
    },
    {
      "cell_type": "code",
      "execution_count": null,
      "id": "synthetic-worse",
      "metadata": {
        "id": "synthetic-worse",
        "outputId": "339225b3-6655-4ff5-9c3e-7448eae706a0"
      },
      "outputs": [
        {
          "data": {
            "text/html": [
              "<div>\n",
              "<style scoped>\n",
              "    .dataframe tbody tr th:only-of-type {\n",
              "        vertical-align: middle;\n",
              "    }\n",
              "\n",
              "    .dataframe tbody tr th {\n",
              "        vertical-align: top;\n",
              "    }\n",
              "\n",
              "    .dataframe thead th {\n",
              "        text-align: right;\n",
              "    }\n",
              "</style>\n",
              "<table border=\"1\" class=\"dataframe\">\n",
              "  <thead>\n",
              "    <tr style=\"text-align: right;\">\n",
              "      <th></th>\n",
              "      <th>dfb_Intercept</th>\n",
              "      <th>dfb_crim</th>\n",
              "      <th>dfb_zn</th>\n",
              "      <th>dfb_indus</th>\n",
              "      <th>dfb_chas</th>\n",
              "      <th>dfb_nox</th>\n",
              "      <th>dfb_rm</th>\n",
              "      <th>dfb_age</th>\n",
              "      <th>dfb_dis</th>\n",
              "      <th>dfb_rad</th>\n",
              "      <th>dfb_tax</th>\n",
              "      <th>dfb_ptratio</th>\n",
              "      <th>dfb_black</th>\n",
              "      <th>dfb_lstat</th>\n",
              "      <th>cooks_d</th>\n",
              "      <th>standard_resid</th>\n",
              "      <th>hat_diag</th>\n",
              "      <th>dffits_internal</th>\n",
              "      <th>student_resid</th>\n",
              "      <th>dffits</th>\n",
              "    </tr>\n",
              "  </thead>\n",
              "  <tbody>\n",
              "    <tr>\n",
              "      <th>342</th>\n",
              "      <td>-0.159980</td>\n",
              "      <td>1.045183</td>\n",
              "      <td>-0.084813</td>\n",
              "      <td>0.031982</td>\n",
              "      <td>0.019115</td>\n",
              "      <td>0.062003</td>\n",
              "      <td>0.135032</td>\n",
              "      <td>-0.027080</td>\n",
              "      <td>0.093573</td>\n",
              "      <td>-0.250200</td>\n",
              "      <td>0.039676</td>\n",
              "      <td>0.040034</td>\n",
              "      <td>0.234856</td>\n",
              "      <td>-0.079795</td>\n",
              "      <td>0.082593</td>\n",
              "      <td>1.006111</td>\n",
              "      <td>0.533210</td>\n",
              "      <td>1.075313</td>\n",
              "      <td>1.006131</td>\n",
              "      <td>1.075334</td>\n",
              "    </tr>\n",
              "    <tr>\n",
              "      <th>157</th>\n",
              "      <td>-0.118474</td>\n",
              "      <td>0.058340</td>\n",
              "      <td>-0.141335</td>\n",
              "      <td>0.207128</td>\n",
              "      <td>0.340803</td>\n",
              "      <td>-0.101353</td>\n",
              "      <td>0.291617</td>\n",
              "      <td>0.073916</td>\n",
              "      <td>0.088460</td>\n",
              "      <td>-0.130313</td>\n",
              "      <td>0.115291</td>\n",
              "      <td>-0.138424</td>\n",
              "      <td>0.017065</td>\n",
              "      <td>-0.051176</td>\n",
              "      <td>0.028590</td>\n",
              "      <td>1.737107</td>\n",
              "      <td>0.117110</td>\n",
              "      <td>0.632661</td>\n",
              "      <td>1.742769</td>\n",
              "      <td>0.634723</td>\n",
              "    </tr>\n",
              "    <tr>\n",
              "      <th>363</th>\n",
              "      <td>0.086472</td>\n",
              "      <td>0.033480</td>\n",
              "      <td>-0.010671</td>\n",
              "      <td>0.006553</td>\n",
              "      <td>0.035470</td>\n",
              "      <td>-0.003402</td>\n",
              "      <td>-0.088966</td>\n",
              "      <td>-0.002683</td>\n",
              "      <td>0.009844</td>\n",
              "      <td>-0.064582</td>\n",
              "      <td>0.000998</td>\n",
              "      <td>-0.013150</td>\n",
              "      <td>-0.110822</td>\n",
              "      <td>-0.078969</td>\n",
              "      <td>0.003657</td>\n",
              "      <td>-1.580992</td>\n",
              "      <td>0.020073</td>\n",
              "      <td>-0.226279</td>\n",
              "      <td>-1.584818</td>\n",
              "      <td>-0.226827</td>\n",
              "    </tr>\n",
              "    <tr>\n",
              "      <th>219</th>\n",
              "      <td>-0.035784</td>\n",
              "      <td>0.007964</td>\n",
              "      <td>-0.002513</td>\n",
              "      <td>-0.005320</td>\n",
              "      <td>0.010923</td>\n",
              "      <td>0.038949</td>\n",
              "      <td>0.026331</td>\n",
              "      <td>-0.051764</td>\n",
              "      <td>-0.033521</td>\n",
              "      <td>-0.029701</td>\n",
              "      <td>0.011771</td>\n",
              "      <td>0.045971</td>\n",
              "      <td>-0.004473</td>\n",
              "      <td>-0.002904</td>\n",
              "      <td>0.000669</td>\n",
              "      <td>-0.632789</td>\n",
              "      <td>0.022851</td>\n",
              "      <td>-0.096767</td>\n",
              "      <td>-0.632180</td>\n",
              "      <td>-0.096674</td>\n",
              "    </tr>\n",
              "    <tr>\n",
              "      <th>454</th>\n",
              "      <td>-0.008910</td>\n",
              "      <td>-0.016225</td>\n",
              "      <td>-0.007660</td>\n",
              "      <td>-0.074359</td>\n",
              "      <td>-0.002862</td>\n",
              "      <td>0.053032</td>\n",
              "      <td>0.004164</td>\n",
              "      <td>-0.136336</td>\n",
              "      <td>-0.095947</td>\n",
              "      <td>-0.057449</td>\n",
              "      <td>0.042683</td>\n",
              "      <td>0.044344</td>\n",
              "      <td>0.023254</td>\n",
              "      <td>0.048333</td>\n",
              "      <td>0.002404</td>\n",
              "      <td>1.042770</td>\n",
              "      <td>0.030020</td>\n",
              "      <td>0.183449</td>\n",
              "      <td>1.042917</td>\n",
              "      <td>0.183474</td>\n",
              "    </tr>\n",
              "    <tr>\n",
              "      <th>...</th>\n",
              "      <td>...</td>\n",
              "      <td>...</td>\n",
              "      <td>...</td>\n",
              "      <td>...</td>\n",
              "      <td>...</td>\n",
              "      <td>...</td>\n",
              "      <td>...</td>\n",
              "      <td>...</td>\n",
              "      <td>...</td>\n",
              "      <td>...</td>\n",
              "      <td>...</td>\n",
              "      <td>...</td>\n",
              "      <td>...</td>\n",
              "      <td>...</td>\n",
              "      <td>...</td>\n",
              "      <td>...</td>\n",
              "      <td>...</td>\n",
              "      <td>...</td>\n",
              "      <td>...</td>\n",
              "      <td>...</td>\n",
              "    </tr>\n",
              "    <tr>\n",
              "      <th>323</th>\n",
              "      <td>0.012467</td>\n",
              "      <td>0.000085</td>\n",
              "      <td>0.000835</td>\n",
              "      <td>0.006149</td>\n",
              "      <td>-0.033055</td>\n",
              "      <td>-0.010954</td>\n",
              "      <td>-0.003763</td>\n",
              "      <td>0.002060</td>\n",
              "      <td>-0.005551</td>\n",
              "      <td>-0.000781</td>\n",
              "      <td>-0.004038</td>\n",
              "      <td>-0.008228</td>\n",
              "      <td>-0.007469</td>\n",
              "      <td>-0.001572</td>\n",
              "      <td>0.000121</td>\n",
              "      <td>-0.155585</td>\n",
              "      <td>0.065395</td>\n",
              "      <td>-0.041156</td>\n",
              "      <td>-0.155342</td>\n",
              "      <td>-0.041091</td>\n",
              "    </tr>\n",
              "    <tr>\n",
              "      <th>192</th>\n",
              "      <td>0.005267</td>\n",
              "      <td>0.001645</td>\n",
              "      <td>-0.014857</td>\n",
              "      <td>0.003737</td>\n",
              "      <td>0.082743</td>\n",
              "      <td>-0.015791</td>\n",
              "      <td>0.001084</td>\n",
              "      <td>-0.012412</td>\n",
              "      <td>0.000792</td>\n",
              "      <td>-0.001556</td>\n",
              "      <td>-0.003441</td>\n",
              "      <td>0.004130</td>\n",
              "      <td>-0.004183</td>\n",
              "      <td>0.017579</td>\n",
              "      <td>0.000602</td>\n",
              "      <td>0.366271</td>\n",
              "      <td>0.059151</td>\n",
              "      <td>0.091839</td>\n",
              "      <td>0.365763</td>\n",
              "      <td>0.091711</td>\n",
              "    </tr>\n",
              "    <tr>\n",
              "      <th>117</th>\n",
              "      <td>-0.016959</td>\n",
              "      <td>0.004586</td>\n",
              "      <td>0.008530</td>\n",
              "      <td>0.018220</td>\n",
              "      <td>0.000985</td>\n",
              "      <td>0.008395</td>\n",
              "      <td>0.013634</td>\n",
              "      <td>0.006121</td>\n",
              "      <td>0.016275</td>\n",
              "      <td>0.018603</td>\n",
              "      <td>-0.024949</td>\n",
              "      <td>0.011184</td>\n",
              "      <td>-0.002356</td>\n",
              "      <td>0.000575</td>\n",
              "      <td>0.000124</td>\n",
              "      <td>-0.296213</td>\n",
              "      <td>0.019342</td>\n",
              "      <td>-0.041600</td>\n",
              "      <td>-0.295780</td>\n",
              "      <td>-0.041539</td>\n",
              "    </tr>\n",
              "    <tr>\n",
              "      <th>47</th>\n",
              "      <td>-0.002404</td>\n",
              "      <td>0.001348</td>\n",
              "      <td>0.020462</td>\n",
              "      <td>-0.003402</td>\n",
              "      <td>0.005085</td>\n",
              "      <td>0.015918</td>\n",
              "      <td>-0.004277</td>\n",
              "      <td>-0.024768</td>\n",
              "      <td>-0.026973</td>\n",
              "      <td>-0.010783</td>\n",
              "      <td>0.011096</td>\n",
              "      <td>0.015807</td>\n",
              "      <td>-0.003988</td>\n",
              "      <td>-0.019659</td>\n",
              "      <td>0.000225</td>\n",
              "      <td>-0.290665</td>\n",
              "      <td>0.035891</td>\n",
              "      <td>-0.056082</td>\n",
              "      <td>-0.290238</td>\n",
              "      <td>-0.056000</td>\n",
              "    </tr>\n",
              "    <tr>\n",
              "      <th>172</th>\n",
              "      <td>0.028769</td>\n",
              "      <td>0.003417</td>\n",
              "      <td>-0.012978</td>\n",
              "      <td>-0.065416</td>\n",
              "      <td>-0.034094</td>\n",
              "      <td>-0.046297</td>\n",
              "      <td>0.011710</td>\n",
              "      <td>0.121182</td>\n",
              "      <td>-0.061347</td>\n",
              "      <td>0.041922</td>\n",
              "      <td>-0.053270</td>\n",
              "      <td>0.011120</td>\n",
              "      <td>-0.011975</td>\n",
              "      <td>-0.069567</td>\n",
              "      <td>0.004319</td>\n",
              "      <td>1.274405</td>\n",
              "      <td>0.035898</td>\n",
              "      <td>0.245912</td>\n",
              "      <td>1.275686</td>\n",
              "      <td>0.246159</td>\n",
              "    </tr>\n",
              "  </tbody>\n",
              "</table>\n",
              "<p>326 rows × 20 columns</p>\n",
              "</div>"
            ],
            "text/plain": [
              "     dfb_Intercept  dfb_crim    dfb_zn  dfb_indus  dfb_chas   dfb_nox  \\\n",
              "342      -0.159980  1.045183 -0.084813   0.031982  0.019115  0.062003   \n",
              "157      -0.118474  0.058340 -0.141335   0.207128  0.340803 -0.101353   \n",
              "363       0.086472  0.033480 -0.010671   0.006553  0.035470 -0.003402   \n",
              "219      -0.035784  0.007964 -0.002513  -0.005320  0.010923  0.038949   \n",
              "454      -0.008910 -0.016225 -0.007660  -0.074359 -0.002862  0.053032   \n",
              "..             ...       ...       ...        ...       ...       ...   \n",
              "323       0.012467  0.000085  0.000835   0.006149 -0.033055 -0.010954   \n",
              "192       0.005267  0.001645 -0.014857   0.003737  0.082743 -0.015791   \n",
              "117      -0.016959  0.004586  0.008530   0.018220  0.000985  0.008395   \n",
              "47       -0.002404  0.001348  0.020462  -0.003402  0.005085  0.015918   \n",
              "172       0.028769  0.003417 -0.012978  -0.065416 -0.034094 -0.046297   \n",
              "\n",
              "       dfb_rm   dfb_age   dfb_dis   dfb_rad   dfb_tax  dfb_ptratio  dfb_black  \\\n",
              "342  0.135032 -0.027080  0.093573 -0.250200  0.039676     0.040034   0.234856   \n",
              "157  0.291617  0.073916  0.088460 -0.130313  0.115291    -0.138424   0.017065   \n",
              "363 -0.088966 -0.002683  0.009844 -0.064582  0.000998    -0.013150  -0.110822   \n",
              "219  0.026331 -0.051764 -0.033521 -0.029701  0.011771     0.045971  -0.004473   \n",
              "454  0.004164 -0.136336 -0.095947 -0.057449  0.042683     0.044344   0.023254   \n",
              "..        ...       ...       ...       ...       ...          ...        ...   \n",
              "323 -0.003763  0.002060 -0.005551 -0.000781 -0.004038    -0.008228  -0.007469   \n",
              "192  0.001084 -0.012412  0.000792 -0.001556 -0.003441     0.004130  -0.004183   \n",
              "117  0.013634  0.006121  0.016275  0.018603 -0.024949     0.011184  -0.002356   \n",
              "47  -0.004277 -0.024768 -0.026973 -0.010783  0.011096     0.015807  -0.003988   \n",
              "172  0.011710  0.121182 -0.061347  0.041922 -0.053270     0.011120  -0.011975   \n",
              "\n",
              "     dfb_lstat   cooks_d  standard_resid  hat_diag  dffits_internal  \\\n",
              "342  -0.079795  0.082593        1.006111  0.533210         1.075313   \n",
              "157  -0.051176  0.028590        1.737107  0.117110         0.632661   \n",
              "363  -0.078969  0.003657       -1.580992  0.020073        -0.226279   \n",
              "219  -0.002904  0.000669       -0.632789  0.022851        -0.096767   \n",
              "454   0.048333  0.002404        1.042770  0.030020         0.183449   \n",
              "..         ...       ...             ...       ...              ...   \n",
              "323  -0.001572  0.000121       -0.155585  0.065395        -0.041156   \n",
              "192   0.017579  0.000602        0.366271  0.059151         0.091839   \n",
              "117   0.000575  0.000124       -0.296213  0.019342        -0.041600   \n",
              "47   -0.019659  0.000225       -0.290665  0.035891        -0.056082   \n",
              "172  -0.069567  0.004319        1.274405  0.035898         0.245912   \n",
              "\n",
              "     student_resid    dffits  \n",
              "342       1.006131  1.075334  \n",
              "157       1.742769  0.634723  \n",
              "363      -1.584818 -0.226827  \n",
              "219      -0.632180 -0.096674  \n",
              "454       1.042917  0.183474  \n",
              "..             ...       ...  \n",
              "323      -0.155342 -0.041091  \n",
              "192       0.365763  0.091711  \n",
              "117      -0.295780 -0.041539  \n",
              "47       -0.290238 -0.056000  \n",
              "172       1.275686  0.246159  \n",
              "\n",
              "[326 rows x 20 columns]"
            ]
          },
          "execution_count": 70,
          "metadata": {},
          "output_type": "execute_result"
        }
      ],
      "source": [
        "cook_diff = infl.summary_frame()\n",
        "cook_diff"
      ]
    },
    {
      "cell_type": "code",
      "execution_count": null,
      "id": "indirect-denial",
      "metadata": {
        "id": "indirect-denial",
        "outputId": "ae5c0cf5-870d-4910-ee65-dbd8138778bc"
      },
      "outputs": [
        {
          "data": {
            "text/html": [
              "<div>\n",
              "<style scoped>\n",
              "    .dataframe tbody tr th:only-of-type {\n",
              "        vertical-align: middle;\n",
              "    }\n",
              "\n",
              "    .dataframe tbody tr th {\n",
              "        vertical-align: top;\n",
              "    }\n",
              "\n",
              "    .dataframe thead th {\n",
              "        text-align: right;\n",
              "    }\n",
              "</style>\n",
              "<table border=\"1\" class=\"dataframe\">\n",
              "  <thead>\n",
              "    <tr style=\"text-align: right;\">\n",
              "      <th></th>\n",
              "      <th>cooks_d</th>\n",
              "      <th>dffits</th>\n",
              "    </tr>\n",
              "  </thead>\n",
              "  <tbody>\n",
              "    <tr>\n",
              "      <th>342</th>\n",
              "      <td>0.082593</td>\n",
              "      <td>1.075334</td>\n",
              "    </tr>\n",
              "    <tr>\n",
              "      <th>157</th>\n",
              "      <td>0.028590</td>\n",
              "      <td>0.634723</td>\n",
              "    </tr>\n",
              "    <tr>\n",
              "      <th>363</th>\n",
              "      <td>0.003657</td>\n",
              "      <td>-0.226827</td>\n",
              "    </tr>\n",
              "    <tr>\n",
              "      <th>219</th>\n",
              "      <td>0.000669</td>\n",
              "      <td>-0.096674</td>\n",
              "    </tr>\n",
              "    <tr>\n",
              "      <th>454</th>\n",
              "      <td>0.002404</td>\n",
              "      <td>0.183474</td>\n",
              "    </tr>\n",
              "    <tr>\n",
              "      <th>...</th>\n",
              "      <td>...</td>\n",
              "      <td>...</td>\n",
              "    </tr>\n",
              "    <tr>\n",
              "      <th>323</th>\n",
              "      <td>0.000121</td>\n",
              "      <td>-0.041091</td>\n",
              "    </tr>\n",
              "    <tr>\n",
              "      <th>192</th>\n",
              "      <td>0.000602</td>\n",
              "      <td>0.091711</td>\n",
              "    </tr>\n",
              "    <tr>\n",
              "      <th>117</th>\n",
              "      <td>0.000124</td>\n",
              "      <td>-0.041539</td>\n",
              "    </tr>\n",
              "    <tr>\n",
              "      <th>47</th>\n",
              "      <td>0.000225</td>\n",
              "      <td>-0.056000</td>\n",
              "    </tr>\n",
              "    <tr>\n",
              "      <th>172</th>\n",
              "      <td>0.004319</td>\n",
              "      <td>0.246159</td>\n",
              "    </tr>\n",
              "  </tbody>\n",
              "</table>\n",
              "<p>326 rows × 2 columns</p>\n",
              "</div>"
            ],
            "text/plain": [
              "      cooks_d    dffits\n",
              "342  0.082593  1.075334\n",
              "157  0.028590  0.634723\n",
              "363  0.003657 -0.226827\n",
              "219  0.000669 -0.096674\n",
              "454  0.002404  0.183474\n",
              "..        ...       ...\n",
              "323  0.000121 -0.041091\n",
              "192  0.000602  0.091711\n",
              "117  0.000124 -0.041539\n",
              "47   0.000225 -0.056000\n",
              "172  0.004319  0.246159\n",
              "\n",
              "[326 rows x 2 columns]"
            ]
          },
          "execution_count": 71,
          "metadata": {},
          "output_type": "execute_result"
        }
      ],
      "source": [
        "cook_diff[['cooks_d','dffits']]"
      ]
    },
    {
      "cell_type": "code",
      "execution_count": null,
      "id": "bottom-applicant",
      "metadata": {
        "id": "bottom-applicant"
      },
      "outputs": [],
      "source": [
        "# assignment\n",
        "# drop influencial obs\n",
        "# apply PC\n",
        "# build model"
      ]
    },
    {
      "cell_type": "code",
      "execution_count": null,
      "id": "executive-allocation",
      "metadata": {
        "id": "executive-allocation"
      },
      "outputs": [],
      "source": [
        "sc_p = StandardScaler().fit(x_train_new)\n",
        "scaled_train = sc_p.transform(x_train_new)"
      ]
    },
    {
      "cell_type": "code",
      "execution_count": null,
      "id": "presidential-oliver",
      "metadata": {
        "id": "presidential-oliver"
      },
      "outputs": [],
      "source": [
        "pc_1 = PCA()"
      ]
    },
    {
      "cell_type": "code",
      "execution_count": null,
      "id": "minute-producer",
      "metadata": {
        "id": "minute-producer",
        "outputId": "191fb823-af45-4ed0-cb20-ba177a1fe4f8"
      },
      "outputs": [
        {
          "data": {
            "text/plain": [
              "PCA()"
            ]
          },
          "execution_count": 75,
          "metadata": {},
          "output_type": "execute_result"
        }
      ],
      "source": [
        "pc_1.fit(scaled_train)"
      ]
    },
    {
      "cell_type": "code",
      "execution_count": null,
      "id": "eleven-characterization",
      "metadata": {
        "id": "eleven-characterization",
        "outputId": "1a2aec1f-33a0-41d8-b7ff-967afa5d36ce"
      },
      "outputs": [
        {
          "data": {
            "text/plain": [
              "array([[ 3.41994153,  0.59142018,  0.34658057, ..., -0.18281532,\n",
              "         0.30034654, -0.08643688],\n",
              "       [-2.13179637,  0.13898055, -0.40310985, ..., -0.01916988,\n",
              "        -0.37453235, -0.18226386],\n",
              "       [-0.12100538, -0.81160501, -0.5995778 , ..., -0.53390948,\n",
              "         0.7392211 ,  0.1784803 ],\n",
              "       ...,\n",
              "       [-0.01969949, -0.99914143, -0.44424355, ..., -0.54710212,\n",
              "        -0.05760406,  0.2914674 ],\n",
              "       [-1.07132832, -1.16625887, -0.72247807, ...,  0.23036929,\n",
              "        -0.0444181 , -0.17219378],\n",
              "       [-1.78187214, -0.63308531,  1.37390256, ..., -0.094493  ,\n",
              "        -0.34934084, -0.14126812]])"
            ]
          },
          "execution_count": 76,
          "metadata": {},
          "output_type": "execute_result"
        }
      ],
      "source": [
        "pc_train_arr_new = pc_1.transform(scaled_train)\n",
        "pc_train_arr_new"
      ]
    },
    {
      "cell_type": "code",
      "execution_count": null,
      "id": "confident-smoke",
      "metadata": {
        "id": "confident-smoke"
      },
      "outputs": [],
      "source": [
        "pc_train_new = pd.DataFrame(pc_train_arr_new,columns=['PC1','PC2','PC3','PC4','PC5','PC6','PC7','PC8','PC9','PC10','PC11','PC12','PC13'])\n",
        "pc_train_new['medv'] = y_train_new.values"
      ]
    },
    {
      "cell_type": "code",
      "execution_count": null,
      "id": "abroad-flavor",
      "metadata": {
        "id": "abroad-flavor",
        "outputId": "f119becd-2aa4-4e52-a003-0f6017b9566f"
      },
      "outputs": [
        {
          "data": {
            "text/html": [
              "<div>\n",
              "<style scoped>\n",
              "    .dataframe tbody tr th:only-of-type {\n",
              "        vertical-align: middle;\n",
              "    }\n",
              "\n",
              "    .dataframe tbody tr th {\n",
              "        vertical-align: top;\n",
              "    }\n",
              "\n",
              "    .dataframe thead th {\n",
              "        text-align: right;\n",
              "    }\n",
              "</style>\n",
              "<table border=\"1\" class=\"dataframe\">\n",
              "  <thead>\n",
              "    <tr style=\"text-align: right;\">\n",
              "      <th></th>\n",
              "      <th>PC1</th>\n",
              "      <th>PC2</th>\n",
              "      <th>PC3</th>\n",
              "      <th>PC4</th>\n",
              "      <th>PC5</th>\n",
              "      <th>PC6</th>\n",
              "      <th>PC7</th>\n",
              "      <th>PC8</th>\n",
              "      <th>PC9</th>\n",
              "      <th>PC10</th>\n",
              "      <th>PC11</th>\n",
              "      <th>PC12</th>\n",
              "      <th>PC13</th>\n",
              "      <th>medv</th>\n",
              "    </tr>\n",
              "  </thead>\n",
              "  <tbody>\n",
              "    <tr>\n",
              "      <th>0</th>\n",
              "      <td>3.419942</td>\n",
              "      <td>0.591420</td>\n",
              "      <td>0.346581</td>\n",
              "      <td>-0.158860</td>\n",
              "      <td>-0.517019</td>\n",
              "      <td>-0.983177</td>\n",
              "      <td>-0.516873</td>\n",
              "      <td>0.223133</td>\n",
              "      <td>-0.057770</td>\n",
              "      <td>0.351814</td>\n",
              "      <td>-0.182815</td>\n",
              "      <td>0.300347</td>\n",
              "      <td>-0.086437</td>\n",
              "      <td>12.1</td>\n",
              "    </tr>\n",
              "    <tr>\n",
              "      <th>1</th>\n",
              "      <td>-2.131796</td>\n",
              "      <td>0.138981</td>\n",
              "      <td>-0.403110</td>\n",
              "      <td>0.234150</td>\n",
              "      <td>1.077532</td>\n",
              "      <td>-0.205584</td>\n",
              "      <td>-0.455107</td>\n",
              "      <td>0.237376</td>\n",
              "      <td>-0.452664</td>\n",
              "      <td>0.479475</td>\n",
              "      <td>-0.019170</td>\n",
              "      <td>-0.374532</td>\n",
              "      <td>-0.182264</td>\n",
              "      <td>20.1</td>\n",
              "    </tr>\n",
              "    <tr>\n",
              "      <th>2</th>\n",
              "      <td>-0.121005</td>\n",
              "      <td>-0.811605</td>\n",
              "      <td>-0.599578</td>\n",
              "      <td>-0.166888</td>\n",
              "      <td>-0.160321</td>\n",
              "      <td>-0.111762</td>\n",
              "      <td>0.713804</td>\n",
              "      <td>-0.059554</td>\n",
              "      <td>0.099534</td>\n",
              "      <td>-0.498277</td>\n",
              "      <td>-0.533909</td>\n",
              "      <td>0.739221</td>\n",
              "      <td>0.178480</td>\n",
              "      <td>24.5</td>\n",
              "    </tr>\n",
              "    <tr>\n",
              "      <th>3</th>\n",
              "      <td>-0.436067</td>\n",
              "      <td>-1.273643</td>\n",
              "      <td>-0.952307</td>\n",
              "      <td>0.035877</td>\n",
              "      <td>0.585590</td>\n",
              "      <td>0.323439</td>\n",
              "      <td>-0.248734</td>\n",
              "      <td>0.242222</td>\n",
              "      <td>0.051449</td>\n",
              "      <td>0.474078</td>\n",
              "      <td>-0.059575</td>\n",
              "      <td>0.054211</td>\n",
              "      <td>-0.196706</td>\n",
              "      <td>22.5</td>\n",
              "    </tr>\n",
              "    <tr>\n",
              "      <th>4</th>\n",
              "      <td>-1.833185</td>\n",
              "      <td>-0.401964</td>\n",
              "      <td>-1.237978</td>\n",
              "      <td>0.297858</td>\n",
              "      <td>-0.729370</td>\n",
              "      <td>0.377151</td>\n",
              "      <td>0.530703</td>\n",
              "      <td>0.296961</td>\n",
              "      <td>-0.241228</td>\n",
              "      <td>-0.310571</td>\n",
              "      <td>0.681588</td>\n",
              "      <td>0.465751</td>\n",
              "      <td>-0.189794</td>\n",
              "      <td>21.1</td>\n",
              "    </tr>\n",
              "  </tbody>\n",
              "</table>\n",
              "</div>"
            ],
            "text/plain": [
              "        PC1       PC2       PC3       PC4       PC5       PC6       PC7  \\\n",
              "0  3.419942  0.591420  0.346581 -0.158860 -0.517019 -0.983177 -0.516873   \n",
              "1 -2.131796  0.138981 -0.403110  0.234150  1.077532 -0.205584 -0.455107   \n",
              "2 -0.121005 -0.811605 -0.599578 -0.166888 -0.160321 -0.111762  0.713804   \n",
              "3 -0.436067 -1.273643 -0.952307  0.035877  0.585590  0.323439 -0.248734   \n",
              "4 -1.833185 -0.401964 -1.237978  0.297858 -0.729370  0.377151  0.530703   \n",
              "\n",
              "        PC8       PC9      PC10      PC11      PC12      PC13  medv  \n",
              "0  0.223133 -0.057770  0.351814 -0.182815  0.300347 -0.086437  12.1  \n",
              "1  0.237376 -0.452664  0.479475 -0.019170 -0.374532 -0.182264  20.1  \n",
              "2 -0.059554  0.099534 -0.498277 -0.533909  0.739221  0.178480  24.5  \n",
              "3  0.242222  0.051449  0.474078 -0.059575  0.054211 -0.196706  22.5  \n",
              "4  0.296961 -0.241228 -0.310571  0.681588  0.465751 -0.189794  21.1  "
            ]
          },
          "execution_count": 79,
          "metadata": {},
          "output_type": "execute_result"
        }
      ],
      "source": [
        "pc_train_new.head()"
      ]
    },
    {
      "cell_type": "code",
      "execution_count": null,
      "id": "knowing-history",
      "metadata": {
        "id": "knowing-history",
        "outputId": "41ae90d3-bda6-44b7-e3e0-fa097c493190"
      },
      "outputs": [
        {
          "data": {
            "text/html": [
              "<div>\n",
              "<style scoped>\n",
              "    .dataframe tbody tr th:only-of-type {\n",
              "        vertical-align: middle;\n",
              "    }\n",
              "\n",
              "    .dataframe tbody tr th {\n",
              "        vertical-align: top;\n",
              "    }\n",
              "\n",
              "    .dataframe thead th {\n",
              "        text-align: right;\n",
              "    }\n",
              "</style>\n",
              "<table border=\"1\" class=\"dataframe\">\n",
              "  <thead>\n",
              "    <tr style=\"text-align: right;\">\n",
              "      <th></th>\n",
              "      <th>PC1</th>\n",
              "      <th>PC2</th>\n",
              "      <th>PC3</th>\n",
              "      <th>PC4</th>\n",
              "      <th>PC5</th>\n",
              "      <th>PC6</th>\n",
              "      <th>PC7</th>\n",
              "      <th>PC8</th>\n",
              "      <th>PC9</th>\n",
              "      <th>PC10</th>\n",
              "      <th>PC11</th>\n",
              "      <th>PC12</th>\n",
              "      <th>PC13</th>\n",
              "    </tr>\n",
              "  </thead>\n",
              "  <tbody>\n",
              "    <tr>\n",
              "      <th>0</th>\n",
              "      <td>3.226929</td>\n",
              "      <td>0.618353</td>\n",
              "      <td>-0.282006</td>\n",
              "      <td>0.124997</td>\n",
              "      <td>-0.028140</td>\n",
              "      <td>-0.017415</td>\n",
              "      <td>-0.553301</td>\n",
              "      <td>-0.101722</td>\n",
              "      <td>-0.230603</td>\n",
              "      <td>0.948737</td>\n",
              "      <td>-0.759958</td>\n",
              "      <td>0.053871</td>\n",
              "      <td>-0.218803</td>\n",
              "    </tr>\n",
              "    <tr>\n",
              "      <th>1</th>\n",
              "      <td>4.244183</td>\n",
              "      <td>1.344498</td>\n",
              "      <td>0.122514</td>\n",
              "      <td>0.264387</td>\n",
              "      <td>-0.177858</td>\n",
              "      <td>-1.457840</td>\n",
              "      <td>-0.624906</td>\n",
              "      <td>2.065584</td>\n",
              "      <td>1.252811</td>\n",
              "      <td>0.238756</td>\n",
              "      <td>0.136738</td>\n",
              "      <td>0.175781</td>\n",
              "      <td>0.181307</td>\n",
              "    </tr>\n",
              "    <tr>\n",
              "      <th>2</th>\n",
              "      <td>1.656830</td>\n",
              "      <td>-1.474064</td>\n",
              "      <td>-0.553745</td>\n",
              "      <td>-0.384623</td>\n",
              "      <td>-0.450714</td>\n",
              "      <td>0.029940</td>\n",
              "      <td>-0.606376</td>\n",
              "      <td>-1.123999</td>\n",
              "      <td>0.729095</td>\n",
              "      <td>-0.144461</td>\n",
              "      <td>0.047298</td>\n",
              "      <td>-0.094570</td>\n",
              "      <td>0.178835</td>\n",
              "    </tr>\n",
              "    <tr>\n",
              "      <th>3</th>\n",
              "      <td>-1.518359</td>\n",
              "      <td>-0.807035</td>\n",
              "      <td>0.227212</td>\n",
              "      <td>-0.766750</td>\n",
              "      <td>-0.269935</td>\n",
              "      <td>0.330553</td>\n",
              "      <td>0.088361</td>\n",
              "      <td>0.769606</td>\n",
              "      <td>-0.231484</td>\n",
              "      <td>-0.245309</td>\n",
              "      <td>-0.366613</td>\n",
              "      <td>-0.023104</td>\n",
              "      <td>0.172124</td>\n",
              "    </tr>\n",
              "    <tr>\n",
              "      <th>4</th>\n",
              "      <td>7.767506</td>\n",
              "      <td>6.019552</td>\n",
              "      <td>-0.312472</td>\n",
              "      <td>1.074678</td>\n",
              "      <td>1.758572</td>\n",
              "      <td>0.697108</td>\n",
              "      <td>0.186859</td>\n",
              "      <td>7.450734</td>\n",
              "      <td>4.775602</td>\n",
              "      <td>-1.940705</td>\n",
              "      <td>2.776696</td>\n",
              "      <td>-2.285061</td>\n",
              "      <td>1.271425</td>\n",
              "    </tr>\n",
              "  </tbody>\n",
              "</table>\n",
              "</div>"
            ],
            "text/plain": [
              "        PC1       PC2       PC3       PC4       PC5       PC6       PC7  \\\n",
              "0  3.226929  0.618353 -0.282006  0.124997 -0.028140 -0.017415 -0.553301   \n",
              "1  4.244183  1.344498  0.122514  0.264387 -0.177858 -1.457840 -0.624906   \n",
              "2  1.656830 -1.474064 -0.553745 -0.384623 -0.450714  0.029940 -0.606376   \n",
              "3 -1.518359 -0.807035  0.227212 -0.766750 -0.269935  0.330553  0.088361   \n",
              "4  7.767506  6.019552 -0.312472  1.074678  1.758572  0.697108  0.186859   \n",
              "\n",
              "        PC8       PC9      PC10      PC11      PC12      PC13  \n",
              "0 -0.101722 -0.230603  0.948737 -0.759958  0.053871 -0.218803  \n",
              "1  2.065584  1.252811  0.238756  0.136738  0.175781  0.181307  \n",
              "2 -1.123999  0.729095 -0.144461  0.047298 -0.094570  0.178835  \n",
              "3  0.769606 -0.231484 -0.245309 -0.366613 -0.023104  0.172124  \n",
              "4  7.450734  4.775602 -1.940705  2.776696 -2.285061  1.271425  "
            ]
          },
          "execution_count": 84,
          "metadata": {},
          "output_type": "execute_result"
        }
      ],
      "source": [
        "scaled_test = sc_p.transform(x_test)\n",
        "pc_test_arr_new = pc_1.transform(scaled_test)\n",
        "pc_test_new = pd.DataFrame(pc_test_arr_new,columns=['PC1','PC2','PC3','PC4','PC5','PC6','PC7','PC8','PC9','PC10','PC11','PC12','PC13'])\n",
        "pc_train_new['medv'] = y_train_new.values\n",
        "pc_test_new.head()"
      ]
    },
    {
      "cell_type": "code",
      "execution_count": null,
      "id": "greatest-cycle",
      "metadata": {
        "id": "greatest-cycle"
      },
      "outputs": [],
      "source": [
        "lm_pc_new = ols('medv~PC1+PC2+PC3+PC4+PC5+PC6+PC7+PC8+PC9+PC10+PC11+PC12+PC13',data=pc_train_new).fit()"
      ]
    },
    {
      "cell_type": "code",
      "execution_count": null,
      "id": "enhanced-timing",
      "metadata": {
        "id": "enhanced-timing",
        "outputId": "9dc98aa4-0ed9-4c5e-aa56-6cbf6b68a4a1"
      },
      "outputs": [
        {
          "data": {
            "text/html": [
              "<table class=\"simpletable\">\n",
              "<caption>OLS Regression Results</caption>\n",
              "<tr>\n",
              "  <th>Dep. Variable:</th>          <td>medv</td>       <th>  R-squared:         </th> <td>   0.854</td> \n",
              "</tr>\n",
              "<tr>\n",
              "  <th>Model:</th>                   <td>OLS</td>       <th>  Adj. R-squared:    </th> <td>   0.847</td> \n",
              "</tr>\n",
              "<tr>\n",
              "  <th>Method:</th>             <td>Least Squares</td>  <th>  F-statistic:       </th> <td>   130.5</td> \n",
              "</tr>\n",
              "<tr>\n",
              "  <th>Date:</th>             <td>Fri, 16 Apr 2021</td> <th>  Prob (F-statistic):</th> <td>8.68e-113</td>\n",
              "</tr>\n",
              "<tr>\n",
              "  <th>Time:</th>                 <td>21:53:24</td>     <th>  Log-Likelihood:    </th> <td> -715.47</td> \n",
              "</tr>\n",
              "<tr>\n",
              "  <th>No. Observations:</th>      <td>   304</td>      <th>  AIC:               </th> <td>   1459.</td> \n",
              "</tr>\n",
              "<tr>\n",
              "  <th>Df Residuals:</th>          <td>   290</td>      <th>  BIC:               </th> <td>   1511.</td> \n",
              "</tr>\n",
              "<tr>\n",
              "  <th>Df Model:</th>              <td>    13</td>      <th>                     </th>     <td> </td>    \n",
              "</tr>\n",
              "<tr>\n",
              "  <th>Covariance Type:</th>      <td>nonrobust</td>    <th>                     </th>     <td> </td>    \n",
              "</tr>\n",
              "</table>\n",
              "<table class=\"simpletable\">\n",
              "<tr>\n",
              "      <td></td>         <th>coef</th>     <th>std err</th>      <th>t</th>      <th>P>|t|</th>  <th>[0.025</th>    <th>0.975]</th>  \n",
              "</tr>\n",
              "<tr>\n",
              "  <th>Intercept</th> <td>   21.1046</td> <td>    0.150</td> <td>  141.154</td> <td> 0.000</td> <td>   20.810</td> <td>   21.399</td>\n",
              "</tr>\n",
              "<tr>\n",
              "  <th>PC1</th>       <td>   -2.0225</td> <td>    0.060</td> <td>  -33.735</td> <td> 0.000</td> <td>   -2.140</td> <td>   -1.904</td>\n",
              "</tr>\n",
              "<tr>\n",
              "  <th>PC2</th>       <td>    0.3131</td> <td>    0.122</td> <td>    2.558</td> <td> 0.011</td> <td>    0.072</td> <td>    0.554</td>\n",
              "</tr>\n",
              "<tr>\n",
              "  <th>PC3</th>       <td>    2.5336</td> <td>    0.138</td> <td>   18.325</td> <td> 0.000</td> <td>    2.261</td> <td>    2.806</td>\n",
              "</tr>\n",
              "<tr>\n",
              "  <th>PC4</th>       <td>   -1.0087</td> <td>    0.156</td> <td>   -6.449</td> <td> 0.000</td> <td>   -1.316</td> <td>   -0.701</td>\n",
              "</tr>\n",
              "<tr>\n",
              "  <th>PC5</th>       <td>   -1.4983</td> <td>    0.166</td> <td>   -9.020</td> <td> 0.000</td> <td>   -1.825</td> <td>   -1.171</td>\n",
              "</tr>\n",
              "<tr>\n",
              "  <th>PC6</th>       <td>   -0.9171</td> <td>    0.180</td> <td>   -5.100</td> <td> 0.000</td> <td>   -1.271</td> <td>   -0.563</td>\n",
              "</tr>\n",
              "<tr>\n",
              "  <th>PC7</th>       <td>    1.1481</td> <td>    0.221</td> <td>    5.201</td> <td> 0.000</td> <td>    0.714</td> <td>    1.583</td>\n",
              "</tr>\n",
              "<tr>\n",
              "  <th>PC8</th>       <td>   -0.2285</td> <td>    0.231</td> <td>   -0.989</td> <td> 0.324</td> <td>   -0.684</td> <td>    0.226</td>\n",
              "</tr>\n",
              "<tr>\n",
              "  <th>PC9</th>       <td>    0.1372</td> <td>    0.301</td> <td>    0.456</td> <td> 0.648</td> <td>   -0.455</td> <td>    0.729</td>\n",
              "</tr>\n",
              "<tr>\n",
              "  <th>PC10</th>      <td>   -0.6655</td> <td>    0.324</td> <td>   -2.055</td> <td> 0.041</td> <td>   -1.303</td> <td>   -0.028</td>\n",
              "</tr>\n",
              "<tr>\n",
              "  <th>PC11</th>      <td>   -1.6045</td> <td>    0.368</td> <td>   -4.359</td> <td> 0.000</td> <td>   -2.329</td> <td>   -0.880</td>\n",
              "</tr>\n",
              "<tr>\n",
              "  <th>PC12</th>      <td>   -0.0929</td> <td>    0.395</td> <td>   -0.236</td> <td> 0.814</td> <td>   -0.870</td> <td>    0.684</td>\n",
              "</tr>\n",
              "<tr>\n",
              "  <th>PC13</th>      <td>   -2.4286</td> <td>    0.618</td> <td>   -3.929</td> <td> 0.000</td> <td>   -3.645</td> <td>   -1.212</td>\n",
              "</tr>\n",
              "</table>\n",
              "<table class=\"simpletable\">\n",
              "<tr>\n",
              "  <th>Omnibus:</th>       <td>10.564</td> <th>  Durbin-Watson:     </th> <td>   2.040</td>\n",
              "</tr>\n",
              "<tr>\n",
              "  <th>Prob(Omnibus):</th> <td> 0.005</td> <th>  Jarque-Bera (JB):  </th> <td>  10.712</td>\n",
              "</tr>\n",
              "<tr>\n",
              "  <th>Skew:</th>          <td> 0.450</td> <th>  Prob(JB):          </th> <td> 0.00472</td>\n",
              "</tr>\n",
              "<tr>\n",
              "  <th>Kurtosis:</th>      <td> 3.190</td> <th>  Cond. No.          </th> <td>    10.3</td>\n",
              "</tr>\n",
              "</table><br/><br/>Notes:<br/>[1] Standard Errors assume that the covariance matrix of the errors is correctly specified."
            ],
            "text/plain": [
              "<class 'statsmodels.iolib.summary.Summary'>\n",
              "\"\"\"\n",
              "                            OLS Regression Results                            \n",
              "==============================================================================\n",
              "Dep. Variable:                   medv   R-squared:                       0.854\n",
              "Model:                            OLS   Adj. R-squared:                  0.847\n",
              "Method:                 Least Squares   F-statistic:                     130.5\n",
              "Date:                Fri, 16 Apr 2021   Prob (F-statistic):          8.68e-113\n",
              "Time:                        21:53:24   Log-Likelihood:                -715.47\n",
              "No. Observations:                 304   AIC:                             1459.\n",
              "Df Residuals:                     290   BIC:                             1511.\n",
              "Df Model:                          13                                         \n",
              "Covariance Type:            nonrobust                                         \n",
              "==============================================================================\n",
              "                 coef    std err          t      P>|t|      [0.025      0.975]\n",
              "------------------------------------------------------------------------------\n",
              "Intercept     21.1046      0.150    141.154      0.000      20.810      21.399\n",
              "PC1           -2.0225      0.060    -33.735      0.000      -2.140      -1.904\n",
              "PC2            0.3131      0.122      2.558      0.011       0.072       0.554\n",
              "PC3            2.5336      0.138     18.325      0.000       2.261       2.806\n",
              "PC4           -1.0087      0.156     -6.449      0.000      -1.316      -0.701\n",
              "PC5           -1.4983      0.166     -9.020      0.000      -1.825      -1.171\n",
              "PC6           -0.9171      0.180     -5.100      0.000      -1.271      -0.563\n",
              "PC7            1.1481      0.221      5.201      0.000       0.714       1.583\n",
              "PC8           -0.2285      0.231     -0.989      0.324      -0.684       0.226\n",
              "PC9            0.1372      0.301      0.456      0.648      -0.455       0.729\n",
              "PC10          -0.6655      0.324     -2.055      0.041      -1.303      -0.028\n",
              "PC11          -1.6045      0.368     -4.359      0.000      -2.329      -0.880\n",
              "PC12          -0.0929      0.395     -0.236      0.814      -0.870       0.684\n",
              "PC13          -2.4286      0.618     -3.929      0.000      -3.645      -1.212\n",
              "==============================================================================\n",
              "Omnibus:                       10.564   Durbin-Watson:                   2.040\n",
              "Prob(Omnibus):                  0.005   Jarque-Bera (JB):               10.712\n",
              "Skew:                           0.450   Prob(JB):                      0.00472\n",
              "Kurtosis:                       3.190   Cond. No.                         10.3\n",
              "==============================================================================\n",
              "\n",
              "Notes:\n",
              "[1] Standard Errors assume that the covariance matrix of the errors is correctly specified.\n",
              "\"\"\""
            ]
          },
          "execution_count": 86,
          "metadata": {},
          "output_type": "execute_result"
        }
      ],
      "source": [
        "lm_pc_new.summary()"
      ]
    },
    {
      "cell_type": "code",
      "execution_count": null,
      "id": "peripheral-mercy",
      "metadata": {
        "id": "peripheral-mercy"
      },
      "outputs": [],
      "source": [
        "test_pred_pc = lm_pc_new.predict(pc_test_new)\n",
        "train_pred_pc = lm_pc_new.predict(pc_train_new)"
      ]
    },
    {
      "cell_type": "code",
      "execution_count": null,
      "id": "acquired-channels",
      "metadata": {
        "id": "acquired-channels",
        "outputId": "94fd9fe6-3ac7-4fdb-9351-0fc3c6c3b30d"
      },
      "outputs": [
        {
          "data": {
            "text/plain": [
              "(4.956990365423043, 2.546149964740705)"
            ]
          },
          "execution_count": 91,
          "metadata": {},
          "output_type": "execute_result"
        }
      ],
      "source": [
        "np.sqrt(mean_squared_error(y_test,test_pred_pc)),np.sqrt(mean_squared_error(y_train_new,train_pred_pc))"
      ]
    },
    {
      "cell_type": "markdown",
      "id": "decreased-picnic",
      "metadata": {
        "id": "decreased-picnic"
      },
      "source": [
        "# 15/04/2020"
      ]
    },
    {
      "cell_type": "code",
      "execution_count": null,
      "id": "directed-arbitration",
      "metadata": {
        "id": "directed-arbitration"
      },
      "outputs": [],
      "source": [
        "from sklearn.linear_model import SGDRegressor"
      ]
    },
    {
      "cell_type": "code",
      "execution_count": null,
      "id": "constant-talent",
      "metadata": {
        "id": "constant-talent"
      },
      "outputs": [],
      "source": [
        "import pydataset\n",
        "df = pydataset.data('Boston')"
      ]
    },
    {
      "cell_type": "code",
      "execution_count": null,
      "id": "public-winner",
      "metadata": {
        "id": "public-winner",
        "outputId": "5318f25d-e770-4d4f-f668-13dd65c090ce"
      },
      "outputs": [
        {
          "data": {
            "text/html": [
              "<div>\n",
              "<style scoped>\n",
              "    .dataframe tbody tr th:only-of-type {\n",
              "        vertical-align: middle;\n",
              "    }\n",
              "\n",
              "    .dataframe tbody tr th {\n",
              "        vertical-align: top;\n",
              "    }\n",
              "\n",
              "    .dataframe thead th {\n",
              "        text-align: right;\n",
              "    }\n",
              "</style>\n",
              "<table border=\"1\" class=\"dataframe\">\n",
              "  <thead>\n",
              "    <tr style=\"text-align: right;\">\n",
              "      <th></th>\n",
              "      <th>crim</th>\n",
              "      <th>zn</th>\n",
              "      <th>indus</th>\n",
              "      <th>chas</th>\n",
              "      <th>nox</th>\n",
              "      <th>rm</th>\n",
              "      <th>age</th>\n",
              "      <th>dis</th>\n",
              "      <th>rad</th>\n",
              "      <th>tax</th>\n",
              "      <th>ptratio</th>\n",
              "      <th>black</th>\n",
              "      <th>lstat</th>\n",
              "      <th>medv</th>\n",
              "    </tr>\n",
              "  </thead>\n",
              "  <tbody>\n",
              "    <tr>\n",
              "      <th>1</th>\n",
              "      <td>0.00632</td>\n",
              "      <td>18.0</td>\n",
              "      <td>2.31</td>\n",
              "      <td>0</td>\n",
              "      <td>0.538</td>\n",
              "      <td>6.575</td>\n",
              "      <td>65.2</td>\n",
              "      <td>4.0900</td>\n",
              "      <td>1</td>\n",
              "      <td>296</td>\n",
              "      <td>15.3</td>\n",
              "      <td>396.90</td>\n",
              "      <td>4.98</td>\n",
              "      <td>24.0</td>\n",
              "    </tr>\n",
              "    <tr>\n",
              "      <th>2</th>\n",
              "      <td>0.02731</td>\n",
              "      <td>0.0</td>\n",
              "      <td>7.07</td>\n",
              "      <td>0</td>\n",
              "      <td>0.469</td>\n",
              "      <td>6.421</td>\n",
              "      <td>78.9</td>\n",
              "      <td>4.9671</td>\n",
              "      <td>2</td>\n",
              "      <td>242</td>\n",
              "      <td>17.8</td>\n",
              "      <td>396.90</td>\n",
              "      <td>9.14</td>\n",
              "      <td>21.6</td>\n",
              "    </tr>\n",
              "    <tr>\n",
              "      <th>3</th>\n",
              "      <td>0.02729</td>\n",
              "      <td>0.0</td>\n",
              "      <td>7.07</td>\n",
              "      <td>0</td>\n",
              "      <td>0.469</td>\n",
              "      <td>7.185</td>\n",
              "      <td>61.1</td>\n",
              "      <td>4.9671</td>\n",
              "      <td>2</td>\n",
              "      <td>242</td>\n",
              "      <td>17.8</td>\n",
              "      <td>392.83</td>\n",
              "      <td>4.03</td>\n",
              "      <td>34.7</td>\n",
              "    </tr>\n",
              "    <tr>\n",
              "      <th>4</th>\n",
              "      <td>0.03237</td>\n",
              "      <td>0.0</td>\n",
              "      <td>2.18</td>\n",
              "      <td>0</td>\n",
              "      <td>0.458</td>\n",
              "      <td>6.998</td>\n",
              "      <td>45.8</td>\n",
              "      <td>6.0622</td>\n",
              "      <td>3</td>\n",
              "      <td>222</td>\n",
              "      <td>18.7</td>\n",
              "      <td>394.63</td>\n",
              "      <td>2.94</td>\n",
              "      <td>33.4</td>\n",
              "    </tr>\n",
              "    <tr>\n",
              "      <th>5</th>\n",
              "      <td>0.06905</td>\n",
              "      <td>0.0</td>\n",
              "      <td>2.18</td>\n",
              "      <td>0</td>\n",
              "      <td>0.458</td>\n",
              "      <td>7.147</td>\n",
              "      <td>54.2</td>\n",
              "      <td>6.0622</td>\n",
              "      <td>3</td>\n",
              "      <td>222</td>\n",
              "      <td>18.7</td>\n",
              "      <td>396.90</td>\n",
              "      <td>5.33</td>\n",
              "      <td>36.2</td>\n",
              "    </tr>\n",
              "  </tbody>\n",
              "</table>\n",
              "</div>"
            ],
            "text/plain": [
              "      crim    zn  indus  chas    nox     rm   age     dis  rad  tax  ptratio  \\\n",
              "1  0.00632  18.0   2.31     0  0.538  6.575  65.2  4.0900    1  296     15.3   \n",
              "2  0.02731   0.0   7.07     0  0.469  6.421  78.9  4.9671    2  242     17.8   \n",
              "3  0.02729   0.0   7.07     0  0.469  7.185  61.1  4.9671    2  242     17.8   \n",
              "4  0.03237   0.0   2.18     0  0.458  6.998  45.8  6.0622    3  222     18.7   \n",
              "5  0.06905   0.0   2.18     0  0.458  7.147  54.2  6.0622    3  222     18.7   \n",
              "\n",
              "    black  lstat  medv  \n",
              "1  396.90   4.98  24.0  \n",
              "2  396.90   9.14  21.6  \n",
              "3  392.83   4.03  34.7  \n",
              "4  394.63   2.94  33.4  \n",
              "5  396.90   5.33  36.2  "
            ]
          },
          "execution_count": 4,
          "metadata": {},
          "output_type": "execute_result"
        }
      ],
      "source": [
        "df.head()"
      ]
    },
    {
      "cell_type": "code",
      "execution_count": null,
      "id": "placed-mineral",
      "metadata": {
        "id": "placed-mineral"
      },
      "outputs": [],
      "source": [
        "sgdreg = SGDRegressor(penalty='elasticnet',max_iter=1000,random_state=1000,verbose=True)\n",
        "# Loss = error term we can use MSE also\n",
        "# Penalty = bydefaut is Ridge L2\n",
        "# alpha = 0.0001 mean in elastic lasso will be cancelled so will have only ridge l2\n",
        "# l1_ratio=0 corresponds to L2 penalty, l1_ratio=1 to L1. Only used if `penalty` is 'elasticnet'.\n",
        "# fit_intercept = True ,it will find Beta 0 also\n",
        "# epoch -> means for every iteration data is taken randomly from train data that random data is called epoch\n",
        "# Shuffle = True mean for every epoch when epoch estimate the Bo so it needs to be shuffled so as to get unbaised estimate\n",
        "# Verbose -> will show what is happening in the backend\n",
        "# warm_start -> used when our max iter is 100 algorithm runs and gives us the estimates but when we want to run it for 200 iterations\n",
        "# we use warm_start so next time when the algorithm runs it will not repeat the previous iterations. it will continue from it\n",
        "# early stopping -> suppose if we reach least cost fun before the max iter it will check randomly if no further reduction in cost\n",
        "# it will stop there itself instead of running all the max iter which saves time"
      ]
    },
    {
      "cell_type": "code",
      "execution_count": null,
      "id": "geographic-locking",
      "metadata": {
        "id": "geographic-locking"
      },
      "outputs": [],
      "source": [
        "x = df.iloc[:,:-1]"
      ]
    },
    {
      "cell_type": "code",
      "execution_count": null,
      "id": "gothic-garlic",
      "metadata": {
        "id": "gothic-garlic"
      },
      "outputs": [],
      "source": [
        "y = df.medv"
      ]
    },
    {
      "cell_type": "code",
      "execution_count": null,
      "id": "hundred-shepherd",
      "metadata": {
        "id": "hundred-shepherd"
      },
      "outputs": [],
      "source": [
        "from sklearn.model_selection import train_test_split"
      ]
    },
    {
      "cell_type": "code",
      "execution_count": null,
      "id": "comprehensive-compatibility",
      "metadata": {
        "id": "comprehensive-compatibility"
      },
      "outputs": [],
      "source": [
        "x_train,x_test,y_train,y_test = train_test_split(x,y,test_size=0.3,random_state=0)"
      ]
    },
    {
      "cell_type": "code",
      "execution_count": null,
      "id": "numeric-consumption",
      "metadata": {
        "id": "numeric-consumption",
        "outputId": "92e57590-7641-401b-cb0a-49f5b2fed126"
      },
      "outputs": [
        {
          "name": "stdout",
          "output_type": "stream",
          "text": [
            "-- Epoch 1\n",
            "Norm: 1999999189409.40, NNZs: 13, Bias: -8266463021.714456, T: 354, Avg. loss: 190138896989584995273909731328.000000\n",
            "Total training time: 0.00 seconds.\n",
            "-- Epoch 2\n",
            "Norm: 836728129681.40, NNZs: 13, Bias: -3793445862.359491, T: 708, Avg. loss: 91540922891859913950260887552.000000\n",
            "Total training time: 0.00 seconds.\n",
            "-- Epoch 3\n",
            "Norm: 2084903629433.04, NNZs: 13, Bias: -11234828973.332525, T: 1062, Avg. loss: 72887509651651656625686577152.000000\n",
            "Total training time: 0.00 seconds.\n",
            "-- Epoch 4\n",
            "Norm: 2068659475282.18, NNZs: 13, Bias: -15340823415.934946, T: 1416, Avg. loss: 60625219984057226018418589696.000000\n",
            "Total training time: 0.00 seconds.\n",
            "-- Epoch 5\n",
            "Norm: 1518747987067.13, NNZs: 13, Bias: -12389727366.899286, T: 1770, Avg. loss: 55733162707309531378135072768.000000\n",
            "Total training time: 0.00 seconds.\n",
            "-- Epoch 6\n",
            "Norm: 1774881796600.48, NNZs: 13, Bias: -9867455221.660280, T: 2124, Avg. loss: 48144802626440241943947509760.000000\n",
            "Total training time: 0.01 seconds.\n",
            "-- Epoch 7\n",
            "Norm: 1994089080614.95, NNZs: 13, Bias: -12458937460.171352, T: 2478, Avg. loss: 44288295842375426367979257856.000000\n",
            "Total training time: 0.01 seconds.\n",
            "-- Epoch 8\n",
            "Norm: 1848578016464.87, NNZs: 13, Bias: -10313466528.161802, T: 2832, Avg. loss: 41075080232834964712362868736.000000\n",
            "Total training time: 0.01 seconds.\n",
            "-- Epoch 9\n",
            "Norm: 1794345514378.18, NNZs: 13, Bias: -447728912.865299, T: 3186, Avg. loss: 38005049426339516534495379456.000000\n",
            "Total training time: 0.01 seconds.\n",
            "-- Epoch 10\n",
            "Norm: 1664041471115.23, NNZs: 13, Bias: 4143308810.725713, T: 3540, Avg. loss: 35892966119304390475895537664.000000\n",
            "Total training time: 0.01 seconds.\n",
            "-- Epoch 11\n",
            "Norm: 2121448384973.75, NNZs: 13, Bias: 6235580406.419927, T: 3894, Avg. loss: 33772096549862098562153709568.000000\n",
            "Total training time: 0.01 seconds.\n",
            "-- Epoch 12\n",
            "Norm: 2011664130304.43, NNZs: 13, Bias: 7912397443.398903, T: 4248, Avg. loss: 34734497752324274242728230912.000000\n",
            "Total training time: 0.01 seconds.\n",
            "-- Epoch 13\n",
            "Norm: 1729954651120.77, NNZs: 13, Bias: 7900022821.215534, T: 4602, Avg. loss: 32063513219662509309947805696.000000\n",
            "Total training time: 0.01 seconds.\n",
            "-- Epoch 14\n",
            "Norm: 1726923124656.43, NNZs: 13, Bias: 7913782402.537898, T: 4956, Avg. loss: 32289603174308823065375539200.000000\n",
            "Total training time: 0.01 seconds.\n",
            "-- Epoch 15\n",
            "Norm: 1647583641681.82, NNZs: 13, Bias: 7913170539.631605, T: 5310, Avg. loss: 30310067460346750241031061504.000000\n",
            "Total training time: 0.01 seconds.\n",
            "-- Epoch 16\n",
            "Norm: 1483065701310.89, NNZs: 13, Bias: 6095500625.790421, T: 5664, Avg. loss: 29882219629815343626214965248.000000\n",
            "Total training time: 0.01 seconds.\n",
            "-- Epoch 17\n",
            "Norm: 1158263497439.50, NNZs: 13, Bias: 8396996905.635408, T: 6018, Avg. loss: 27892993271428665377720107008.000000\n",
            "Total training time: 0.01 seconds.\n",
            "-- Epoch 18\n",
            "Norm: 1374317221622.44, NNZs: 13, Bias: 7066416043.679991, T: 6372, Avg. loss: 26647455382853615181218447360.000000\n",
            "Total training time: 0.02 seconds.\n",
            "-- Epoch 19\n",
            "Norm: 1088170115930.48, NNZs: 13, Bias: 4961336848.381298, T: 6726, Avg. loss: 26529923463050928765865558016.000000\n",
            "Total training time: 0.02 seconds.\n",
            "-- Epoch 20\n",
            "Norm: 1339343092086.14, NNZs: 13, Bias: 860508735.561948, T: 7080, Avg. loss: 26062330658234316296881700864.000000\n",
            "Total training time: 0.02 seconds.\n",
            "-- Epoch 21\n",
            "Norm: 1207636458828.41, NNZs: 13, Bias: -2122946975.569737, T: 7434, Avg. loss: 25227879408457426100482473984.000000\n",
            "Total training time: 0.02 seconds.\n",
            "-- Epoch 22\n",
            "Norm: 1266299457142.21, NNZs: 13, Bias: 24608302.256614, T: 7788, Avg. loss: 23881545844895906492386902016.000000\n",
            "Total training time: 0.02 seconds.\n",
            "-- Epoch 23\n",
            "Norm: 1343135842849.53, NNZs: 13, Bias: -615419692.234878, T: 8142, Avg. loss: 22984470573536601243140489216.000000\n",
            "Total training time: 0.02 seconds.\n",
            "-- Epoch 24\n",
            "Norm: 1263628177771.04, NNZs: 13, Bias: 1190872661.469291, T: 8496, Avg. loss: 23612561124759868982654140416.000000\n",
            "Total training time: 0.02 seconds.\n",
            "-- Epoch 25\n",
            "Norm: 1146199031466.05, NNZs: 13, Bias: -4273720277.261680, T: 8850, Avg. loss: 22051083763817657121583923200.000000\n",
            "Total training time: 0.02 seconds.\n",
            "-- Epoch 26\n",
            "Norm: 806702750600.03, NNZs: 13, Bias: -3558564904.179137, T: 9204, Avg. loss: 22060414608407851085487669248.000000\n",
            "Total training time: 0.02 seconds.\n",
            "-- Epoch 27\n",
            "Norm: 971503462231.81, NNZs: 13, Bias: -1528534201.875056, T: 9558, Avg. loss: 21308269371368338408570093568.000000\n",
            "Total training time: 0.02 seconds.\n",
            "-- Epoch 28\n",
            "Norm: 761625576801.37, NNZs: 13, Bias: -3539744235.228300, T: 9912, Avg. loss: 21225898263947787263339921408.000000\n",
            "Total training time: 0.02 seconds.\n",
            "-- Epoch 29\n",
            "Norm: 1017895602312.49, NNZs: 13, Bias: -6599079466.488603, T: 10266, Avg. loss: 20600363797690873087826853888.000000\n",
            "Total training time: 0.02 seconds.\n",
            "-- Epoch 30\n",
            "Norm: 892052805170.33, NNZs: 13, Bias: -5245497330.973280, T: 10620, Avg. loss: 20306637220755504627158351872.000000\n",
            "Total training time: 0.02 seconds.\n",
            "-- Epoch 31\n",
            "Norm: 1336755583004.91, NNZs: 13, Bias: -6054447879.787384, T: 10974, Avg. loss: 19602575886968279940632412160.000000\n",
            "Total training time: 0.03 seconds.\n",
            "-- Epoch 32\n",
            "Norm: 1062283869047.02, NNZs: 13, Bias: -6476360716.180181, T: 11328, Avg. loss: 20632859135364990483164037120.000000\n",
            "Total training time: 0.03 seconds.\n",
            "-- Epoch 33\n",
            "Norm: 1059716089795.70, NNZs: 13, Bias: -3795502176.156750, T: 11682, Avg. loss: 20332767502980934731124703232.000000\n",
            "Total training time: 0.03 seconds.\n",
            "-- Epoch 34\n",
            "Norm: 1047091516772.00, NNZs: 13, Bias: 213623401.765606, T: 12036, Avg. loss: 18908351657271266577360093184.000000\n",
            "Total training time: 0.03 seconds.\n",
            "-- Epoch 35\n",
            "Norm: 896818269687.12, NNZs: 13, Bias: 5913258038.476378, T: 12390, Avg. loss: 18887022879534459966315298816.000000\n",
            "Total training time: 0.03 seconds.\n",
            "-- Epoch 36\n",
            "Norm: 1331953769052.31, NNZs: 13, Bias: 6624314495.374528, T: 12744, Avg. loss: 18495353815384917526704029696.000000\n",
            "Total training time: 0.03 seconds.\n",
            "-- Epoch 37\n",
            "Norm: 779571777114.42, NNZs: 13, Bias: 6627308371.030691, T: 13098, Avg. loss: 19720764979206714338278637568.000000\n",
            "Total training time: 0.03 seconds.\n",
            "-- Epoch 38\n",
            "Norm: 836703943971.22, NNZs: 13, Bias: 3845755903.512463, T: 13452, Avg. loss: 17658991426724218894800650240.000000\n",
            "Total training time: 0.03 seconds.\n",
            "-- Epoch 39\n",
            "Norm: 1147241406275.06, NNZs: 13, Bias: 1986501739.653209, T: 13806, Avg. loss: 17671822588930064921391005696.000000\n",
            "Total training time: 0.03 seconds.\n",
            "-- Epoch 40\n",
            "Norm: 923458067326.86, NNZs: 13, Bias: 4154489166.534047, T: 14160, Avg. loss: 18065876270912756079413690368.000000\n",
            "Total training time: 0.03 seconds.\n",
            "-- Epoch 41\n",
            "Norm: 1118572316553.56, NNZs: 13, Bias: 950073856.604322, T: 14514, Avg. loss: 17708194802892150324187889664.000000\n",
            "Total training time: 0.03 seconds.\n",
            "-- Epoch 42\n",
            "Norm: 851045714095.69, NNZs: 13, Bias: 958822864.980749, T: 14868, Avg. loss: 17685433193885796245761425408.000000\n",
            "Total training time: 0.03 seconds.\n",
            "-- Epoch 43\n",
            "Norm: 815168512788.24, NNZs: 13, Bias: 964677836.503320, T: 15222, Avg. loss: 17629680363645285517196525568.000000\n",
            "Total training time: 0.03 seconds.\n",
            "-- Epoch 44\n",
            "Norm: 606720152928.03, NNZs: 13, Bias: -2153260192.125518, T: 15576, Avg. loss: 16465164039123005041299947520.000000\n",
            "Total training time: 0.03 seconds.\n",
            "-- Epoch 45\n",
            "Norm: 598918063849.51, NNZs: 13, Bias: -4110097455.404771, T: 15930, Avg. loss: 17029421623737540777219194880.000000\n",
            "Total training time: 0.03 seconds.\n",
            "-- Epoch 46\n",
            "Norm: 984336443575.15, NNZs: 13, Bias: -8312576086.851343, T: 16284, Avg. loss: 16985195894341759850170548224.000000\n",
            "Total training time: 0.03 seconds.\n",
            "-- Epoch 47\n",
            "Norm: 766576909999.02, NNZs: 13, Bias: -5594040013.331319, T: 16638, Avg. loss: 17040837926704394475319328768.000000\n",
            "Total training time: 0.04 seconds.\n",
            "-- Epoch 48\n",
            "Norm: 811584182738.23, NNZs: 13, Bias: -9110613969.448195, T: 16992, Avg. loss: 16230332335726600156377776128.000000\n",
            "Total training time: 0.04 seconds.\n",
            "-- Epoch 49\n",
            "Norm: 983670973468.04, NNZs: 13, Bias: -9376372647.926521, T: 17346, Avg. loss: 15959492619079454638754234368.000000\n",
            "Total training time: 0.04 seconds.\n",
            "-- Epoch 50\n",
            "Norm: 932312665282.61, NNZs: 13, Bias: -6263036756.048024, T: 17700, Avg. loss: 15812525341144472100758618112.000000\n",
            "Total training time: 0.04 seconds.\n",
            "-- Epoch 51\n",
            "Norm: 767126665982.20, NNZs: 13, Bias: -6636442824.980680, T: 18054, Avg. loss: 16124667633037051701778972672.000000\n",
            "Total training time: 0.04 seconds.\n",
            "-- Epoch 52\n",
            "Norm: 728515432964.34, NNZs: 13, Bias: -5511536821.080585, T: 18408, Avg. loss: 15639308616477215460826284032.000000\n",
            "Total training time: 0.04 seconds.\n",
            "-- Epoch 53\n",
            "Norm: 687251092708.79, NNZs: 13, Bias: -6196966222.189845, T: 18762, Avg. loss: 15044514567935997094630785024.000000\n",
            "Total training time: 0.04 seconds.\n",
            "-- Epoch 54\n",
            "Norm: 666385720074.55, NNZs: 13, Bias: -6757135919.344536, T: 19116, Avg. loss: 15220762818308409930056466432.000000\n",
            "Total training time: 0.04 seconds.\n",
            "-- Epoch 55\n",
            "Norm: 692520689319.23, NNZs: 13, Bias: -9959937996.730400, T: 19470, Avg. loss: 15225892660274428157894852608.000000\n",
            "Total training time: 0.04 seconds.\n",
            "-- Epoch 56\n",
            "Norm: 809151888973.35, NNZs: 13, Bias: -9956274341.781593, T: 19824, Avg. loss: 14630451276399002433584365568.000000\n",
            "Total training time: 0.04 seconds.\n",
            "-- Epoch 57\n",
            "Norm: 927530042992.37, NNZs: 13, Bias: -10921463510.464481, T: 20178, Avg. loss: 14344376412069242408735342592.000000\n",
            "Total training time: 0.04 seconds.\n",
            "-- Epoch 58\n",
            "Norm: 934400867304.47, NNZs: 13, Bias: -13984353612.915707, T: 20532, Avg. loss: 14627501348112642998129393664.000000\n",
            "Total training time: 0.04 seconds.\n",
            "-- Epoch 59\n",
            "Norm: 976435734696.49, NNZs: 13, Bias: -15650494324.129158, T: 20886, Avg. loss: 14710364288099486191191064576.000000\n",
            "Total training time: 0.04 seconds.\n",
            "-- Epoch 60\n",
            "Norm: 809143378294.93, NNZs: 13, Bias: -12914119841.435253, T: 21240, Avg. loss: 14208153598312794210804170752.000000\n",
            "Total training time: 0.04 seconds.\n",
            "-- Epoch 61\n",
            "Norm: 676476598381.97, NNZs: 13, Bias: -11266965881.686962, T: 21594, Avg. loss: 14753581891485667870514348032.000000\n",
            "Total training time: 0.05 seconds.\n",
            "-- Epoch 62\n",
            "Norm: 909837925561.45, NNZs: 13, Bias: -13063085214.566425, T: 21948, Avg. loss: 13805612654813757004371197952.000000\n",
            "Total training time: 0.05 seconds.\n",
            "-- Epoch 63\n",
            "Norm: 776662045018.54, NNZs: 13, Bias: -9307428899.643204, T: 22302, Avg. loss: 14276045760678147266967502848.000000\n",
            "Total training time: 0.05 seconds.\n",
            "-- Epoch 64\n",
            "Norm: 827332186370.73, NNZs: 13, Bias: -12573943397.368143, T: 22656, Avg. loss: 14336615060710872007003078656.000000\n",
            "Total training time: 0.05 seconds.\n",
            "-- Epoch 65\n",
            "Norm: 1066681369341.52, NNZs: 13, Bias: -15075257460.798180, T: 23010, Avg. loss: 13693912389459212942299889664.000000\n",
            "Total training time: 0.05 seconds.\n",
            "-- Epoch 66\n",
            "Norm: 918807557425.02, NNZs: 13, Bias: -12463553799.601969, T: 23364, Avg. loss: 13415467194615484164826202112.000000\n",
            "Total training time: 0.05 seconds.\n",
            "-- Epoch 67\n",
            "Norm: 1043692986590.10, NNZs: 13, Bias: -14082505671.590034, T: 23718, Avg. loss: 13788578466564031517634330624.000000\n",
            "Total training time: 0.05 seconds.\n",
            "-- Epoch 68\n",
            "Norm: 1063510035236.34, NNZs: 13, Bias: -19178574289.056503, T: 24072, Avg. loss: 13367450596912416716446760960.000000\n",
            "Total training time: 0.05 seconds.\n",
            "-- Epoch 69\n",
            "Norm: 887134024398.31, NNZs: 13, Bias: -19541708168.083305, T: 24426, Avg. loss: 13693191432478410530795552768.000000\n",
            "Total training time: 0.05 seconds.\n",
            "-- Epoch 70\n",
            "Norm: 910479725163.48, NNZs: 13, Bias: -18454023563.100029, T: 24780, Avg. loss: 13716233003526431973958483968.000000\n",
            "Total training time: 0.05 seconds.\n",
            "-- Epoch 71\n",
            "Norm: 992901646377.78, NNZs: 13, Bias: -20043742151.605076, T: 25134, Avg. loss: 14120428623980288572414492672.000000\n",
            "Total training time: 0.05 seconds.\n",
            "-- Epoch 72\n",
            "Norm: 908646177849.44, NNZs: 13, Bias: -14771940382.072529, T: 25488, Avg. loss: 13394654089527689966277099520.000000\n",
            "Total training time: 0.05 seconds.\n",
            "-- Epoch 73\n",
            "Norm: 1028513012699.39, NNZs: 13, Bias: -18274837817.999607, T: 25842, Avg. loss: 13223218513378882253530071040.000000\n",
            "Total training time: 0.06 seconds.\n",
            "-- Epoch 74\n",
            "Norm: 898262975348.67, NNZs: 13, Bias: -10195486598.599173, T: 26196, Avg. loss: 13564443030726274621760339968.000000\n",
            "Total training time: 0.06 seconds.\n",
            "-- Epoch 75\n",
            "Norm: 630522075952.42, NNZs: 13, Bias: -6916433004.102593, T: 26550, Avg. loss: 12782458793486741434603143168.000000\n",
            "Total training time: 0.06 seconds.\n",
            "-- Epoch 76\n",
            "Norm: 643307420868.16, NNZs: 13, Bias: -11606089683.657181, T: 26904, Avg. loss: 12924847700564382113406648320.000000\n",
            "Total training time: 0.06 seconds.\n",
            "-- Epoch 77\n",
            "Norm: 659227224660.11, NNZs: 13, Bias: -11371404925.065344, T: 27258, Avg. loss: 12296890152339036401618124800.000000\n",
            "Total training time: 0.06 seconds.\n",
            "-- Epoch 78\n",
            "Norm: 980648071457.39, NNZs: 13, Bias: -10927648614.736637, T: 27612, Avg. loss: 12330347879686645849379569664.000000\n",
            "Total training time: 0.06 seconds.\n",
            "-- Epoch 79\n",
            "Norm: 768665044980.08, NNZs: 13, Bias: -8144611221.634464, T: 27966, Avg. loss: 12891517625929226823873331200.000000\n",
            "Total training time: 0.06 seconds.\n",
            "-- Epoch 80\n",
            "Norm: 877958420040.40, NNZs: 13, Bias: -7930944301.495384, T: 28320, Avg. loss: 12518585765407653060262494208.000000\n",
            "Total training time: 0.06 seconds.\n",
            "-- Epoch 81\n",
            "Norm: 666778119505.91, NNZs: 13, Bias: -10670211950.216051, T: 28674, Avg. loss: 12593520242691228818571526144.000000\n",
            "Total training time: 0.06 seconds.\n",
            "-- Epoch 82\n",
            "Norm: 790347874723.83, NNZs: 13, Bias: -7606014410.561937, T: 29028, Avg. loss: 11831046668928721933800833024.000000\n",
            "Total training time: 0.06 seconds.\n",
            "-- Epoch 83\n",
            "Norm: 937459075520.85, NNZs: 13, Bias: -6284009688.317423, T: 29382, Avg. loss: 12004100960731551746190475264.000000\n",
            "Total training time: 0.06 seconds.\n",
            "-- Epoch 84\n",
            "Norm: 911366285512.24, NNZs: 13, Bias: -7944840230.084738, T: 29736, Avg. loss: 12440917083815847191350607872.000000\n",
            "Total training time: 0.06 seconds.\n",
            "-- Epoch 85\n",
            "Norm: 926203700792.60, NNZs: 13, Bias: -8419551886.627435, T: 30090, Avg. loss: 12308933093995345920156237824.000000\n",
            "Total training time: 0.06 seconds.\n",
            "-- Epoch 86\n",
            "Norm: 946199170585.77, NNZs: 13, Bias: -8419204439.013051, T: 30444, Avg. loss: 12414655626952278528929824768.000000\n",
            "Total training time: 0.07 seconds.\n",
            "-- Epoch 87\n",
            "Norm: 925326373156.00, NNZs: 13, Bias: -7429978755.345872, T: 30798, Avg. loss: 12076356097494669582609154048.000000\n",
            "Total training time: 0.07 seconds.\n",
            "Convergence after 87 epochs took 0.07 seconds\n"
          ]
        },
        {
          "data": {
            "text/plain": [
              "SGDRegressor(penalty='elasticnet', random_state=1000, verbose=True)"
            ]
          },
          "execution_count": 10,
          "metadata": {},
          "output_type": "execute_result"
        }
      ],
      "source": [
        "sgdreg.fit(x_train,y_train)"
      ]
    },
    {
      "cell_type": "code",
      "execution_count": null,
      "id": "national-acoustic",
      "metadata": {
        "id": "national-acoustic",
        "outputId": "4bf7dede-170e-49e5-f0f1-bddbb8f4a17b"
      },
      "outputs": [
        {
          "data": {
            "text/plain": [
              "array([-3.13466421e+11,  4.11455055e+11,  1.45677634e+11, -4.38957012e+10,\n",
              "       -6.91287487e+09, -2.41228613e+11,  6.03313183e+10, -2.90291279e+11,\n",
              "       -8.12616042e+10, -8.91651595e+10, -1.28942251e+11, -4.23844409e+11,\n",
              "       -4.56674550e+11])"
            ]
          },
          "execution_count": 11,
          "metadata": {},
          "output_type": "execute_result"
        }
      ],
      "source": [
        "sgdreg.coef_"
      ]
    },
    {
      "cell_type": "code",
      "execution_count": null,
      "id": "musical-burden",
      "metadata": {
        "id": "musical-burden"
      },
      "outputs": [],
      "source": [
        "pred_test = sgdreg.predict(x_test)\n",
        "pred_train = sgdreg.predict(x_train)"
      ]
    },
    {
      "cell_type": "code",
      "execution_count": null,
      "id": "portable-source",
      "metadata": {
        "id": "portable-source",
        "outputId": "5f521981-b1a4-4e5d-b264-d09c8f5000b7"
      },
      "outputs": [
        {
          "data": {
            "text/plain": [
              "(193524656407357.56, 191907094286730.28)"
            ]
          },
          "execution_count": 17,
          "metadata": {},
          "output_type": "execute_result"
        }
      ],
      "source": [
        "# we dont need nomality of y whie doing SGD why because here we dont have any statistical assumptions so no need to check y normality\n",
        "# when our response variable is not normal then use MAE as cost function\n",
        "np.sqrt(mean_squared_error(y_train,pred_train)),np.sqrt(mean_squared_error(y_test,pred_test))"
      ]
    },
    {
      "cell_type": "markdown",
      "id": "animal-recycling",
      "metadata": {
        "id": "animal-recycling"
      },
      "source": [
        "# 16/04/2020"
      ]
    },
    {
      "cell_type": "raw",
      "id": "korean-immune",
      "metadata": {
        "id": "korean-immune"
      },
      "source": [
        "We can go with SGD when ols harmatrix is singular so we cannot estimate coeff using ols\n",
        "When our model is having high multicollinearity we go with PCA on x variables\n",
        "Bur the dropback of PCA is that it is the linear combination of all the independent variable\n",
        "Since PC will give the significance of PC's itself which does not tell which individual variable coeff is significant\n",
        "So we cannot estimate which coeff (variable) is significant from others that is the dropback in PCA\n",
        "If dont want to loose this information then we should not go for PCA instead we can do for SGD \n",
        "when our data has heavy multicollinearity\n",
        "For proceeding with SGD variable should be numerical (not necessarily be normal) (not necessarily be a continous variable) (0 and 1 also allowed in SGD)"
      ]
    },
    {
      "cell_type": "code",
      "execution_count": null,
      "id": "tropical-ontario",
      "metadata": {
        "id": "tropical-ontario"
      },
      "outputs": [],
      "source": [
        "from sklearn.model_selection import GridSearchCV\n",
        "from sklearn.linear_model import SGDRegressor"
      ]
    },
    {
      "cell_type": "code",
      "execution_count": null,
      "id": "selective-review",
      "metadata": {
        "id": "selective-review"
      },
      "outputs": [],
      "source": [
        "sgdr = SGDRegressor(early_stopping=True)\n",
        "param_grid = {'loss':['squared_loss','huber','epsilon_insensitive','squared_epsilon_insensitive'],'penalty':['L1','L2','elasticnet'],\n",
        "              'alpha':np.linspace(0.0001,1,5),'epsilon':np.linspace(0.1,1,5),\n",
        "                                                               'learning_rate':['invscaling','constant','optimal','adaptive']}"
      ]
    },
    {
      "cell_type": "code",
      "execution_count": null,
      "id": "different-burke",
      "metadata": {
        "id": "different-burke"
      },
      "outputs": [],
      "source": [
        "from sklearn.model_selection import RepeatedKFold\n",
        "rkf = RepeatedKFold(n_splits=10,n_repeats=10)"
      ]
    },
    {
      "cell_type": "code",
      "execution_count": null,
      "id": "roman-relaxation",
      "metadata": {
        "id": "roman-relaxation"
      },
      "outputs": [],
      "source": [
        "grid_model = GridSearchCV(estimator=sgdr,param_grid=param_grid,cv=5,n_jobs=-1) # all possible combination is GSCV"
      ]
    },
    {
      "cell_type": "code",
      "execution_count": null,
      "id": "powerful-least",
      "metadata": {
        "id": "powerful-least"
      },
      "outputs": [],
      "source": [
        "import pydataset\n",
        "df = pydataset.data('Boston')\n",
        "x = df.iloc[:,:-1]\n",
        "y = df.medv"
      ]
    },
    {
      "cell_type": "code",
      "execution_count": null,
      "id": "seeing-identification",
      "metadata": {
        "id": "seeing-identification"
      },
      "outputs": [],
      "source": [
        "from sklearn.model_selection import train_test_split "
      ]
    },
    {
      "cell_type": "code",
      "execution_count": null,
      "id": "engaging-projector",
      "metadata": {
        "id": "engaging-projector"
      },
      "outputs": [],
      "source": [
        "x_train,x_test,y_train,y_test = train_test_split(x,y,test_size=0.3,random_state=100)"
      ]
    },
    {
      "cell_type": "code",
      "execution_count": null,
      "id": "essential-there",
      "metadata": {
        "id": "essential-there",
        "outputId": "5823e63b-e044-4af7-cfdd-9fbcf30cdd91"
      },
      "outputs": [
        {
          "data": {
            "text/plain": [
              "GridSearchCV(cv=5, estimator=SGDRegressor(early_stopping=True), n_jobs=-1,\n",
              "             param_grid={'alpha': array([1.00000e-04, 2.50075e-01, 5.00050e-01, 7.50025e-01, 1.00000e+00]),\n",
              "                         'epsilon': array([0.1  , 0.325, 0.55 , 0.775, 1.   ]),\n",
              "                         'learning_rate': ['invscaling', 'constant', 'optimal',\n",
              "                                           'adaptive'],\n",
              "                         'loss': ['squared_loss', 'huber',\n",
              "                                  'epsilon_insensitive',\n",
              "                                  'squared_epsilon_insensitive'],\n",
              "                         'penalty': ['L1', 'L2', 'elasticnet']})"
            ]
          },
          "execution_count": 28,
          "metadata": {},
          "output_type": "execute_result"
        }
      ],
      "source": [
        "grid_model.fit(x_train,y_train)"
      ]
    },
    {
      "cell_type": "code",
      "execution_count": null,
      "id": "premier-syracuse",
      "metadata": {
        "id": "premier-syracuse",
        "outputId": "95656d5b-2954-41b8-b1c3-1631896934dd"
      },
      "outputs": [
        {
          "data": {
            "text/plain": [
              "SGDRegressor(early_stopping=True, learning_rate='adaptive', loss='huber',\n",
              "             penalty='L2')"
            ]
          },
          "execution_count": 29,
          "metadata": {},
          "output_type": "execute_result"
        }
      ],
      "source": [
        "grid_model.best_estimator_"
      ]
    },
    {
      "cell_type": "code",
      "execution_count": null,
      "id": "gentle-queens",
      "metadata": {
        "id": "gentle-queens",
        "outputId": "d502a582-4543-4b2a-c0f7-b09de9b5001c"
      },
      "outputs": [
        {
          "data": {
            "text/plain": [
              "{'alpha': 0.0001,\n",
              " 'epsilon': 0.1,\n",
              " 'learning_rate': 'adaptive',\n",
              " 'loss': 'huber',\n",
              " 'penalty': 'L2'}"
            ]
          },
          "execution_count": 30,
          "metadata": {},
          "output_type": "execute_result"
        }
      ],
      "source": [
        "grid_model.best_params_"
      ]
    },
    {
      "cell_type": "code",
      "execution_count": null,
      "id": "stopped-tennis",
      "metadata": {
        "id": "stopped-tennis"
      },
      "outputs": [],
      "source": [
        "sgdr_new = SGDRegressor(alpha=0.0001, epsilon=0.1, learning_rate='adaptive', loss='huber',\n",
        "             penalty='L2')"
      ]
    },
    {
      "cell_type": "code",
      "execution_count": null,
      "id": "filled-television",
      "metadata": {
        "id": "filled-television",
        "outputId": "322fe210-12f2-4481-c20a-acebf184bd3b"
      },
      "outputs": [
        {
          "data": {
            "text/plain": [
              "SGDRegressor(learning_rate='adaptive', loss='huber', penalty='L2')"
            ]
          },
          "execution_count": 32,
          "metadata": {},
          "output_type": "execute_result"
        }
      ],
      "source": [
        "sgdr_new.fit(x_train,y_train)"
      ]
    },
    {
      "cell_type": "code",
      "execution_count": null,
      "id": "polished-filling",
      "metadata": {
        "id": "polished-filling",
        "outputId": "e9e0c203-4e12-444e-ad0a-c39f9319b668"
      },
      "outputs": [
        {
          "data": {
            "text/plain": [
              "array([-0.10344326,  0.10025727, -0.28450358, -0.01079975,  0.00433625,\n",
              "        0.27328237,  0.12474103,  0.16406152,  0.10307831,  0.00642443,\n",
              "        0.18382682,  0.04173156, -0.74351036])"
            ]
          },
          "execution_count": 33,
          "metadata": {},
          "output_type": "execute_result"
        }
      ],
      "source": [
        "sgdr_new.coef_"
      ]
    },
    {
      "cell_type": "code",
      "execution_count": null,
      "id": "recreational-receiver",
      "metadata": {
        "id": "recreational-receiver"
      },
      "outputs": [],
      "source": [
        "from sklearn.metrics import mean_squared_error"
      ]
    },
    {
      "cell_type": "code",
      "execution_count": null,
      "id": "coated-portuguese",
      "metadata": {
        "id": "coated-portuguese"
      },
      "outputs": [],
      "source": [
        "y_pred = sgdr_new.predict(x_test)"
      ]
    },
    {
      "cell_type": "code",
      "execution_count": null,
      "id": "sporting-mobile",
      "metadata": {
        "id": "sporting-mobile",
        "outputId": "87fcb8db-12d4-48e9-d4ec-2928cbbc4497"
      },
      "outputs": [
        {
          "data": {
            "text/plain": [
              "60.92056639178719"
            ]
          },
          "execution_count": 36,
          "metadata": {},
          "output_type": "execute_result"
        }
      ],
      "source": [
        "mse_test = mean_squared_error(y_test,y_pred)\n",
        "mse_test"
      ]
    },
    {
      "cell_type": "code",
      "execution_count": null,
      "id": "spoken-accountability",
      "metadata": {
        "id": "spoken-accountability"
      },
      "outputs": [],
      "source": [
        "y_train_pred = sgdr_new.predict(x_train)"
      ]
    },
    {
      "cell_type": "code",
      "execution_count": null,
      "id": "absolute-elevation",
      "metadata": {
        "id": "absolute-elevation"
      },
      "outputs": [],
      "source": [
        "mse_train = mean_squared_error(y_train,y_train_pred)"
      ]
    },
    {
      "cell_type": "code",
      "execution_count": null,
      "id": "treated-circle",
      "metadata": {
        "id": "treated-circle",
        "outputId": "da6d22a0-0577-4851-fbed-5793f1b054a6"
      },
      "outputs": [
        {
          "data": {
            "text/plain": [
              "47.48908167922223"
            ]
          },
          "execution_count": 39,
          "metadata": {},
          "output_type": "execute_result"
        }
      ],
      "source": [
        "mse_train"
      ]
    },
    {
      "cell_type": "code",
      "execution_count": null,
      "id": "superior-express",
      "metadata": {
        "id": "superior-express",
        "outputId": "9245c443-56d3-4636-cbdd-052c3a4a8866"
      },
      "outputs": [
        {
          "data": {
            "text/plain": [
              "(7.805162803669581, 6.89123223228054)"
            ]
          },
          "execution_count": 40,
          "metadata": {},
          "output_type": "execute_result"
        }
      ],
      "source": [
        "np.sqrt(mse_test),np.sqrt(mse_train)"
      ]
    },
    {
      "cell_type": "code",
      "execution_count": null,
      "id": "correct-peoples",
      "metadata": {
        "id": "correct-peoples"
      },
      "outputs": [],
      "source": [
        ""
      ]
    }
  ],
  "metadata": {
    "kernelspec": {
      "display_name": "Python 3",
      "language": "python",
      "name": "python3"
    },
    "language_info": {
      "codemirror_mode": {
        "name": "ipython",
        "version": 3
      },
      "file_extension": ".py",
      "mimetype": "text/x-python",
      "name": "python",
      "nbconvert_exporter": "python",
      "pygments_lexer": "ipython3",
      "version": "3.8.8"
    },
    "varInspector": {
      "cols": {
        "lenName": 16,
        "lenType": 16,
        "lenVar": 40
      },
      "kernels_config": {
        "python": {
          "delete_cmd_postfix": "",
          "delete_cmd_prefix": "del ",
          "library": "var_list.py",
          "varRefreshCmd": "print(var_dic_list())"
        },
        "r": {
          "delete_cmd_postfix": ") ",
          "delete_cmd_prefix": "rm(",
          "library": "var_list.r",
          "varRefreshCmd": "cat(var_dic_list()) "
        }
      },
      "types_to_exclude": [
        "module",
        "function",
        "builtin_function_or_method",
        "instance",
        "_Feature"
      ],
      "window_display": false
    },
    "colab": {
      "name": "PGA17_ML_3_Prog.ipynb",
      "provenance": []
    }
  },
  "nbformat": 4,
  "nbformat_minor": 5
}